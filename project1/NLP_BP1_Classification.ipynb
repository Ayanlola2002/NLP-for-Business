{
  "nbformat": 4,
  "nbformat_minor": 0,
  "metadata": {
    "colab": {
      "name": "NLP-BP1_Classification.ipynb",
      "provenance": [],
      "collapsed_sections": []
    },
    "kernelspec": {
      "name": "python3",
      "display_name": "Python 3"
    },
    "language_info": {
      "name": "python"
    }
  },
  "cells": [
    {
      "cell_type": "markdown",
      "source": [
        "\n",
        "\n",
        "> **AUTHOR** : Ritika Gupta<br>\n",
        "**OBJECTIVE** : To classify online games as safe or unsafe based on reviews.\n",
        "\n",
        "\n",
        "\n",
        "\n",
        "\n",
        "\n"
      ],
      "metadata": {
        "id": "GGk5juvL4Vbc"
      }
    },
    {
      "cell_type": "code",
      "source": [
        "!pip install contractions"
      ],
      "metadata": {
        "colab": {
          "base_uri": "https://localhost:8080/"
        },
        "id": "q-ZBCRNRRhp1",
        "outputId": "7267684c-44e1-4ce1-df3c-69d820d6255c"
      },
      "execution_count": 4,
      "outputs": [
        {
          "output_type": "stream",
          "name": "stdout",
          "text": [
            "Collecting contractions\n",
            "  Downloading contractions-0.1.66-py2.py3-none-any.whl (8.0 kB)\n",
            "Collecting textsearch>=0.0.21\n",
            "  Downloading textsearch-0.0.21-py2.py3-none-any.whl (7.5 kB)\n",
            "Collecting anyascii\n",
            "  Downloading anyascii-0.3.0-py3-none-any.whl (284 kB)\n",
            "\u001b[K     |████████████████████████████████| 284 kB 8.5 MB/s \n",
            "\u001b[?25hCollecting pyahocorasick\n",
            "  Downloading pyahocorasick-1.4.4-cp37-cp37m-manylinux_2_17_x86_64.manylinux2014_x86_64.whl (106 kB)\n",
            "\u001b[K     |████████████████████████████████| 106 kB 52.0 MB/s \n",
            "\u001b[?25hInstalling collected packages: pyahocorasick, anyascii, textsearch, contractions\n",
            "Successfully installed anyascii-0.3.0 contractions-0.1.66 pyahocorasick-1.4.4 textsearch-0.0.21\n"
          ]
        }
      ]
    },
    {
      "cell_type": "code",
      "execution_count": 32,
      "metadata": {
        "id": "ER16p8gw3wWn",
        "colab": {
          "base_uri": "https://localhost:8080/"
        },
        "outputId": "ffb37e06-0240-4592-efda-03107641841d"
      },
      "outputs": [
        {
          "output_type": "stream",
          "name": "stdout",
          "text": [
            "[nltk_data] Downloading package punkt to /root/nltk_data...\n",
            "[nltk_data]   Package punkt is already up-to-date!\n",
            "[nltk_data] Downloading package stopwords to /root/nltk_data...\n",
            "[nltk_data]   Package stopwords is already up-to-date!\n",
            "[nltk_data] Downloading package wordnet to /root/nltk_data...\n",
            "[nltk_data]   Package wordnet is already up-to-date!\n"
          ]
        }
      ],
      "source": [
        "import pandas as pd \n",
        "import numpy as np\n",
        "#----------For EDA ------------\n",
        "import seaborn as sns\n",
        "import matplotlib.pyplot as plt\n",
        "import warnings\n",
        "warnings.filterwarnings(\"ignore\")\n",
        "#------- For Preprocessing Text Data--------\n",
        "import re\n",
        "import contractions\n",
        "import nltk\n",
        "nltk.download('punkt')\n",
        "nltk.download('stopwords')\n",
        "nltk.download('wordnet')\n",
        "from nltk.corpus import stopwords\n",
        "from nltk.tokenize import word_tokenize \n",
        "from nltk.stem import WordNetLemmatizer\n",
        "#----------For Splitting DataSet \n",
        "from sklearn.model_selection import train_test_split\n",
        "\n",
        "#-------For Word Vectors\n",
        "from sklearn.feature_extraction.text import CountVectorizer, TfidfVectorizer\n",
        "#-------For Model Building\n",
        "#from sklearn.naive_bayes import MultinomialNB\n",
        "#from sklearn.svm import LinearSVC, SVC\n",
        "from sklearn import metrics\n",
        "from sklearn.ensemble import RandomForestClassifier,GradientBoostingClassifier\n",
        "\n",
        "from sklearn.metrics  import ConfusionMatrixDisplay\n",
        "import matplotlib.pyplot as plt"
      ]
    },
    {
      "cell_type": "code",
      "source": [
        "data=pd.read_csv('game_reviews.csv')\n",
        "data.head()"
      ],
      "metadata": {
        "colab": {
          "base_uri": "https://localhost:8080/",
          "height": 206
        },
        "id": "nXYT8_Mh5jv6",
        "outputId": "2bd2deaf-c84e-4536-96eb-1f2788117896"
      },
      "execution_count": 7,
      "outputs": [
        {
          "output_type": "execute_result",
          "data": {
            "text/html": [
              "\n",
              "  <div id=\"df-64b6a736-4b77-45cb-9607-394bbc602a44\">\n",
              "    <div class=\"colab-df-container\">\n",
              "      <div>\n",
              "<style scoped>\n",
              "    .dataframe tbody tr th:only-of-type {\n",
              "        vertical-align: middle;\n",
              "    }\n",
              "\n",
              "    .dataframe tbody tr th {\n",
              "        vertical-align: top;\n",
              "    }\n",
              "\n",
              "    .dataframe thead th {\n",
              "        text-align: right;\n",
              "    }\n",
              "</style>\n",
              "<table border=\"1\" class=\"dataframe\">\n",
              "  <thead>\n",
              "    <tr style=\"text-align: right;\">\n",
              "      <th></th>\n",
              "      <th>author age</th>\n",
              "      <th>recommended age</th>\n",
              "      <th>review</th>\n",
              "    </tr>\n",
              "  </thead>\n",
              "  <tbody>\n",
              "    <tr>\n",
              "      <th>0</th>\n",
              "      <td>Teen, 17 years old</td>\n",
              "      <td>age 7+</td>\n",
              "      <td>Kids dont listent to the parents saying ''ThIs...</td>\n",
              "    </tr>\n",
              "    <tr>\n",
              "      <th>1</th>\n",
              "      <td>Kid, 11 years old</td>\n",
              "      <td>age 2+</td>\n",
              "      <td>I have been playing this game for many years a...</td>\n",
              "    </tr>\n",
              "    <tr>\n",
              "      <th>2</th>\n",
              "      <td>Kid, 12 years old</td>\n",
              "      <td>age 7+</td>\n",
              "      <td>The game is great with no true inappropriate t...</td>\n",
              "    </tr>\n",
              "    <tr>\n",
              "      <th>3</th>\n",
              "      <td>Teen, 13 years old</td>\n",
              "      <td>age 5+</td>\n",
              "      <td>Are you sure you got common sense. I would giv...</td>\n",
              "    </tr>\n",
              "    <tr>\n",
              "      <th>4</th>\n",
              "      <td>Kid, 10 years old</td>\n",
              "      <td>age 5+</td>\n",
              "      <td>IDK WHAT TO SAY BUT DIS IS DA BEST GAME EVA</td>\n",
              "    </tr>\n",
              "  </tbody>\n",
              "</table>\n",
              "</div>\n",
              "      <button class=\"colab-df-convert\" onclick=\"convertToInteractive('df-64b6a736-4b77-45cb-9607-394bbc602a44')\"\n",
              "              title=\"Convert this dataframe to an interactive table.\"\n",
              "              style=\"display:none;\">\n",
              "        \n",
              "  <svg xmlns=\"http://www.w3.org/2000/svg\" height=\"24px\"viewBox=\"0 0 24 24\"\n",
              "       width=\"24px\">\n",
              "    <path d=\"M0 0h24v24H0V0z\" fill=\"none\"/>\n",
              "    <path d=\"M18.56 5.44l.94 2.06.94-2.06 2.06-.94-2.06-.94-.94-2.06-.94 2.06-2.06.94zm-11 1L8.5 8.5l.94-2.06 2.06-.94-2.06-.94L8.5 2.5l-.94 2.06-2.06.94zm10 10l.94 2.06.94-2.06 2.06-.94-2.06-.94-.94-2.06-.94 2.06-2.06.94z\"/><path d=\"M17.41 7.96l-1.37-1.37c-.4-.4-.92-.59-1.43-.59-.52 0-1.04.2-1.43.59L10.3 9.45l-7.72 7.72c-.78.78-.78 2.05 0 2.83L4 21.41c.39.39.9.59 1.41.59.51 0 1.02-.2 1.41-.59l7.78-7.78 2.81-2.81c.8-.78.8-2.07 0-2.86zM5.41 20L4 18.59l7.72-7.72 1.47 1.35L5.41 20z\"/>\n",
              "  </svg>\n",
              "      </button>\n",
              "      \n",
              "  <style>\n",
              "    .colab-df-container {\n",
              "      display:flex;\n",
              "      flex-wrap:wrap;\n",
              "      gap: 12px;\n",
              "    }\n",
              "\n",
              "    .colab-df-convert {\n",
              "      background-color: #E8F0FE;\n",
              "      border: none;\n",
              "      border-radius: 50%;\n",
              "      cursor: pointer;\n",
              "      display: none;\n",
              "      fill: #1967D2;\n",
              "      height: 32px;\n",
              "      padding: 0 0 0 0;\n",
              "      width: 32px;\n",
              "    }\n",
              "\n",
              "    .colab-df-convert:hover {\n",
              "      background-color: #E2EBFA;\n",
              "      box-shadow: 0px 1px 2px rgba(60, 64, 67, 0.3), 0px 1px 3px 1px rgba(60, 64, 67, 0.15);\n",
              "      fill: #174EA6;\n",
              "    }\n",
              "\n",
              "    [theme=dark] .colab-df-convert {\n",
              "      background-color: #3B4455;\n",
              "      fill: #D2E3FC;\n",
              "    }\n",
              "\n",
              "    [theme=dark] .colab-df-convert:hover {\n",
              "      background-color: #434B5C;\n",
              "      box-shadow: 0px 1px 3px 1px rgba(0, 0, 0, 0.15);\n",
              "      filter: drop-shadow(0px 1px 2px rgba(0, 0, 0, 0.3));\n",
              "      fill: #FFFFFF;\n",
              "    }\n",
              "  </style>\n",
              "\n",
              "      <script>\n",
              "        const buttonEl =\n",
              "          document.querySelector('#df-64b6a736-4b77-45cb-9607-394bbc602a44 button.colab-df-convert');\n",
              "        buttonEl.style.display =\n",
              "          google.colab.kernel.accessAllowed ? 'block' : 'none';\n",
              "\n",
              "        async function convertToInteractive(key) {\n",
              "          const element = document.querySelector('#df-64b6a736-4b77-45cb-9607-394bbc602a44');\n",
              "          const dataTable =\n",
              "            await google.colab.kernel.invokeFunction('convertToInteractive',\n",
              "                                                     [key], {});\n",
              "          if (!dataTable) return;\n",
              "\n",
              "          const docLinkHtml = 'Like what you see? Visit the ' +\n",
              "            '<a target=\"_blank\" href=https://colab.research.google.com/notebooks/data_table.ipynb>data table notebook</a>'\n",
              "            + ' to learn more about interactive tables.';\n",
              "          element.innerHTML = '';\n",
              "          dataTable['output_type'] = 'display_data';\n",
              "          await google.colab.output.renderOutput(dataTable, element);\n",
              "          const docLink = document.createElement('div');\n",
              "          docLink.innerHTML = docLinkHtml;\n",
              "          element.appendChild(docLink);\n",
              "        }\n",
              "      </script>\n",
              "    </div>\n",
              "  </div>\n",
              "  "
            ],
            "text/plain": [
              "           author age recommended age  \\\n",
              "0  Teen, 17 years old          age 7+   \n",
              "1   Kid, 11 years old          age 2+   \n",
              "2   Kid, 12 years old          age 7+   \n",
              "3  Teen, 13 years old          age 5+   \n",
              "4   Kid, 10 years old          age 5+   \n",
              "\n",
              "                                              review  \n",
              "0  Kids dont listent to the parents saying ''ThIs...  \n",
              "1  I have been playing this game for many years a...  \n",
              "2  The game is great with no true inappropriate t...  \n",
              "3  Are you sure you got common sense. I would giv...  \n",
              "4        IDK WHAT TO SAY BUT DIS IS DA BEST GAME EVA  "
            ]
          },
          "metadata": {},
          "execution_count": 7
        }
      ]
    },
    {
      "cell_type": "code",
      "source": [
        "data.info()"
      ],
      "metadata": {
        "colab": {
          "base_uri": "https://localhost:8080/"
        },
        "id": "PjfQPt_DWA0L",
        "outputId": "713ddfdd-b75e-4ced-a207-f106cd9d306f"
      },
      "execution_count": 17,
      "outputs": [
        {
          "output_type": "stream",
          "name": "stdout",
          "text": [
            "<class 'pandas.core.frame.DataFrame'>\n",
            "Int64Index: 526 entries, 0 to 560\n",
            "Data columns (total 5 columns):\n",
            " #   Column           Non-Null Count  Dtype \n",
            "---  ------           --------------  ----- \n",
            " 0   author age       526 non-null    object\n",
            " 1   recommended age  526 non-null    object\n",
            " 2   review           526 non-null    object\n",
            " 3   target           526 non-null    int64 \n",
            " 4   clean_review     526 non-null    object\n",
            "dtypes: int64(1), object(4)\n",
            "memory usage: 24.7+ KB\n"
          ]
        }
      ]
    },
    {
      "cell_type": "code",
      "source": [
        "#Drop Missing Values from Reviews \n",
        "data=data.dropna(axis=0)"
      ],
      "metadata": {
        "id": "H7xt95RGu7V3"
      },
      "execution_count": 8,
      "outputs": []
    },
    {
      "cell_type": "code",
      "source": [
        "#Generating labels\n",
        "data['target']=np.where(data['recommended age'].str.contains('10+|11+|12+|13+|14+|15+|16+|17+|18+|19+'),1,0)"
      ],
      "metadata": {
        "id": "wVrfhJEL6VpJ"
      },
      "execution_count": 9,
      "outputs": []
    },
    {
      "cell_type": "code",
      "source": [
        "data.tail(10)"
      ],
      "metadata": {
        "colab": {
          "base_uri": "https://localhost:8080/",
          "height": 598
        },
        "id": "NU_pY3p7-F8r",
        "outputId": "0aeeb9a8-65e9-4487-e033-6ebcbebc8765"
      },
      "execution_count": 30,
      "outputs": [
        {
          "output_type": "execute_result",
          "data": {
            "text/html": [
              "\n",
              "  <div id=\"df-c707726a-a802-4d02-bf52-3cd1af4614ba\">\n",
              "    <div class=\"colab-df-container\">\n",
              "      <div>\n",
              "<style scoped>\n",
              "    .dataframe tbody tr th:only-of-type {\n",
              "        vertical-align: middle;\n",
              "    }\n",
              "\n",
              "    .dataframe tbody tr th {\n",
              "        vertical-align: top;\n",
              "    }\n",
              "\n",
              "    .dataframe thead th {\n",
              "        text-align: right;\n",
              "    }\n",
              "</style>\n",
              "<table border=\"1\" class=\"dataframe\">\n",
              "  <thead>\n",
              "    <tr style=\"text-align: right;\">\n",
              "      <th></th>\n",
              "      <th>author age</th>\n",
              "      <th>recommended age</th>\n",
              "      <th>review</th>\n",
              "      <th>target</th>\n",
              "      <th>clean_review</th>\n",
              "    </tr>\n",
              "  </thead>\n",
              "  <tbody>\n",
              "    <tr>\n",
              "      <th>551</th>\n",
              "      <td>Kid, 11 years old</td>\n",
              "      <td>age 5+</td>\n",
              "      <td>This game is where you build buildings and pro...</td>\n",
              "      <td>0</td>\n",
              "      <td>game build building protect monster nothing gr...</td>\n",
              "    </tr>\n",
              "    <tr>\n",
              "      <th>552</th>\n",
              "      <td>Kid, 11 years old</td>\n",
              "      <td>age 11+</td>\n",
              "      <td>Three stars? THREE STARS?!?!? Minecraft PE is ...</td>\n",
              "      <td>1</td>\n",
              "      <td>three star three star minecraft pe amazing gam...</td>\n",
              "    </tr>\n",
              "    <tr>\n",
              "      <th>553</th>\n",
              "      <td>Kid, 10 years old</td>\n",
              "      <td>age 6+</td>\n",
              "      <td>Pocket Edition, not for me! This game stinks i...</td>\n",
              "      <td>0</td>\n",
              "      <td>pocket edition game stink opinion computer ver...</td>\n",
              "    </tr>\n",
              "    <tr>\n",
              "      <th>554</th>\n",
              "      <td>Teen, 13 years old</td>\n",
              "      <td>age 6+</td>\n",
              "      <td>Its getting MUCH BETTER!!! they are adding so ...</td>\n",
              "      <td>0</td>\n",
              "      <td>getting much better adding much review f date ...</td>\n",
              "    </tr>\n",
              "    <tr>\n",
              "      <th>555</th>\n",
              "      <td>Kid, 9 years old</td>\n",
              "      <td>age 6+</td>\n",
              "      <td>has one mob in it and has liimits to other ite...</td>\n",
              "      <td>0</td>\n",
              "      <td>one mob liimits item free ruien good game</td>\n",
              "    </tr>\n",
              "    <tr>\n",
              "      <th>556</th>\n",
              "      <td>Teen, 14 years old</td>\n",
              "      <td>age 7+</td>\n",
              "      <td>Wow. Just wow. Common Sense, THIS GAME IS IN A...</td>\n",
              "      <td>0</td>\n",
              "      <td>wow wow common sense game alpha give time alre...</td>\n",
              "    </tr>\n",
              "    <tr>\n",
              "      <th>557</th>\n",
              "      <td>Teen, 13 years old</td>\n",
              "      <td>age 4+</td>\n",
              "      <td>A quite popular gem on the app store/google pl...</td>\n",
              "      <td>0</td>\n",
              "      <td>quite popular gem app storegoogle play basical...</td>\n",
              "    </tr>\n",
              "    <tr>\n",
              "      <th>558</th>\n",
              "      <td>Kid, 12 years old</td>\n",
              "      <td>age 2+</td>\n",
              "      <td>It's a abhorrent try by Mojang, though a excel...</td>\n",
              "      <td>0</td>\n",
              "      <td>abhorrent try mojang though excellent idea thi...</td>\n",
              "    </tr>\n",
              "    <tr>\n",
              "      <th>559</th>\n",
              "      <td>Teen, 15 years old</td>\n",
              "      <td>age 6+</td>\n",
              "      <td>Minecraft: Pocket Edition is an app which you ...</td>\n",
              "      <td>0</td>\n",
              "      <td>minecraft pocket edition app download iphone i...</td>\n",
              "    </tr>\n",
              "    <tr>\n",
              "      <th>560</th>\n",
              "      <td>Kid, 11 years old</td>\n",
              "      <td>age 4+</td>\n",
              "      <td>Give it a little time CommonSense, the game is...</td>\n",
              "      <td>0</td>\n",
              "      <td>give little time commonsense game alpha receiv...</td>\n",
              "    </tr>\n",
              "  </tbody>\n",
              "</table>\n",
              "</div>\n",
              "      <button class=\"colab-df-convert\" onclick=\"convertToInteractive('df-c707726a-a802-4d02-bf52-3cd1af4614ba')\"\n",
              "              title=\"Convert this dataframe to an interactive table.\"\n",
              "              style=\"display:none;\">\n",
              "        \n",
              "  <svg xmlns=\"http://www.w3.org/2000/svg\" height=\"24px\"viewBox=\"0 0 24 24\"\n",
              "       width=\"24px\">\n",
              "    <path d=\"M0 0h24v24H0V0z\" fill=\"none\"/>\n",
              "    <path d=\"M18.56 5.44l.94 2.06.94-2.06 2.06-.94-2.06-.94-.94-2.06-.94 2.06-2.06.94zm-11 1L8.5 8.5l.94-2.06 2.06-.94-2.06-.94L8.5 2.5l-.94 2.06-2.06.94zm10 10l.94 2.06.94-2.06 2.06-.94-2.06-.94-.94-2.06-.94 2.06-2.06.94z\"/><path d=\"M17.41 7.96l-1.37-1.37c-.4-.4-.92-.59-1.43-.59-.52 0-1.04.2-1.43.59L10.3 9.45l-7.72 7.72c-.78.78-.78 2.05 0 2.83L4 21.41c.39.39.9.59 1.41.59.51 0 1.02-.2 1.41-.59l7.78-7.78 2.81-2.81c.8-.78.8-2.07 0-2.86zM5.41 20L4 18.59l7.72-7.72 1.47 1.35L5.41 20z\"/>\n",
              "  </svg>\n",
              "      </button>\n",
              "      \n",
              "  <style>\n",
              "    .colab-df-container {\n",
              "      display:flex;\n",
              "      flex-wrap:wrap;\n",
              "      gap: 12px;\n",
              "    }\n",
              "\n",
              "    .colab-df-convert {\n",
              "      background-color: #E8F0FE;\n",
              "      border: none;\n",
              "      border-radius: 50%;\n",
              "      cursor: pointer;\n",
              "      display: none;\n",
              "      fill: #1967D2;\n",
              "      height: 32px;\n",
              "      padding: 0 0 0 0;\n",
              "      width: 32px;\n",
              "    }\n",
              "\n",
              "    .colab-df-convert:hover {\n",
              "      background-color: #E2EBFA;\n",
              "      box-shadow: 0px 1px 2px rgba(60, 64, 67, 0.3), 0px 1px 3px 1px rgba(60, 64, 67, 0.15);\n",
              "      fill: #174EA6;\n",
              "    }\n",
              "\n",
              "    [theme=dark] .colab-df-convert {\n",
              "      background-color: #3B4455;\n",
              "      fill: #D2E3FC;\n",
              "    }\n",
              "\n",
              "    [theme=dark] .colab-df-convert:hover {\n",
              "      background-color: #434B5C;\n",
              "      box-shadow: 0px 1px 3px 1px rgba(0, 0, 0, 0.15);\n",
              "      filter: drop-shadow(0px 1px 2px rgba(0, 0, 0, 0.3));\n",
              "      fill: #FFFFFF;\n",
              "    }\n",
              "  </style>\n",
              "\n",
              "      <script>\n",
              "        const buttonEl =\n",
              "          document.querySelector('#df-c707726a-a802-4d02-bf52-3cd1af4614ba button.colab-df-convert');\n",
              "        buttonEl.style.display =\n",
              "          google.colab.kernel.accessAllowed ? 'block' : 'none';\n",
              "\n",
              "        async function convertToInteractive(key) {\n",
              "          const element = document.querySelector('#df-c707726a-a802-4d02-bf52-3cd1af4614ba');\n",
              "          const dataTable =\n",
              "            await google.colab.kernel.invokeFunction('convertToInteractive',\n",
              "                                                     [key], {});\n",
              "          if (!dataTable) return;\n",
              "\n",
              "          const docLinkHtml = 'Like what you see? Visit the ' +\n",
              "            '<a target=\"_blank\" href=https://colab.research.google.com/notebooks/data_table.ipynb>data table notebook</a>'\n",
              "            + ' to learn more about interactive tables.';\n",
              "          element.innerHTML = '';\n",
              "          dataTable['output_type'] = 'display_data';\n",
              "          await google.colab.output.renderOutput(dataTable, element);\n",
              "          const docLink = document.createElement('div');\n",
              "          docLink.innerHTML = docLinkHtml;\n",
              "          element.appendChild(docLink);\n",
              "        }\n",
              "      </script>\n",
              "    </div>\n",
              "  </div>\n",
              "  "
            ],
            "text/plain": [
              "             author age recommended age  \\\n",
              "551   Kid, 11 years old          age 5+   \n",
              "552   Kid, 11 years old         age 11+   \n",
              "553   Kid, 10 years old          age 6+   \n",
              "554  Teen, 13 years old          age 6+   \n",
              "555    Kid, 9 years old          age 6+   \n",
              "556  Teen, 14 years old          age 7+   \n",
              "557  Teen, 13 years old          age 4+   \n",
              "558   Kid, 12 years old          age 2+   \n",
              "559  Teen, 15 years old          age 6+   \n",
              "560   Kid, 11 years old          age 4+   \n",
              "\n",
              "                                                review  target  \\\n",
              "551  This game is where you build buildings and pro...       0   \n",
              "552  Three stars? THREE STARS?!?!? Minecraft PE is ...       1   \n",
              "553  Pocket Edition, not for me! This game stinks i...       0   \n",
              "554  Its getting MUCH BETTER!!! they are adding so ...       0   \n",
              "555  has one mob in it and has liimits to other ite...       0   \n",
              "556  Wow. Just wow. Common Sense, THIS GAME IS IN A...       0   \n",
              "557  A quite popular gem on the app store/google pl...       0   \n",
              "558  It's a abhorrent try by Mojang, though a excel...       0   \n",
              "559  Minecraft: Pocket Edition is an app which you ...       0   \n",
              "560  Give it a little time CommonSense, the game is...       0   \n",
              "\n",
              "                                          clean_review  \n",
              "551  game build building protect monster nothing gr...  \n",
              "552  three star three star minecraft pe amazing gam...  \n",
              "553  pocket edition game stink opinion computer ver...  \n",
              "554  getting much better adding much review f date ...  \n",
              "555          one mob liimits item free ruien good game  \n",
              "556  wow wow common sense game alpha give time alre...  \n",
              "557  quite popular gem app storegoogle play basical...  \n",
              "558  abhorrent try mojang though excellent idea thi...  \n",
              "559  minecraft pocket edition app download iphone i...  \n",
              "560  give little time commonsense game alpha receiv...  "
            ]
          },
          "metadata": {},
          "execution_count": 30
        }
      ]
    },
    {
      "cell_type": "markdown",
      "source": [
        "# EDA OF Dataset"
      ],
      "metadata": {
        "id": "eXyS60pmAZI_"
      }
    },
    {
      "cell_type": "code",
      "source": [
        "sns.countplot(y=data['recommended age'],order=data['recommended age'].value_counts().index,palette='crest')"
      ],
      "metadata": {
        "colab": {
          "base_uri": "https://localhost:8080/",
          "height": 297
        },
        "id": "2J9sNrhU_Ax3",
        "outputId": "f3b3d941-318c-4af6-9d73-80c44aff77d0"
      },
      "execution_count": 71,
      "outputs": [
        {
          "output_type": "execute_result",
          "data": {
            "text/plain": [
              "<matplotlib.axes._subplots.AxesSubplot at 0x7f22731d0d10>"
            ]
          },
          "metadata": {},
          "execution_count": 71
        },
        {
          "output_type": "display_data",
          "data": {
            "image/png": "[encoded data removed]",
            "text/plain": [
              "<Figure size 432x288 with 1 Axes>"
            ]
          },
          "metadata": {
            "needs_background": "light"
          }
        }
      ]
    },
    {
      "cell_type": "code",
      "source": [
        "#Seeing distribution of target variable which shows highly imbalanced dataset\n",
        "sns.countplot(x=data['target'],palette='flare')"
      ],
      "metadata": {
        "colab": {
          "base_uri": "https://localhost:8080/",
          "height": 297
        },
        "id": "mXuYJiqTDWzN",
        "outputId": "ae33a95f-5f21-49a5-c841-85487804a9fd"
      },
      "execution_count": 72,
      "outputs": [
        {
          "output_type": "execute_result",
          "data": {
            "text/plain": [
              "<matplotlib.axes._subplots.AxesSubplot at 0x7f22731002d0>"
            ]
          },
          "metadata": {},
          "execution_count": 72
        },
        {
          "output_type": "display_data",
          "data": {
            "image/png": "[encoded data removed]",
            "text/plain": [
              "<Figure size 432x288 with 1 Axes>"
            ]
          },
          "metadata": {
            "needs_background": "light"
          }
        }
      ]
    },
    {
      "cell_type": "markdown",
      "source": [
        "# Preprocessing Data"
      ],
      "metadata": {
        "id": "OE4wyddXExc1"
      }
    },
    {
      "cell_type": "code",
      "source": [
        "#Preprocessing Data\n",
        "stopword=set(stopwords.words('english'))\n",
        "wordnet_lemma=WordNetLemmatizer()\n",
        "\n",
        "def prerpocessor(text):\n",
        "\n",
        "  expanded_text=contractions.fix(str(text))\n",
        "  expanded_text=expanded_text.lower()\n",
        "  text_filtered=re.sub('[^A-Za-z\\s]',\"\",expanded_text)\n",
        "  tokens=word_tokenize(text_filtered)\n",
        "  filtered_stop=[wordnet_lemma.lemmatize(word=w) for w in tokens if w not in stopword]\n",
        "\n",
        "  cleaned_text=\" \".join(filtered_stop)\n",
        "  return cleaned_text\n",
        "\n",
        "\n",
        "preprocessor_vect=np.vectorize(prerpocessor)\n"
      ],
      "metadata": {
        "id": "e0-UoLBzDxKv"
      },
      "execution_count": 10,
      "outputs": []
    },
    {
      "cell_type": "code",
      "source": [
        "text_filtered=re.sub('[^A-Za-z\\s]',\"\",data['review'][0])\n",
        "\n",
        "text_filtered"
      ],
      "metadata": {
        "colab": {
          "base_uri": "https://localhost:8080/",
          "height": 70
        },
        "id": "oouzDl3EQx-h",
        "outputId": "e8b6f173-46c7-4cf7-f724-83519a9f3874"
      },
      "execution_count": 16,
      "outputs": [
        {
          "output_type": "execute_result",
          "data": {
            "application/vnd.google.colaboratory.intrinsic+json": {
              "type": "string"
            },
            "text/plain": [
              "'Kids dont listent to the parents saying ThIs GaMe HaS sWoRdS tHaT mEaNs ThErE iS vIoLaNcE there is no violance but its good to not play all day play like idk  hoursI think minecraft is a child friendly game and is open to all ages thats my opinion'"
            ]
          },
          "metadata": {},
          "execution_count": 16
        }
      ]
    },
    {
      "cell_type": "code",
      "source": [
        "data['clean_review']=data['review'].apply(preprocessor_vect)"
      ],
      "metadata": {
        "id": "62yN6hJgUABu"
      },
      "execution_count": 11,
      "outputs": []
    },
    {
      "cell_type": "code",
      "source": [
        "data.tail()"
      ],
      "metadata": {
        "colab": {
          "base_uri": "https://localhost:8080/",
          "height": 354
        },
        "id": "q6GKx1IQVkQG",
        "outputId": "e27ffec0-3f26-4f32-d66b-4ee56f628f54"
      },
      "execution_count": 12,
      "outputs": [
        {
          "output_type": "execute_result",
          "data": {
            "text/html": [
              "\n",
              "  <div id=\"df-3a6f4346-f904-4f04-b331-872266fd1a2f\">\n",
              "    <div class=\"colab-df-container\">\n",
              "      <div>\n",
              "<style scoped>\n",
              "    .dataframe tbody tr th:only-of-type {\n",
              "        vertical-align: middle;\n",
              "    }\n",
              "\n",
              "    .dataframe tbody tr th {\n",
              "        vertical-align: top;\n",
              "    }\n",
              "\n",
              "    .dataframe thead th {\n",
              "        text-align: right;\n",
              "    }\n",
              "</style>\n",
              "<table border=\"1\" class=\"dataframe\">\n",
              "  <thead>\n",
              "    <tr style=\"text-align: right;\">\n",
              "      <th></th>\n",
              "      <th>author age</th>\n",
              "      <th>recommended age</th>\n",
              "      <th>review</th>\n",
              "      <th>target</th>\n",
              "      <th>clean_review</th>\n",
              "    </tr>\n",
              "  </thead>\n",
              "  <tbody>\n",
              "    <tr>\n",
              "      <th>556</th>\n",
              "      <td>Teen, 14 years old</td>\n",
              "      <td>age 7+</td>\n",
              "      <td>Wow. Just wow. Common Sense, THIS GAME IS IN A...</td>\n",
              "      <td>0</td>\n",
              "      <td>wow wow common sense game alpha give time alre...</td>\n",
              "    </tr>\n",
              "    <tr>\n",
              "      <th>557</th>\n",
              "      <td>Teen, 13 years old</td>\n",
              "      <td>age 4+</td>\n",
              "      <td>A quite popular gem on the app store/google pl...</td>\n",
              "      <td>0</td>\n",
              "      <td>quite popular gem app storegoogle play basical...</td>\n",
              "    </tr>\n",
              "    <tr>\n",
              "      <th>558</th>\n",
              "      <td>Kid, 12 years old</td>\n",
              "      <td>age 2+</td>\n",
              "      <td>It's a abhorrent try by Mojang, though a excel...</td>\n",
              "      <td>0</td>\n",
              "      <td>abhorrent try mojang though excellent idea thi...</td>\n",
              "    </tr>\n",
              "    <tr>\n",
              "      <th>559</th>\n",
              "      <td>Teen, 15 years old</td>\n",
              "      <td>age 6+</td>\n",
              "      <td>Minecraft: Pocket Edition is an app which you ...</td>\n",
              "      <td>0</td>\n",
              "      <td>minecraft pocket edition app download iphone i...</td>\n",
              "    </tr>\n",
              "    <tr>\n",
              "      <th>560</th>\n",
              "      <td>Kid, 11 years old</td>\n",
              "      <td>age 4+</td>\n",
              "      <td>Give it a little time CommonSense, the game is...</td>\n",
              "      <td>0</td>\n",
              "      <td>give little time commonsense game alpha receiv...</td>\n",
              "    </tr>\n",
              "  </tbody>\n",
              "</table>\n",
              "</div>\n",
              "      <button class=\"colab-df-convert\" onclick=\"convertToInteractive('df-3a6f4346-f904-4f04-b331-872266fd1a2f')\"\n",
              "              title=\"Convert this dataframe to an interactive table.\"\n",
              "              style=\"display:none;\">\n",
              "        \n",
              "  <svg xmlns=\"http://www.w3.org/2000/svg\" height=\"24px\"viewBox=\"0 0 24 24\"\n",
              "       width=\"24px\">\n",
              "    <path d=\"M0 0h24v24H0V0z\" fill=\"none\"/>\n",
              "    <path d=\"M18.56 5.44l.94 2.06.94-2.06 2.06-.94-2.06-.94-.94-2.06-.94 2.06-2.06.94zm-11 1L8.5 8.5l.94-2.06 2.06-.94-2.06-.94L8.5 2.5l-.94 2.06-2.06.94zm10 10l.94 2.06.94-2.06 2.06-.94-2.06-.94-.94-2.06-.94 2.06-2.06.94z\"/><path d=\"M17.41 7.96l-1.37-1.37c-.4-.4-.92-.59-1.43-.59-.52 0-1.04.2-1.43.59L10.3 9.45l-7.72 7.72c-.78.78-.78 2.05 0 2.83L4 21.41c.39.39.9.59 1.41.59.51 0 1.02-.2 1.41-.59l7.78-7.78 2.81-2.81c.8-.78.8-2.07 0-2.86zM5.41 20L4 18.59l7.72-7.72 1.47 1.35L5.41 20z\"/>\n",
              "  </svg>\n",
              "      </button>\n",
              "      \n",
              "  <style>\n",
              "    .colab-df-container {\n",
              "      display:flex;\n",
              "      flex-wrap:wrap;\n",
              "      gap: 12px;\n",
              "    }\n",
              "\n",
              "    .colab-df-convert {\n",
              "      background-color: #E8F0FE;\n",
              "      border: none;\n",
              "      border-radius: 50%;\n",
              "      cursor: pointer;\n",
              "      display: none;\n",
              "      fill: #1967D2;\n",
              "      height: 32px;\n",
              "      padding: 0 0 0 0;\n",
              "      width: 32px;\n",
              "    }\n",
              "\n",
              "    .colab-df-convert:hover {\n",
              "      background-color: #E2EBFA;\n",
              "      box-shadow: 0px 1px 2px rgba(60, 64, 67, 0.3), 0px 1px 3px 1px rgba(60, 64, 67, 0.15);\n",
              "      fill: #174EA6;\n",
              "    }\n",
              "\n",
              "    [theme=dark] .colab-df-convert {\n",
              "      background-color: #3B4455;\n",
              "      fill: #D2E3FC;\n",
              "    }\n",
              "\n",
              "    [theme=dark] .colab-df-convert:hover {\n",
              "      background-color: #434B5C;\n",
              "      box-shadow: 0px 1px 3px 1px rgba(0, 0, 0, 0.15);\n",
              "      filter: drop-shadow(0px 1px 2px rgba(0, 0, 0, 0.3));\n",
              "      fill: #FFFFFF;\n",
              "    }\n",
              "  </style>\n",
              "\n",
              "      <script>\n",
              "        const buttonEl =\n",
              "          document.querySelector('#df-3a6f4346-f904-4f04-b331-872266fd1a2f button.colab-df-convert');\n",
              "        buttonEl.style.display =\n",
              "          google.colab.kernel.accessAllowed ? 'block' : 'none';\n",
              "\n",
              "        async function convertToInteractive(key) {\n",
              "          const element = document.querySelector('#df-3a6f4346-f904-4f04-b331-872266fd1a2f');\n",
              "          const dataTable =\n",
              "            await google.colab.kernel.invokeFunction('convertToInteractive',\n",
              "                                                     [key], {});\n",
              "          if (!dataTable) return;\n",
              "\n",
              "          const docLinkHtml = 'Like what you see? Visit the ' +\n",
              "            '<a target=\"_blank\" href=https://colab.research.google.com/notebooks/data_table.ipynb>data table notebook</a>'\n",
              "            + ' to learn more about interactive tables.';\n",
              "          element.innerHTML = '';\n",
              "          dataTable['output_type'] = 'display_data';\n",
              "          await google.colab.output.renderOutput(dataTable, element);\n",
              "          const docLink = document.createElement('div');\n",
              "          docLink.innerHTML = docLinkHtml;\n",
              "          element.appendChild(docLink);\n",
              "        }\n",
              "      </script>\n",
              "    </div>\n",
              "  </div>\n",
              "  "
            ],
            "text/plain": [
              "             author age recommended age  \\\n",
              "556  Teen, 14 years old          age 7+   \n",
              "557  Teen, 13 years old          age 4+   \n",
              "558   Kid, 12 years old          age 2+   \n",
              "559  Teen, 15 years old          age 6+   \n",
              "560   Kid, 11 years old          age 4+   \n",
              "\n",
              "                                                review  target  \\\n",
              "556  Wow. Just wow. Common Sense, THIS GAME IS IN A...       0   \n",
              "557  A quite popular gem on the app store/google pl...       0   \n",
              "558  It's a abhorrent try by Mojang, though a excel...       0   \n",
              "559  Minecraft: Pocket Edition is an app which you ...       0   \n",
              "560  Give it a little time CommonSense, the game is...       0   \n",
              "\n",
              "                                          clean_review  \n",
              "556  wow wow common sense game alpha give time alre...  \n",
              "557  quite popular gem app storegoogle play basical...  \n",
              "558  abhorrent try mojang though excellent idea thi...  \n",
              "559  minecraft pocket edition app download iphone i...  \n",
              "560  give little time commonsense game alpha receiv...  "
            ]
          },
          "metadata": {},
          "execution_count": 12
        }
      ]
    },
    {
      "cell_type": "markdown",
      "source": [
        "# Splitting Dataset\n",
        "\n",
        "* Splitting dataset based on stratified on target column to tackle imbalanced dataset."
      ],
      "metadata": {
        "id": "u7qkBC9Fxnng"
      }
    },
    {
      "cell_type": "code",
      "source": [
        "Xtrain,Xtest,Ytrain,Ytest=train_test_split(data['clean_review'],data['target'],test_size=0.2,random_state=111,stratify=data.target,shuffle=True)\n",
        "print(Ytest.value_counts(),'\\n',Ytrain.value_counts())"
      ],
      "metadata": {
        "colab": {
          "base_uri": "https://localhost:8080/"
        },
        "id": "fT08a7hbwQlZ",
        "outputId": "fd5ae954-4a95-4e7e-93e2-ef1f78d17992"
      },
      "execution_count": 13,
      "outputs": [
        {
          "output_type": "stream",
          "name": "stdout",
          "text": [
            "0    95\n",
            "1    11\n",
            "Name: target, dtype: int64 \n",
            " 0    376\n",
            "1     44\n",
            "Name: target, dtype: int64\n"
          ]
        }
      ]
    },
    {
      "cell_type": "markdown",
      "source": [
        "# Text Representation or Vectorization\n",
        "\n",
        "* We can use Bag of Words approach (COuntVectorizer)\n",
        "* We can also use TF-IDF approach which is normalised version of Bag of Words approach.\n",
        "\n",
        "We will compare both vectorization techniques to see which performs better in our case. Generally TF-IDF is considered better as it takes into account document freq as well as term freq to scale out words which are high frequency words."
      ],
      "metadata": {
        "id": "scdklDa1ztKu"
      }
    },
    {
      "cell_type": "code",
      "source": [
        "# Initialize count vectorizer\n",
        "count_vectorizer = CountVectorizer(stop_words='english', max_df=0.9, min_df=0.05)\n",
        "# Create count train and test variables\n",
        "count_train = count_vectorizer.fit_transform(Xtrain)\n",
        "count_test = count_vectorizer.transform(Xtest)\n",
        "\n",
        "# Initialize tfidf vectorizer\n",
        "tfidf_vectorizer = TfidfVectorizer(stop_words='english', max_df=0.9, min_df=0.05)\n",
        "\n",
        "# Create tfidf train and test variables\n",
        "tfidf_train = tfidf_vectorizer.fit_transform(Xtrain)\n",
        "tfidf_test = tfidf_vectorizer.transform(Xtest)"
      ],
      "metadata": {
        "id": "mm9_-bh2zNYv"
      },
      "execution_count": 14,
      "outputs": []
    },
    {
      "cell_type": "code",
      "source": [
        "print('Number of words in vectorizer Count: ',len(count_vectorizer.vocabulary_))\n",
        "print('Number of words in vectorizer TF-IDF: ',len(tfidf_vectorizer.vocabulary_))\n",
        "#Displaying the vectorized form in DataFrame TFIDF\n",
        "pd.DataFrame(tfidf_train.toarray(),columns=tfidf_vectorizer.vocabulary_.keys())"
      ],
      "metadata": {
        "colab": {
          "base_uri": "https://localhost:8080/",
          "height": 522
        },
        "id": "gr8J3wSqEG7y",
        "outputId": "5b06864e-89d1-4632-bd90-ff41bc27a334"
      },
      "execution_count": 15,
      "outputs": [
        {
          "output_type": "stream",
          "name": "stdout",
          "text": [
            "Number of words in vectorizer Count:  85\n",
            "Number of words in vectorizer TF-IDF:  85\n"
          ]
        },
        {
          "output_type": "execute_result",
          "data": {
            "text/html": [
              "\n",
              "  <div id=\"df-b6c8b74d-dd48-4ffd-adce-f7bbd1abdd54\">\n",
              "    <div class=\"colab-df-container\">\n",
              "      <div>\n",
              "<style scoped>\n",
              "    .dataframe tbody tr th:only-of-type {\n",
              "        vertical-align: middle;\n",
              "    }\n",
              "\n",
              "    .dataframe tbody tr th {\n",
              "        vertical-align: top;\n",
              "    }\n",
              "\n",
              "    .dataframe thead th {\n",
              "        text-align: right;\n",
              "    }\n",
              "</style>\n",
              "<table border=\"1\" class=\"dataframe\">\n",
              "  <thead>\n",
              "    <tr style=\"text-align: right;\">\n",
              "      <th></th>\n",
              "      <th>people</th>\n",
              "      <th>review</th>\n",
              "      <th>game</th>\n",
              "      <th>money</th>\n",
              "      <th>minecraft</th>\n",
              "      <th>amazing</th>\n",
              "      <th>play</th>\n",
              "      <th>server</th>\n",
              "      <th>chat</th>\n",
              "      <th>kill</th>\n",
              "      <th>...</th>\n",
              "      <th>die</th>\n",
              "      <th>food</th>\n",
              "      <th>house</th>\n",
              "      <th>easy</th>\n",
              "      <th>life</th>\n",
              "      <th>let</th>\n",
              "      <th>use</th>\n",
              "      <th>lot</th>\n",
              "      <th>building</th>\n",
              "      <th>buy</th>\n",
              "    </tr>\n",
              "  </thead>\n",
              "  <tbody>\n",
              "    <tr>\n",
              "      <th>0</th>\n",
              "      <td>0.000000</td>\n",
              "      <td>0.000000</td>\n",
              "      <td>0.000000</td>\n",
              "      <td>0.0</td>\n",
              "      <td>0.0</td>\n",
              "      <td>0.000000</td>\n",
              "      <td>0.0</td>\n",
              "      <td>0.0</td>\n",
              "      <td>0.000000</td>\n",
              "      <td>0.000000</td>\n",
              "      <td>...</td>\n",
              "      <td>0.0</td>\n",
              "      <td>0.0</td>\n",
              "      <td>0.000000</td>\n",
              "      <td>0.000000</td>\n",
              "      <td>0.000000</td>\n",
              "      <td>0.000000</td>\n",
              "      <td>0.000000</td>\n",
              "      <td>0.000000</td>\n",
              "      <td>0.000000</td>\n",
              "      <td>0.0</td>\n",
              "    </tr>\n",
              "    <tr>\n",
              "      <th>1</th>\n",
              "      <td>0.000000</td>\n",
              "      <td>0.248206</td>\n",
              "      <td>0.204456</td>\n",
              "      <td>0.0</td>\n",
              "      <td>0.0</td>\n",
              "      <td>0.248206</td>\n",
              "      <td>0.0</td>\n",
              "      <td>0.0</td>\n",
              "      <td>0.000000</td>\n",
              "      <td>0.000000</td>\n",
              "      <td>...</td>\n",
              "      <td>0.0</td>\n",
              "      <td>0.0</td>\n",
              "      <td>0.000000</td>\n",
              "      <td>0.000000</td>\n",
              "      <td>0.000000</td>\n",
              "      <td>0.000000</td>\n",
              "      <td>0.000000</td>\n",
              "      <td>0.000000</td>\n",
              "      <td>0.000000</td>\n",
              "      <td>0.0</td>\n",
              "    </tr>\n",
              "    <tr>\n",
              "      <th>2</th>\n",
              "      <td>0.000000</td>\n",
              "      <td>0.000000</td>\n",
              "      <td>0.000000</td>\n",
              "      <td>0.0</td>\n",
              "      <td>0.0</td>\n",
              "      <td>0.000000</td>\n",
              "      <td>0.0</td>\n",
              "      <td>0.0</td>\n",
              "      <td>0.000000</td>\n",
              "      <td>0.000000</td>\n",
              "      <td>...</td>\n",
              "      <td>0.0</td>\n",
              "      <td>0.0</td>\n",
              "      <td>0.000000</td>\n",
              "      <td>0.000000</td>\n",
              "      <td>0.000000</td>\n",
              "      <td>0.000000</td>\n",
              "      <td>0.000000</td>\n",
              "      <td>0.000000</td>\n",
              "      <td>0.000000</td>\n",
              "      <td>0.0</td>\n",
              "    </tr>\n",
              "    <tr>\n",
              "      <th>3</th>\n",
              "      <td>0.000000</td>\n",
              "      <td>0.000000</td>\n",
              "      <td>0.000000</td>\n",
              "      <td>0.0</td>\n",
              "      <td>0.0</td>\n",
              "      <td>0.000000</td>\n",
              "      <td>0.0</td>\n",
              "      <td>0.0</td>\n",
              "      <td>0.000000</td>\n",
              "      <td>0.000000</td>\n",
              "      <td>...</td>\n",
              "      <td>0.0</td>\n",
              "      <td>0.0</td>\n",
              "      <td>0.350164</td>\n",
              "      <td>0.000000</td>\n",
              "      <td>0.000000</td>\n",
              "      <td>0.259522</td>\n",
              "      <td>0.000000</td>\n",
              "      <td>0.000000</td>\n",
              "      <td>0.000000</td>\n",
              "      <td>0.0</td>\n",
              "    </tr>\n",
              "    <tr>\n",
              "      <th>4</th>\n",
              "      <td>0.000000</td>\n",
              "      <td>0.000000</td>\n",
              "      <td>0.000000</td>\n",
              "      <td>0.0</td>\n",
              "      <td>0.0</td>\n",
              "      <td>0.000000</td>\n",
              "      <td>0.0</td>\n",
              "      <td>0.0</td>\n",
              "      <td>0.292187</td>\n",
              "      <td>0.000000</td>\n",
              "      <td>...</td>\n",
              "      <td>0.0</td>\n",
              "      <td>0.0</td>\n",
              "      <td>0.000000</td>\n",
              "      <td>0.223808</td>\n",
              "      <td>0.296739</td>\n",
              "      <td>0.000000</td>\n",
              "      <td>0.000000</td>\n",
              "      <td>0.000000</td>\n",
              "      <td>0.274232</td>\n",
              "      <td>0.0</td>\n",
              "    </tr>\n",
              "    <tr>\n",
              "      <th>...</th>\n",
              "      <td>...</td>\n",
              "      <td>...</td>\n",
              "      <td>...</td>\n",
              "      <td>...</td>\n",
              "      <td>...</td>\n",
              "      <td>...</td>\n",
              "      <td>...</td>\n",
              "      <td>...</td>\n",
              "      <td>...</td>\n",
              "      <td>...</td>\n",
              "      <td>...</td>\n",
              "      <td>...</td>\n",
              "      <td>...</td>\n",
              "      <td>...</td>\n",
              "      <td>...</td>\n",
              "      <td>...</td>\n",
              "      <td>...</td>\n",
              "      <td>...</td>\n",
              "      <td>...</td>\n",
              "      <td>...</td>\n",
              "      <td>...</td>\n",
              "    </tr>\n",
              "    <tr>\n",
              "      <th>415</th>\n",
              "      <td>0.000000</td>\n",
              "      <td>0.000000</td>\n",
              "      <td>0.000000</td>\n",
              "      <td>0.0</td>\n",
              "      <td>0.0</td>\n",
              "      <td>0.000000</td>\n",
              "      <td>0.0</td>\n",
              "      <td>0.0</td>\n",
              "      <td>0.000000</td>\n",
              "      <td>0.000000</td>\n",
              "      <td>...</td>\n",
              "      <td>0.0</td>\n",
              "      <td>0.0</td>\n",
              "      <td>0.000000</td>\n",
              "      <td>0.000000</td>\n",
              "      <td>0.000000</td>\n",
              "      <td>0.000000</td>\n",
              "      <td>0.000000</td>\n",
              "      <td>0.000000</td>\n",
              "      <td>0.000000</td>\n",
              "      <td>0.0</td>\n",
              "    </tr>\n",
              "    <tr>\n",
              "      <th>416</th>\n",
              "      <td>0.000000</td>\n",
              "      <td>0.000000</td>\n",
              "      <td>0.194051</td>\n",
              "      <td>0.0</td>\n",
              "      <td>0.0</td>\n",
              "      <td>0.000000</td>\n",
              "      <td>0.0</td>\n",
              "      <td>0.0</td>\n",
              "      <td>0.000000</td>\n",
              "      <td>0.215366</td>\n",
              "      <td>...</td>\n",
              "      <td>0.0</td>\n",
              "      <td>0.0</td>\n",
              "      <td>0.000000</td>\n",
              "      <td>0.000000</td>\n",
              "      <td>0.000000</td>\n",
              "      <td>0.174595</td>\n",
              "      <td>0.000000</td>\n",
              "      <td>0.000000</td>\n",
              "      <td>0.000000</td>\n",
              "      <td>0.0</td>\n",
              "    </tr>\n",
              "    <tr>\n",
              "      <th>417</th>\n",
              "      <td>0.122706</td>\n",
              "      <td>0.000000</td>\n",
              "      <td>0.000000</td>\n",
              "      <td>0.0</td>\n",
              "      <td>0.0</td>\n",
              "      <td>0.000000</td>\n",
              "      <td>0.0</td>\n",
              "      <td>0.0</td>\n",
              "      <td>0.000000</td>\n",
              "      <td>0.000000</td>\n",
              "      <td>...</td>\n",
              "      <td>0.0</td>\n",
              "      <td>0.0</td>\n",
              "      <td>0.000000</td>\n",
              "      <td>0.101449</td>\n",
              "      <td>0.000000</td>\n",
              "      <td>0.105782</td>\n",
              "      <td>0.136686</td>\n",
              "      <td>0.000000</td>\n",
              "      <td>0.000000</td>\n",
              "      <td>0.0</td>\n",
              "    </tr>\n",
              "    <tr>\n",
              "      <th>418</th>\n",
              "      <td>0.532677</td>\n",
              "      <td>0.000000</td>\n",
              "      <td>0.000000</td>\n",
              "      <td>0.0</td>\n",
              "      <td>0.0</td>\n",
              "      <td>0.000000</td>\n",
              "      <td>0.0</td>\n",
              "      <td>0.0</td>\n",
              "      <td>0.000000</td>\n",
              "      <td>0.000000</td>\n",
              "      <td>...</td>\n",
              "      <td>0.0</td>\n",
              "      <td>0.0</td>\n",
              "      <td>0.000000</td>\n",
              "      <td>0.000000</td>\n",
              "      <td>0.000000</td>\n",
              "      <td>0.000000</td>\n",
              "      <td>0.000000</td>\n",
              "      <td>0.000000</td>\n",
              "      <td>0.000000</td>\n",
              "      <td>0.0</td>\n",
              "    </tr>\n",
              "    <tr>\n",
              "      <th>419</th>\n",
              "      <td>0.000000</td>\n",
              "      <td>0.000000</td>\n",
              "      <td>0.000000</td>\n",
              "      <td>0.0</td>\n",
              "      <td>0.0</td>\n",
              "      <td>0.000000</td>\n",
              "      <td>0.0</td>\n",
              "      <td>0.0</td>\n",
              "      <td>0.000000</td>\n",
              "      <td>0.000000</td>\n",
              "      <td>...</td>\n",
              "      <td>0.0</td>\n",
              "      <td>0.0</td>\n",
              "      <td>0.000000</td>\n",
              "      <td>0.000000</td>\n",
              "      <td>0.000000</td>\n",
              "      <td>0.000000</td>\n",
              "      <td>0.000000</td>\n",
              "      <td>0.468354</td>\n",
              "      <td>0.000000</td>\n",
              "      <td>0.0</td>\n",
              "    </tr>\n",
              "  </tbody>\n",
              "</table>\n",
              "<p>420 rows × 85 columns</p>\n",
              "</div>\n",
              "      <button class=\"colab-df-convert\" onclick=\"convertToInteractive('df-b6c8b74d-dd48-4ffd-adce-f7bbd1abdd54')\"\n",
              "              title=\"Convert this dataframe to an interactive table.\"\n",
              "              style=\"display:none;\">\n",
              "        \n",
              "  <svg xmlns=\"http://www.w3.org/2000/svg\" height=\"24px\"viewBox=\"0 0 24 24\"\n",
              "       width=\"24px\">\n",
              "    <path d=\"M0 0h24v24H0V0z\" fill=\"none\"/>\n",
              "    <path d=\"M18.56 5.44l.94 2.06.94-2.06 2.06-.94-2.06-.94-.94-2.06-.94 2.06-2.06.94zm-11 1L8.5 8.5l.94-2.06 2.06-.94-2.06-.94L8.5 2.5l-.94 2.06-2.06.94zm10 10l.94 2.06.94-2.06 2.06-.94-2.06-.94-.94-2.06-.94 2.06-2.06.94z\"/><path d=\"M17.41 7.96l-1.37-1.37c-.4-.4-.92-.59-1.43-.59-.52 0-1.04.2-1.43.59L10.3 9.45l-7.72 7.72c-.78.78-.78 2.05 0 2.83L4 21.41c.39.39.9.59 1.41.59.51 0 1.02-.2 1.41-.59l7.78-7.78 2.81-2.81c.8-.78.8-2.07 0-2.86zM5.41 20L4 18.59l7.72-7.72 1.47 1.35L5.41 20z\"/>\n",
              "  </svg>\n",
              "      </button>\n",
              "      \n",
              "  <style>\n",
              "    .colab-df-container {\n",
              "      display:flex;\n",
              "      flex-wrap:wrap;\n",
              "      gap: 12px;\n",
              "    }\n",
              "\n",
              "    .colab-df-convert {\n",
              "      background-color: #E8F0FE;\n",
              "      border: none;\n",
              "      border-radius: 50%;\n",
              "      cursor: pointer;\n",
              "      display: none;\n",
              "      fill: #1967D2;\n",
              "      height: 32px;\n",
              "      padding: 0 0 0 0;\n",
              "      width: 32px;\n",
              "    }\n",
              "\n",
              "    .colab-df-convert:hover {\n",
              "      background-color: #E2EBFA;\n",
              "      box-shadow: 0px 1px 2px rgba(60, 64, 67, 0.3), 0px 1px 3px 1px rgba(60, 64, 67, 0.15);\n",
              "      fill: #174EA6;\n",
              "    }\n",
              "\n",
              "    [theme=dark] .colab-df-convert {\n",
              "      background-color: #3B4455;\n",
              "      fill: #D2E3FC;\n",
              "    }\n",
              "\n",
              "    [theme=dark] .colab-df-convert:hover {\n",
              "      background-color: #434B5C;\n",
              "      box-shadow: 0px 1px 3px 1px rgba(0, 0, 0, 0.15);\n",
              "      filter: drop-shadow(0px 1px 2px rgba(0, 0, 0, 0.3));\n",
              "      fill: #FFFFFF;\n",
              "    }\n",
              "  </style>\n",
              "\n",
              "      <script>\n",
              "        const buttonEl =\n",
              "          document.querySelector('#df-b6c8b74d-dd48-4ffd-adce-f7bbd1abdd54 button.colab-df-convert');\n",
              "        buttonEl.style.display =\n",
              "          google.colab.kernel.accessAllowed ? 'block' : 'none';\n",
              "\n",
              "        async function convertToInteractive(key) {\n",
              "          const element = document.querySelector('#df-b6c8b74d-dd48-4ffd-adce-f7bbd1abdd54');\n",
              "          const dataTable =\n",
              "            await google.colab.kernel.invokeFunction('convertToInteractive',\n",
              "                                                     [key], {});\n",
              "          if (!dataTable) return;\n",
              "\n",
              "          const docLinkHtml = 'Like what you see? Visit the ' +\n",
              "            '<a target=\"_blank\" href=https://colab.research.google.com/notebooks/data_table.ipynb>data table notebook</a>'\n",
              "            + ' to learn more about interactive tables.';\n",
              "          element.innerHTML = '';\n",
              "          dataTable['output_type'] = 'display_data';\n",
              "          await google.colab.output.renderOutput(dataTable, element);\n",
              "          const docLink = document.createElement('div');\n",
              "          docLink.innerHTML = docLinkHtml;\n",
              "          element.appendChild(docLink);\n",
              "        }\n",
              "      </script>\n",
              "    </div>\n",
              "  </div>\n",
              "  "
            ],
            "text/plain": [
              "       people    review      game  money  minecraft   amazing  play  server  \\\n",
              "0    0.000000  0.000000  0.000000    0.0        0.0  0.000000   0.0     0.0   \n",
              "1    0.000000  0.248206  0.204456    0.0        0.0  0.248206   0.0     0.0   \n",
              "2    0.000000  0.000000  0.000000    0.0        0.0  0.000000   0.0     0.0   \n",
              "3    0.000000  0.000000  0.000000    0.0        0.0  0.000000   0.0     0.0   \n",
              "4    0.000000  0.000000  0.000000    0.0        0.0  0.000000   0.0     0.0   \n",
              "..        ...       ...       ...    ...        ...       ...   ...     ...   \n",
              "415  0.000000  0.000000  0.000000    0.0        0.0  0.000000   0.0     0.0   \n",
              "416  0.000000  0.000000  0.194051    0.0        0.0  0.000000   0.0     0.0   \n",
              "417  0.122706  0.000000  0.000000    0.0        0.0  0.000000   0.0     0.0   \n",
              "418  0.532677  0.000000  0.000000    0.0        0.0  0.000000   0.0     0.0   \n",
              "419  0.000000  0.000000  0.000000    0.0        0.0  0.000000   0.0     0.0   \n",
              "\n",
              "         chat      kill  ...  die  food     house      easy      life  \\\n",
              "0    0.000000  0.000000  ...  0.0   0.0  0.000000  0.000000  0.000000   \n",
              "1    0.000000  0.000000  ...  0.0   0.0  0.000000  0.000000  0.000000   \n",
              "2    0.000000  0.000000  ...  0.0   0.0  0.000000  0.000000  0.000000   \n",
              "3    0.000000  0.000000  ...  0.0   0.0  0.350164  0.000000  0.000000   \n",
              "4    0.292187  0.000000  ...  0.0   0.0  0.000000  0.223808  0.296739   \n",
              "..        ...       ...  ...  ...   ...       ...       ...       ...   \n",
              "415  0.000000  0.000000  ...  0.0   0.0  0.000000  0.000000  0.000000   \n",
              "416  0.000000  0.215366  ...  0.0   0.0  0.000000  0.000000  0.000000   \n",
              "417  0.000000  0.000000  ...  0.0   0.0  0.000000  0.101449  0.000000   \n",
              "418  0.000000  0.000000  ...  0.0   0.0  0.000000  0.000000  0.000000   \n",
              "419  0.000000  0.000000  ...  0.0   0.0  0.000000  0.000000  0.000000   \n",
              "\n",
              "          let       use       lot  building  buy  \n",
              "0    0.000000  0.000000  0.000000  0.000000  0.0  \n",
              "1    0.000000  0.000000  0.000000  0.000000  0.0  \n",
              "2    0.000000  0.000000  0.000000  0.000000  0.0  \n",
              "3    0.259522  0.000000  0.000000  0.000000  0.0  \n",
              "4    0.000000  0.000000  0.000000  0.274232  0.0  \n",
              "..        ...       ...       ...       ...  ...  \n",
              "415  0.000000  0.000000  0.000000  0.000000  0.0  \n",
              "416  0.174595  0.000000  0.000000  0.000000  0.0  \n",
              "417  0.105782  0.136686  0.000000  0.000000  0.0  \n",
              "418  0.000000  0.000000  0.000000  0.000000  0.0  \n",
              "419  0.000000  0.000000  0.468354  0.000000  0.0  \n",
              "\n",
              "[420 rows x 85 columns]"
            ]
          },
          "metadata": {},
          "execution_count": 15
        }
      ]
    },
    {
      "cell_type": "code",
      "source": [
        "#Displaying the vectorized form in DataFrame Count Vectorizer\n",
        "pd.DataFrame(count_train.toarray(),columns=count_vectorizer.vocabulary_.keys())"
      ],
      "metadata": {
        "colab": {
          "base_uri": "https://localhost:8080/",
          "height": 487
        },
        "id": "JNTQFjsqFvgF",
        "outputId": "a480e035-e5fa-437f-ebaf-4183a40fd52a"
      },
      "execution_count": 105,
      "outputs": [
        {
          "output_type": "execute_result",
          "data": {
            "text/html": [
              "\n",
              "  <div id=\"df-f8cc3793-9723-42ab-b786-b56933aeb36e\">\n",
              "    <div class=\"colab-df-container\">\n",
              "      <div>\n",
              "<style scoped>\n",
              "    .dataframe tbody tr th:only-of-type {\n",
              "        vertical-align: middle;\n",
              "    }\n",
              "\n",
              "    .dataframe tbody tr th {\n",
              "        vertical-align: top;\n",
              "    }\n",
              "\n",
              "    .dataframe thead th {\n",
              "        text-align: right;\n",
              "    }\n",
              "</style>\n",
              "<table border=\"1\" class=\"dataframe\">\n",
              "  <thead>\n",
              "    <tr style=\"text-align: right;\">\n",
              "      <th></th>\n",
              "      <th>people</th>\n",
              "      <th>review</th>\n",
              "      <th>game</th>\n",
              "      <th>money</th>\n",
              "      <th>minecraft</th>\n",
              "      <th>amazing</th>\n",
              "      <th>play</th>\n",
              "      <th>server</th>\n",
              "      <th>chat</th>\n",
              "      <th>kill</th>\n",
              "      <th>...</th>\n",
              "      <th>die</th>\n",
              "      <th>food</th>\n",
              "      <th>house</th>\n",
              "      <th>easy</th>\n",
              "      <th>life</th>\n",
              "      <th>let</th>\n",
              "      <th>use</th>\n",
              "      <th>lot</th>\n",
              "      <th>building</th>\n",
              "      <th>buy</th>\n",
              "    </tr>\n",
              "  </thead>\n",
              "  <tbody>\n",
              "    <tr>\n",
              "      <th>0</th>\n",
              "      <td>0</td>\n",
              "      <td>0</td>\n",
              "      <td>0</td>\n",
              "      <td>0</td>\n",
              "      <td>0</td>\n",
              "      <td>0</td>\n",
              "      <td>0</td>\n",
              "      <td>0</td>\n",
              "      <td>0</td>\n",
              "      <td>0</td>\n",
              "      <td>...</td>\n",
              "      <td>0</td>\n",
              "      <td>0</td>\n",
              "      <td>0</td>\n",
              "      <td>0</td>\n",
              "      <td>0</td>\n",
              "      <td>0</td>\n",
              "      <td>0</td>\n",
              "      <td>0</td>\n",
              "      <td>0</td>\n",
              "      <td>0</td>\n",
              "    </tr>\n",
              "    <tr>\n",
              "      <th>1</th>\n",
              "      <td>0</td>\n",
              "      <td>1</td>\n",
              "      <td>1</td>\n",
              "      <td>0</td>\n",
              "      <td>0</td>\n",
              "      <td>1</td>\n",
              "      <td>0</td>\n",
              "      <td>0</td>\n",
              "      <td>0</td>\n",
              "      <td>0</td>\n",
              "      <td>...</td>\n",
              "      <td>0</td>\n",
              "      <td>0</td>\n",
              "      <td>0</td>\n",
              "      <td>0</td>\n",
              "      <td>0</td>\n",
              "      <td>0</td>\n",
              "      <td>0</td>\n",
              "      <td>0</td>\n",
              "      <td>0</td>\n",
              "      <td>0</td>\n",
              "    </tr>\n",
              "    <tr>\n",
              "      <th>2</th>\n",
              "      <td>0</td>\n",
              "      <td>0</td>\n",
              "      <td>0</td>\n",
              "      <td>0</td>\n",
              "      <td>0</td>\n",
              "      <td>0</td>\n",
              "      <td>0</td>\n",
              "      <td>0</td>\n",
              "      <td>0</td>\n",
              "      <td>0</td>\n",
              "      <td>...</td>\n",
              "      <td>0</td>\n",
              "      <td>0</td>\n",
              "      <td>0</td>\n",
              "      <td>0</td>\n",
              "      <td>0</td>\n",
              "      <td>0</td>\n",
              "      <td>0</td>\n",
              "      <td>0</td>\n",
              "      <td>0</td>\n",
              "      <td>0</td>\n",
              "    </tr>\n",
              "    <tr>\n",
              "      <th>3</th>\n",
              "      <td>0</td>\n",
              "      <td>0</td>\n",
              "      <td>0</td>\n",
              "      <td>0</td>\n",
              "      <td>0</td>\n",
              "      <td>0</td>\n",
              "      <td>0</td>\n",
              "      <td>0</td>\n",
              "      <td>0</td>\n",
              "      <td>0</td>\n",
              "      <td>...</td>\n",
              "      <td>0</td>\n",
              "      <td>0</td>\n",
              "      <td>1</td>\n",
              "      <td>0</td>\n",
              "      <td>0</td>\n",
              "      <td>1</td>\n",
              "      <td>0</td>\n",
              "      <td>0</td>\n",
              "      <td>0</td>\n",
              "      <td>0</td>\n",
              "    </tr>\n",
              "    <tr>\n",
              "      <th>4</th>\n",
              "      <td>0</td>\n",
              "      <td>0</td>\n",
              "      <td>0</td>\n",
              "      <td>0</td>\n",
              "      <td>0</td>\n",
              "      <td>0</td>\n",
              "      <td>0</td>\n",
              "      <td>0</td>\n",
              "      <td>1</td>\n",
              "      <td>0</td>\n",
              "      <td>...</td>\n",
              "      <td>0</td>\n",
              "      <td>0</td>\n",
              "      <td>0</td>\n",
              "      <td>1</td>\n",
              "      <td>1</td>\n",
              "      <td>0</td>\n",
              "      <td>0</td>\n",
              "      <td>0</td>\n",
              "      <td>1</td>\n",
              "      <td>0</td>\n",
              "    </tr>\n",
              "    <tr>\n",
              "      <th>...</th>\n",
              "      <td>...</td>\n",
              "      <td>...</td>\n",
              "      <td>...</td>\n",
              "      <td>...</td>\n",
              "      <td>...</td>\n",
              "      <td>...</td>\n",
              "      <td>...</td>\n",
              "      <td>...</td>\n",
              "      <td>...</td>\n",
              "      <td>...</td>\n",
              "      <td>...</td>\n",
              "      <td>...</td>\n",
              "      <td>...</td>\n",
              "      <td>...</td>\n",
              "      <td>...</td>\n",
              "      <td>...</td>\n",
              "      <td>...</td>\n",
              "      <td>...</td>\n",
              "      <td>...</td>\n",
              "      <td>...</td>\n",
              "      <td>...</td>\n",
              "    </tr>\n",
              "    <tr>\n",
              "      <th>415</th>\n",
              "      <td>0</td>\n",
              "      <td>0</td>\n",
              "      <td>0</td>\n",
              "      <td>0</td>\n",
              "      <td>0</td>\n",
              "      <td>0</td>\n",
              "      <td>0</td>\n",
              "      <td>0</td>\n",
              "      <td>0</td>\n",
              "      <td>0</td>\n",
              "      <td>...</td>\n",
              "      <td>0</td>\n",
              "      <td>0</td>\n",
              "      <td>0</td>\n",
              "      <td>0</td>\n",
              "      <td>0</td>\n",
              "      <td>0</td>\n",
              "      <td>0</td>\n",
              "      <td>0</td>\n",
              "      <td>0</td>\n",
              "      <td>0</td>\n",
              "    </tr>\n",
              "    <tr>\n",
              "      <th>416</th>\n",
              "      <td>0</td>\n",
              "      <td>0</td>\n",
              "      <td>1</td>\n",
              "      <td>0</td>\n",
              "      <td>0</td>\n",
              "      <td>0</td>\n",
              "      <td>0</td>\n",
              "      <td>0</td>\n",
              "      <td>0</td>\n",
              "      <td>1</td>\n",
              "      <td>...</td>\n",
              "      <td>0</td>\n",
              "      <td>0</td>\n",
              "      <td>0</td>\n",
              "      <td>0</td>\n",
              "      <td>0</td>\n",
              "      <td>1</td>\n",
              "      <td>0</td>\n",
              "      <td>0</td>\n",
              "      <td>0</td>\n",
              "      <td>0</td>\n",
              "    </tr>\n",
              "    <tr>\n",
              "      <th>417</th>\n",
              "      <td>1</td>\n",
              "      <td>0</td>\n",
              "      <td>0</td>\n",
              "      <td>0</td>\n",
              "      <td>0</td>\n",
              "      <td>0</td>\n",
              "      <td>0</td>\n",
              "      <td>0</td>\n",
              "      <td>0</td>\n",
              "      <td>0</td>\n",
              "      <td>...</td>\n",
              "      <td>0</td>\n",
              "      <td>0</td>\n",
              "      <td>0</td>\n",
              "      <td>1</td>\n",
              "      <td>0</td>\n",
              "      <td>1</td>\n",
              "      <td>1</td>\n",
              "      <td>0</td>\n",
              "      <td>0</td>\n",
              "      <td>0</td>\n",
              "    </tr>\n",
              "    <tr>\n",
              "      <th>418</th>\n",
              "      <td>1</td>\n",
              "      <td>0</td>\n",
              "      <td>0</td>\n",
              "      <td>0</td>\n",
              "      <td>0</td>\n",
              "      <td>0</td>\n",
              "      <td>0</td>\n",
              "      <td>0</td>\n",
              "      <td>0</td>\n",
              "      <td>0</td>\n",
              "      <td>...</td>\n",
              "      <td>0</td>\n",
              "      <td>0</td>\n",
              "      <td>0</td>\n",
              "      <td>0</td>\n",
              "      <td>0</td>\n",
              "      <td>0</td>\n",
              "      <td>0</td>\n",
              "      <td>0</td>\n",
              "      <td>0</td>\n",
              "      <td>0</td>\n",
              "    </tr>\n",
              "    <tr>\n",
              "      <th>419</th>\n",
              "      <td>0</td>\n",
              "      <td>0</td>\n",
              "      <td>0</td>\n",
              "      <td>0</td>\n",
              "      <td>0</td>\n",
              "      <td>0</td>\n",
              "      <td>0</td>\n",
              "      <td>0</td>\n",
              "      <td>0</td>\n",
              "      <td>0</td>\n",
              "      <td>...</td>\n",
              "      <td>0</td>\n",
              "      <td>0</td>\n",
              "      <td>0</td>\n",
              "      <td>0</td>\n",
              "      <td>0</td>\n",
              "      <td>0</td>\n",
              "      <td>0</td>\n",
              "      <td>1</td>\n",
              "      <td>0</td>\n",
              "      <td>0</td>\n",
              "    </tr>\n",
              "  </tbody>\n",
              "</table>\n",
              "<p>420 rows × 85 columns</p>\n",
              "</div>\n",
              "      <button class=\"colab-df-convert\" onclick=\"convertToInteractive('df-f8cc3793-9723-42ab-b786-b56933aeb36e')\"\n",
              "              title=\"Convert this dataframe to an interactive table.\"\n",
              "              style=\"display:none;\">\n",
              "        \n",
              "  <svg xmlns=\"http://www.w3.org/2000/svg\" height=\"24px\"viewBox=\"0 0 24 24\"\n",
              "       width=\"24px\">\n",
              "    <path d=\"M0 0h24v24H0V0z\" fill=\"none\"/>\n",
              "    <path d=\"M18.56 5.44l.94 2.06.94-2.06 2.06-.94-2.06-.94-.94-2.06-.94 2.06-2.06.94zm-11 1L8.5 8.5l.94-2.06 2.06-.94-2.06-.94L8.5 2.5l-.94 2.06-2.06.94zm10 10l.94 2.06.94-2.06 2.06-.94-2.06-.94-.94-2.06-.94 2.06-2.06.94z\"/><path d=\"M17.41 7.96l-1.37-1.37c-.4-.4-.92-.59-1.43-.59-.52 0-1.04.2-1.43.59L10.3 9.45l-7.72 7.72c-.78.78-.78 2.05 0 2.83L4 21.41c.39.39.9.59 1.41.59.51 0 1.02-.2 1.41-.59l7.78-7.78 2.81-2.81c.8-.78.8-2.07 0-2.86zM5.41 20L4 18.59l7.72-7.72 1.47 1.35L5.41 20z\"/>\n",
              "  </svg>\n",
              "      </button>\n",
              "      \n",
              "  <style>\n",
              "    .colab-df-container {\n",
              "      display:flex;\n",
              "      flex-wrap:wrap;\n",
              "      gap: 12px;\n",
              "    }\n",
              "\n",
              "    .colab-df-convert {\n",
              "      background-color: #E8F0FE;\n",
              "      border: none;\n",
              "      border-radius: 50%;\n",
              "      cursor: pointer;\n",
              "      display: none;\n",
              "      fill: #1967D2;\n",
              "      height: 32px;\n",
              "      padding: 0 0 0 0;\n",
              "      width: 32px;\n",
              "    }\n",
              "\n",
              "    .colab-df-convert:hover {\n",
              "      background-color: #E2EBFA;\n",
              "      box-shadow: 0px 1px 2px rgba(60, 64, 67, 0.3), 0px 1px 3px 1px rgba(60, 64, 67, 0.15);\n",
              "      fill: #174EA6;\n",
              "    }\n",
              "\n",
              "    [theme=dark] .colab-df-convert {\n",
              "      background-color: #3B4455;\n",
              "      fill: #D2E3FC;\n",
              "    }\n",
              "\n",
              "    [theme=dark] .colab-df-convert:hover {\n",
              "      background-color: #434B5C;\n",
              "      box-shadow: 0px 1px 3px 1px rgba(0, 0, 0, 0.15);\n",
              "      filter: drop-shadow(0px 1px 2px rgba(0, 0, 0, 0.3));\n",
              "      fill: #FFFFFF;\n",
              "    }\n",
              "  </style>\n",
              "\n",
              "      <script>\n",
              "        const buttonEl =\n",
              "          document.querySelector('#df-f8cc3793-9723-42ab-b786-b56933aeb36e button.colab-df-convert');\n",
              "        buttonEl.style.display =\n",
              "          google.colab.kernel.accessAllowed ? 'block' : 'none';\n",
              "\n",
              "        async function convertToInteractive(key) {\n",
              "          const element = document.querySelector('#df-f8cc3793-9723-42ab-b786-b56933aeb36e');\n",
              "          const dataTable =\n",
              "            await google.colab.kernel.invokeFunction('convertToInteractive',\n",
              "                                                     [key], {});\n",
              "          if (!dataTable) return;\n",
              "\n",
              "          const docLinkHtml = 'Like what you see? Visit the ' +\n",
              "            '<a target=\"_blank\" href=https://colab.research.google.com/notebooks/data_table.ipynb>data table notebook</a>'\n",
              "            + ' to learn more about interactive tables.';\n",
              "          element.innerHTML = '';\n",
              "          dataTable['output_type'] = 'display_data';\n",
              "          await google.colab.output.renderOutput(dataTable, element);\n",
              "          const docLink = document.createElement('div');\n",
              "          docLink.innerHTML = docLinkHtml;\n",
              "          element.appendChild(docLink);\n",
              "        }\n",
              "      </script>\n",
              "    </div>\n",
              "  </div>\n",
              "  "
            ],
            "text/plain": [
              "     people  review  game  money  minecraft  amazing  play  server  chat  \\\n",
              "0         0       0     0      0          0        0     0       0     0   \n",
              "1         0       1     1      0          0        1     0       0     0   \n",
              "2         0       0     0      0          0        0     0       0     0   \n",
              "3         0       0     0      0          0        0     0       0     0   \n",
              "4         0       0     0      0          0        0     0       0     1   \n",
              "..      ...     ...   ...    ...        ...      ...   ...     ...   ...   \n",
              "415       0       0     0      0          0        0     0       0     0   \n",
              "416       0       0     1      0          0        0     0       0     0   \n",
              "417       1       0     0      0          0        0     0       0     0   \n",
              "418       1       0     0      0          0        0     0       0     0   \n",
              "419       0       0     0      0          0        0     0       0     0   \n",
              "\n",
              "     kill  ...  die  food  house  easy  life  let  use  lot  building  buy  \n",
              "0       0  ...    0     0      0     0     0    0    0    0         0    0  \n",
              "1       0  ...    0     0      0     0     0    0    0    0         0    0  \n",
              "2       0  ...    0     0      0     0     0    0    0    0         0    0  \n",
              "3       0  ...    0     0      1     0     0    1    0    0         0    0  \n",
              "4       0  ...    0     0      0     1     1    0    0    0         1    0  \n",
              "..    ...  ...  ...   ...    ...   ...   ...  ...  ...  ...       ...  ...  \n",
              "415     0  ...    0     0      0     0     0    0    0    0         0    0  \n",
              "416     1  ...    0     0      0     0     0    1    0    0         0    0  \n",
              "417     0  ...    0     0      0     1     0    1    1    0         0    0  \n",
              "418     0  ...    0     0      0     0     0    0    0    0         0    0  \n",
              "419     0  ...    0     0      0     0     0    0    0    1         0    0  \n",
              "\n",
              "[420 rows x 85 columns]"
            ]
          },
          "metadata": {},
          "execution_count": 105
        }
      ]
    },
    {
      "cell_type": "markdown",
      "source": [
        "# Model Building"
      ],
      "metadata": {
        "id": "7cXaPuM467k4"
      }
    },
    {
      "cell_type": "code",
      "source": [
        "# define custom functions for machine learning\n",
        "\n",
        "from sklearn.model_selection import cross_val_score\n",
        "from sklearn.model_selection import cross_val_predict\n",
        "from sklearn.metrics import confusion_matrix\n",
        "from sklearn.model_selection import KFold\n",
        "from sklearn.model_selection import GridSearchCV, RandomizedSearchCV\n",
        "\n",
        "def crossvalidate_classifier(model, X, y,cm=False):\n",
        "    \n",
        "    scores = cross_val_score(model, X, y, scoring='f1_macro', cv=5)\n",
        "    #scores = cross_val_score(model, X, y, scoring='accuracy', cv=5)\n",
        "    print(\"%0.2f f-1 score with a standard deviation of %0.2f\" % (scores.mean(), scores.std()))\n",
        "    #print(\"%0.2f Accuracy score with a standard deviation of %0.2f\" % (scores.mean(), scores.std()))\n",
        "    y_pred = cross_val_predict(model, X, y, cv=5)\n",
        "\n",
        "\n",
        "    if(cm):\n",
        "      conf_mat = confusion_matrix(y, y_pred)\n",
        "      disp=ConfusionMatrixDisplay(conf_mat, display_labels = ['suitable','unsuitable'])\n",
        "      disp.plot()\n",
        "      plt.show()\n",
        "     \n",
        "    \n",
        "def evaluate_classifier(model, X_train, X_test, y_train, y_test):\n",
        "      \n",
        "    # ... fit your model here ...\n",
        "    model.fit(X_train,y_train)\n",
        "\n",
        "    # Run predict on your tfidf test data to get your predictions\n",
        "    pred = model.predict(X_test)\n",
        "\n",
        "    # Calculate your accuracy using the metrics module\n",
        "    acc_score = metrics.accuracy_score(pred, y_test)\n",
        "    print(\"Accuracy Score:   %0.3f\" % acc_score)\n",
        "    \n",
        "    f1score = metrics.f1_score(pred, y_test, average='macro')\n",
        "    print(\"F-1 Score:   %0.3f\" % f1score)\n",
        "\n",
        "    # Calculate the confusion matrices for the tfidf_svc model\n",
        "    #svc_cm = metrics.confusion_matrix(y_test, pred, labels=['fulfillment','other'])\n",
        "\n",
        "    # Plot the confusion matrix using the plot_confusion_matrix function\n",
        "    #plot_confusion_matrix(svc_cm, classes = ['fulfillment','other'], title=\"Confusion Matrix\")\n",
        "    \n",
        "    return model\n",
        "\n",
        "# def best_hyperparam(X_train_data, X_test_data, y_train_data, y_test_data, \n",
        "#                        model, param_grid, cv=5, scoring_fit='f1_score',\n",
        "#                        do_probabilities = False):\n",
        "#     gs = RandomizedSearchCV(\n",
        "#         estimator=model,\n",
        "#         param_grid=param_grid, \n",
        "#         cv=cv, \n",
        "#         n_jobs=-1, \n",
        "#         scoring=scoring_fit,\n",
        "#         verbose=2\n",
        "#     )\n",
        "#     fitted_model = gs.fit(X_train_data, y_train_data, epochs=100)\n",
        "    \n",
        "#     if do_probabilities:\n",
        "#       pred = fitted_model.predict_proba(X_test_data)\n",
        "#     else:\n",
        "#       pred = fitted_model.predict(X_test_data)\n",
        "    \n",
        "#     return fitted_model, pred"
      ],
      "metadata": {
        "id": "ATZ24yfd08vL"
      },
      "execution_count": 51,
      "outputs": []
    },
    {
      "cell_type": "markdown",
      "source": [
        "## TF-IDF"
      ],
      "metadata": {
        "id": "S1FIV0mz7Eay"
      }
    },
    {
      "cell_type": "code",
      "source": [
        "crossvalidate_classifier(RandomForestClassifier(random_state=1200),tfidf_train,Ytrain,cm=True)\n"
      ],
      "metadata": {
        "colab": {
          "base_uri": "https://localhost:8080/",
          "height": 297
        },
        "id": "H6lyQktqxAql",
        "outputId": "1aaaea1f-7494-4938-f5e7-b2226f02ae24"
      },
      "execution_count": 52,
      "outputs": [
        {
          "output_type": "stream",
          "name": "stdout",
          "text": [
            "0.50 f-1 score with a standard deviation of 0.05\n"
          ]
        },
        {
          "output_type": "display_data",
          "data": {
            "image/png": "[encoded data removed]",
            "text/plain": [
              "<Figure size 432x288 with 2 Axes>"
            ]
          },
          "metadata": {
            "needs_background": "light"
          }
        }
      ]
    },
    {
      "cell_type": "code",
      "source": [
        "crossvalidate_classifier(GradientBoostingClassifier(random_state=1200,max_depth=15,max_features=0.5),tfidf_train,Ytrain,cm=True)\n"
      ],
      "metadata": {
        "colab": {
          "base_uri": "https://localhost:8080/",
          "height": 297
        },
        "id": "36ACLQpB5gc9",
        "outputId": "e9049ce5-c18b-4d0b-f644-c6b2a76e82e0"
      },
      "execution_count": 59,
      "outputs": [
        {
          "output_type": "stream",
          "name": "stdout",
          "text": [
            "0.54 f-1 score with a standard deviation of 0.06\n"
          ]
        },
        {
          "output_type": "display_data",
          "data": {
            "image/png": "[encoded data removed]",
            "text/plain": [
              "<Figure size 432x288 with 2 Axes>"
            ]
          },
          "metadata": {
            "needs_background": "light"
          }
        }
      ]
    },
    {
      "cell_type": "code",
      "source": [
        "crossvalidate_classifier(RandomForestClassifier(random_state=1200),count_train,Ytrain,cm=True)\n"
      ],
      "metadata": {
        "colab": {
          "base_uri": "https://localhost:8080/",
          "height": 297
        },
        "id": "hcVbSxr37S6Z",
        "outputId": "51c22bde-a75a-43f6-9054-a63ff4cf155f"
      },
      "execution_count": 62,
      "outputs": [
        {
          "output_type": "stream",
          "name": "stdout",
          "text": [
            "0.52 f-1 score with a standard deviation of 0.06\n"
          ]
        },
        {
          "output_type": "display_data",
          "data": {
            "image/png": "[encoded data removed]",
            "text/plain": [
              "<Figure size 432x288 with 2 Axes>"
            ]
          },
          "metadata": {
            "needs_background": "light"
          }
        }
      ]
    },
    {
      "cell_type": "code",
      "source": [
        "crossvalidate_classifier(GradientBoostingClassifier(random_state=1200,max_depth=15,max_features=0.5),count_train,Ytrain,cm=True)\n"
      ],
      "metadata": {
        "colab": {
          "base_uri": "https://localhost:8080/",
          "height": 297
        },
        "id": "XROUVRtC7Wgb",
        "outputId": "0e412d90-df7a-472e-f4f2-c3a97cc576d2"
      },
      "execution_count": 63,
      "outputs": [
        {
          "output_type": "stream",
          "name": "stdout",
          "text": [
            "0.51 f-1 score with a standard deviation of 0.04\n"
          ]
        },
        {
          "output_type": "display_data",
          "data": {
            "image/png": "[encoded data removed]",
            "text/plain": [
              "<Figure size 432x288 with 2 Axes>"
            ]
          },
          "metadata": {
            "needs_background": "light"
          }
        }
      ]
    },
    {
      "cell_type": "markdown",
      "source": [
        "# Evaluation"
      ],
      "metadata": {
        "id": "jgq9BXYQ6-9U"
      }
    },
    {
      "cell_type": "code",
      "source": [
        "evaluate_classifier(RandomForestClassifier(random_state=1200),tfidf_train,tfidf_test,Ytrain,Ytest)\n"
      ],
      "metadata": {
        "colab": {
          "base_uri": "https://localhost:8080/"
        },
        "id": "WR7fGFtrz-xP",
        "outputId": "4432e4bc-8d0b-4e54-dbd6-23dd238aa2bc"
      },
      "execution_count": 60,
      "outputs": [
        {
          "output_type": "stream",
          "name": "stdout",
          "text": [
            "Accuracy Score:   0.896\n",
            "F-1 Score:   0.549\n"
          ]
        },
        {
          "output_type": "execute_result",
          "data": {
            "text/plain": [
              "RandomForestClassifier(random_state=1200)"
            ]
          },
          "metadata": {},
          "execution_count": 60
        }
      ]
    },
    {
      "cell_type": "code",
      "source": [
        "evaluate_classifier(GradientBoostingClassifier(random_state=1200,max_depth=15,max_features=0.5),tfidf_train,tfidf_test,Ytrain,Ytest)\n"
      ],
      "metadata": {
        "colab": {
          "base_uri": "https://localhost:8080/"
        },
        "id": "qRxIZGOHzjqf",
        "outputId": "2115907b-0249-4e5c-d7ea-8678cba1d94e"
      },
      "execution_count": 61,
      "outputs": [
        {
          "output_type": "stream",
          "name": "stdout",
          "text": [
            "Accuracy Score:   0.877\n",
            "F-1 Score:   0.534\n"
          ]
        },
        {
          "output_type": "execute_result",
          "data": {
            "text/plain": [
              "GradientBoostingClassifier(max_depth=15, max_features=0.5, random_state=1200)"
            ]
          },
          "metadata": {},
          "execution_count": 61
        }
      ]
    },
    {
      "cell_type": "code",
      "source": [
        "evaluate_classifier(RandomForestClassifier(random_state=1200),count_train,count_test,Ytrain,Ytest)\n"
      ],
      "metadata": {
        "colab": {
          "base_uri": "https://localhost:8080/"
        },
        "id": "Irt5BPmo7QnI",
        "outputId": "b0f6e72d-572c-4a71-a20c-677e7270e467"
      },
      "execution_count": 64,
      "outputs": [
        {
          "output_type": "stream",
          "name": "stdout",
          "text": [
            "Accuracy Score:   0.915\n",
            "F-1 Score:   0.677\n"
          ]
        },
        {
          "output_type": "execute_result",
          "data": {
            "text/plain": [
              "RandomForestClassifier(random_state=1200)"
            ]
          },
          "metadata": {},
          "execution_count": 64
        }
      ]
    },
    {
      "cell_type": "code",
      "source": [
        "evaluate_classifier(GradientBoostingClassifier(random_state=1200,max_depth=15,max_features=0.5),count_train,count_test,Ytrain,Ytest)\n"
      ],
      "metadata": {
        "colab": {
          "base_uri": "https://localhost:8080/"
        },
        "id": "8V3YIlc97nTD",
        "outputId": "cdf51d7d-3ee7-4387-c08b-712f18bb2ce2"
      },
      "execution_count": 65,
      "outputs": [
        {
          "output_type": "stream",
          "name": "stdout",
          "text": [
            "Accuracy Score:   0.915\n",
            "F-1 Score:   0.631\n"
          ]
        },
        {
          "output_type": "execute_result",
          "data": {
            "text/plain": [
              "GradientBoostingClassifier(max_depth=15, max_features=0.5, random_state=1200)"
            ]
          },
          "metadata": {},
          "execution_count": 65
        }
      ]
    },
    {
      "cell_type": "markdown",
      "source": [
        "# Conclusion\n",
        "\n",
        "From above evaluation results we can see that count vectorizer is performing better than TF-IDF in this case . Giving an accuracy of 91% and F1 score of 67%.\n",
        "\n",
        "*Further work*\n",
        "\n",
        "We can further improve our model using Grid Search For hyperparameter tuning ."
      ],
      "metadata": {
        "id": "Q7WTFCm97zEp"
      }
    },
    {
      "cell_type": "code",
      "source": [
        ""
      ],
      "metadata": {
        "id": "yhz9YkUE8dCn"
      },
      "execution_count": null,
      "outputs": []
    }
  ]
}