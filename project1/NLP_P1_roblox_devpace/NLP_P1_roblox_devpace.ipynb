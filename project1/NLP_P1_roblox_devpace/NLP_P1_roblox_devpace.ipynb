{
 "cells": [
  {
   "cell_type": "markdown",
   "metadata": {
    "id": "nBKfEfkJd60Q"
   },
   "source": [
    "## Roblox Reviews:  Binary Classification using Supervised NLP\n",
    " \n",
    "Assignment 1:  Devika Pace \n",
    " "
   ]
  },
  {
   "cell_type": "markdown",
   "metadata": {
    "id": "KTR4aZO-eB9s"
   },
   "source": [
    "[Import Libraries and Data](#1)\n",
    "\n",
    "[Clean & Create Binary Classification Label](#2)\n",
    "\n",
    "[NLP Data-Preprocessing (NLTK, Gensim)](#3)\n",
    "- Clean\n",
    "- Tokenize\n",
    "- Stop Word Removal\n",
    "- Stemming and Lemmatization\n",
    "\n",
    "[ML Preparation - Support Functions with SciKit Learn](#4)\n",
    "- Cross-Validation\n",
    "- Evaluation\n",
    "- Hyperparameter Tuning\n",
    "\n",
    "[ML Pre-Processing](#5)\n",
    "- Vectorization\n",
    "- Train_Test Split\n",
    "\n",
    "[Model Training & Evaluation](#6)\n",
    "- Classification\n",
    "- Metrics\n",
    "- Selection\n",
    "- Visualization\n",
    "- Final Results\n"
   ]
  },
  {
   "cell_type": "markdown",
   "metadata": {
    "id": "KTbPwr5VbK8s"
   },
   "source": [
    "<a name=\"1\"></a>\n",
    "### **Import Libraries**"
   ]
  },
  {
   "cell_type": "code",
   "execution_count": 1,
   "metadata": {
    "id": "-17dLWNFS0o6"
   },
   "outputs": [],
   "source": [
    "import numpy as np\n",
    "import pandas as pd\n",
    "import matplotlib.pyplot as plt\n",
    "\n",
    "import nltk\n",
    "from nltk.stem import WordNetLemmatizer, SnowballStemmer\n",
    "from nltk.tag import pos_tag\n",
    "from nltk.tokenize import word_tokenize\n",
    "\n",
    "import gensim\n",
    "from gensim.utils import simple_preprocess\n",
    "from gensim.parsing.preprocessing import STOPWORDS\n",
    "\n",
    "from sklearn import metrics\n",
    "from sklearn.model_selection import cross_val_score\n",
    "from sklearn.model_selection import cross_val_predict\n",
    "from sklearn.metrics import confusion_matrix, plot_confusion_matrix\n",
    "from sklearn.model_selection import KFold, StratifiedKFold\n",
    "from sklearn.model_selection import GridSearchCV, RandomizedSearchCV\n",
    "from pprint import pprint"
   ]
  },
  {
   "cell_type": "markdown",
   "metadata": {},
   "source": [
    "### Import Dataset - Roblox Reviews\n",
    "\n",
    "The dataset was created utilizing parsehub to web scrape 81 pages of Roblox game reviews for a total of 1620 reviews from the [Common Sense Media](https://www.commonsensemedia.org/website-reviews/roblox) site."
   ]
  },
  {
   "cell_type": "code",
   "execution_count": 2,
   "metadata": {
    "id": "n75MfHuSTBKF"
   },
   "outputs": [],
   "source": [
    "df = pd.read_csv('roblox_80.csv', encoding='utf-8')"
   ]
  },
  {
   "cell_type": "markdown",
   "metadata": {
    "id": "w8ztOArmb_EV"
   },
   "source": [
    "<a name=\"2\"></a>\n",
    "### **Clean & Create Binary Classification Label**"
   ]
  },
  {
   "cell_type": "code",
   "execution_count": 3,
   "metadata": {
    "colab": {
     "base_uri": "https://localhost:8080/",
     "height": 206
    },
    "id": "Bspc8jeFTX2m",
    "outputId": "748a7852-e499-43a6-aa3e-8959ffda9bdb"
   },
   "outputs": [
    {
     "data": {
      "text/html": [
       "<div>\n",
       "<style scoped>\n",
       "    .dataframe tbody tr th:only-of-type {\n",
       "        vertical-align: middle;\n",
       "    }\n",
       "\n",
       "    .dataframe tbody tr th {\n",
       "        vertical-align: top;\n",
       "    }\n",
       "\n",
       "    .dataframe thead th {\n",
       "        text-align: right;\n",
       "    }\n",
       "</style>\n",
       "<table border=\"1\" class=\"dataframe\">\n",
       "  <thead>\n",
       "    <tr style=\"text-align: right;\">\n",
       "      <th></th>\n",
       "      <th>selection1_name</th>\n",
       "      <th>selection1_selection2</th>\n",
       "      <th>selection1_selection3</th>\n",
       "    </tr>\n",
       "  </thead>\n",
       "  <tbody>\n",
       "    <tr>\n",
       "      <th>0</th>\n",
       "      <td>age 7+</td>\n",
       "      <td>There are pros and cons to this site. First of...</td>\n",
       "      <td>Adult</td>\n",
       "    </tr>\n",
       "    <tr>\n",
       "      <th>1</th>\n",
       "      <td>age 7+</td>\n",
       "      <td>I know what your thinking... WHY 7!!!!! I tell...</td>\n",
       "      <td>Parent of a 9-year-old</td>\n",
       "    </tr>\n",
       "    <tr>\n",
       "      <th>2</th>\n",
       "      <td>age 6+</td>\n",
       "      <td>My daughter plays ROBLOX all the time. I decid...</td>\n",
       "      <td>Parent of a 9-year-old</td>\n",
       "    </tr>\n",
       "    <tr>\n",
       "      <th>3</th>\n",
       "      <td>age 6+</td>\n",
       "      <td>i love roblox i have obc and it is fine and go...</td>\n",
       "      <td>Adult</td>\n",
       "    </tr>\n",
       "    <tr>\n",
       "      <th>4</th>\n",
       "      <td>age 12+</td>\n",
       "      <td>ROBLOX is a very educational game and inspires...</td>\n",
       "      <td>Adult</td>\n",
       "    </tr>\n",
       "  </tbody>\n",
       "</table>\n",
       "</div>"
      ],
      "text/plain": [
       "  selection1_name                              selection1_selection2  \\\n",
       "0          age 7+  There are pros and cons to this site. First of...   \n",
       "1          age 7+  I know what your thinking... WHY 7!!!!! I tell...   \n",
       "2          age 6+  My daughter plays ROBLOX all the time. I decid...   \n",
       "3          age 6+  i love roblox i have obc and it is fine and go...   \n",
       "4         age 12+  ROBLOX is a very educational game and inspires...   \n",
       "\n",
       "    selection1_selection3  \n",
       "0                   Adult  \n",
       "1  Parent of a 9-year-old  \n",
       "2  Parent of a 9-year-old  \n",
       "3                   Adult  \n",
       "4                   Adult  "
      ]
     },
     "execution_count": 3,
     "metadata": {},
     "output_type": "execute_result"
    }
   ],
   "source": [
    "df.head()"
   ]
  },
  {
   "cell_type": "code",
   "execution_count": 4,
   "metadata": {},
   "outputs": [
    {
     "data": {
      "text/plain": [
       "(1620, 3)"
      ]
     },
     "execution_count": 4,
     "metadata": {},
     "output_type": "execute_result"
    }
   ],
   "source": [
    "df.columns = ['recommended age', 'review', 'author']\n",
    "df.shape"
   ]
  },
  {
   "cell_type": "code",
   "execution_count": 5,
   "metadata": {},
   "outputs": [
    {
     "data": {
      "text/html": [
       "<div>\n",
       "<style scoped>\n",
       "    .dataframe tbody tr th:only-of-type {\n",
       "        vertical-align: middle;\n",
       "    }\n",
       "\n",
       "    .dataframe tbody tr th {\n",
       "        vertical-align: top;\n",
       "    }\n",
       "\n",
       "    .dataframe thead th {\n",
       "        text-align: right;\n",
       "    }\n",
       "</style>\n",
       "<table border=\"1\" class=\"dataframe\">\n",
       "  <thead>\n",
       "    <tr style=\"text-align: right;\">\n",
       "      <th></th>\n",
       "      <th>recommended age</th>\n",
       "      <th>review</th>\n",
       "      <th>author</th>\n",
       "    </tr>\n",
       "  </thead>\n",
       "  <tbody>\n",
       "    <tr>\n",
       "      <th>0</th>\n",
       "      <td>age 7+</td>\n",
       "      <td>There are pros and cons to this site. First of...</td>\n",
       "      <td>Adult</td>\n",
       "    </tr>\n",
       "    <tr>\n",
       "      <th>1</th>\n",
       "      <td>age 7+</td>\n",
       "      <td>I know what your thinking... WHY 7!!!!! I tell...</td>\n",
       "      <td>Parent of a 9-year-old</td>\n",
       "    </tr>\n",
       "    <tr>\n",
       "      <th>2</th>\n",
       "      <td>age 6+</td>\n",
       "      <td>My daughter plays ROBLOX all the time. I decid...</td>\n",
       "      <td>Parent of a 9-year-old</td>\n",
       "    </tr>\n",
       "    <tr>\n",
       "      <th>3</th>\n",
       "      <td>age 6+</td>\n",
       "      <td>i love roblox i have obc and it is fine and go...</td>\n",
       "      <td>Adult</td>\n",
       "    </tr>\n",
       "    <tr>\n",
       "      <th>4</th>\n",
       "      <td>age 12+</td>\n",
       "      <td>ROBLOX is a very educational game and inspires...</td>\n",
       "      <td>Adult</td>\n",
       "    </tr>\n",
       "  </tbody>\n",
       "</table>\n",
       "</div>"
      ],
      "text/plain": [
       "  recommended age                                             review  \\\n",
       "0          age 7+  There are pros and cons to this site. First of...   \n",
       "1          age 7+  I know what your thinking... WHY 7!!!!! I tell...   \n",
       "2          age 6+  My daughter plays ROBLOX all the time. I decid...   \n",
       "3          age 6+  i love roblox i have obc and it is fine and go...   \n",
       "4         age 12+  ROBLOX is a very educational game and inspires...   \n",
       "\n",
       "                   author  \n",
       "0                   Adult  \n",
       "1  Parent of a 9-year-old  \n",
       "2  Parent of a 9-year-old  \n",
       "3                   Adult  \n",
       "4                   Adult  "
      ]
     },
     "execution_count": 5,
     "metadata": {},
     "output_type": "execute_result"
    }
   ],
   "source": [
    "df.head()"
   ]
  },
  {
   "cell_type": "code",
   "execution_count": 6,
   "metadata": {
    "colab": {
     "base_uri": "https://localhost:8080/"
    },
    "id": "Ggqw0VV7Vh1P",
    "outputId": "a0fd6597-2305-498e-8f0b-2c2f3ab2e529"
   },
   "outputs": [
    {
     "data": {
      "text/plain": [
       "age 18+    328\n",
       "age 2+     176\n",
       "age 10+    168\n",
       "age 8+     166\n",
       "age 7+     133\n",
       "age 6+     126\n",
       "age 5+      91\n",
       "age 13+     88\n",
       "age 9+      83\n",
       "age 12+     58\n",
       "age 11+     42\n",
       "age 16+     41\n",
       "age 4+      35\n",
       "age 14+     27\n",
       "age 15+     25\n",
       "age 3+      18\n",
       "age 17+     15\n",
       "Name: recommended age, dtype: int64"
      ]
     },
     "execution_count": 6,
     "metadata": {},
     "output_type": "execute_result"
    }
   ],
   "source": [
    "df['recommended age'].value_counts()"
   ]
  },
  {
   "cell_type": "code",
   "execution_count": 7,
   "metadata": {
    "colab": {
     "base_uri": "https://localhost:8080/"
    },
    "id": "WZE26UpvWpXd",
    "outputId": "3fdc9e61-992e-431e-cdb9-6c7b135d186d"
   },
   "outputs": [
    {
     "data": {
      "text/plain": [
       "18    328\n",
       "2     176\n",
       "10    168\n",
       "8     166\n",
       "7     133\n",
       "6     126\n",
       "5      91\n",
       "13     88\n",
       "9      83\n",
       "12     58\n",
       "11     42\n",
       "16     41\n",
       "4      35\n",
       "14     27\n",
       "15     25\n",
       "3      18\n",
       "17     15\n",
       "Name: age, dtype: int64"
      ]
     },
     "execution_count": 7,
     "metadata": {},
     "output_type": "execute_result"
    }
   ],
   "source": [
    "df['age'] = df['recommended age'].apply(lambda x: int(x.split('+')[0][4:]))\n",
    "df['age'].value_counts()"
   ]
  },
  {
   "cell_type": "code",
   "execution_count": 8,
   "metadata": {
    "colab": {
     "base_uri": "https://localhost:8080/"
    },
    "id": "HFPkgxbI7wCZ",
    "outputId": "5551523f-6b8c-4674-a02d-d84155a6d4b2"
   },
   "outputs": [
    {
     "data": {
      "text/plain": [
       "suitable        828\n",
       "not suitable    792\n",
       "Name: suitable, dtype: int64"
      ]
     },
     "execution_count": 8,
     "metadata": {},
     "output_type": "execute_result"
    }
   ],
   "source": [
    "df['suitable'] = np.where(df['age']< 10,'suitable','not suitable')\n",
    "df['suitable'].value_counts()"
   ]
  },
  {
   "cell_type": "code",
   "execution_count": 9,
   "metadata": {
    "id": "pJtMH6qTmgXM"
   },
   "outputs": [],
   "source": [
    "df['review'] = df['review'].str.lower()"
   ]
  },
  {
   "cell_type": "code",
   "execution_count": 10,
   "metadata": {
    "colab": {
     "base_uri": "https://localhost:8080/"
    },
    "id": "S1FmeR7FnUH7",
    "outputId": "2f6009b2-99a8-41a1-8770-0f83e25919b1"
   },
   "outputs": [
    {
     "data": {
      "text/plain": [
       "55"
      ]
     },
     "execution_count": 10,
     "metadata": {},
     "output_type": "execute_result"
    }
   ],
   "source": [
    "df['review'].isna().sum()"
   ]
  },
  {
   "cell_type": "code",
   "execution_count": 11,
   "metadata": {
    "colab": {
     "base_uri": "https://localhost:8080/"
    },
    "id": "JlgrCyRjnemx",
    "outputId": "0b248cca-abdb-4378-f14b-6a8dbaa9dc12"
   },
   "outputs": [
    {
     "data": {
      "text/plain": [
       "not suitable    33\n",
       "suitable        22\n",
       "Name: suitable, dtype: int64"
      ]
     },
     "execution_count": 11,
     "metadata": {},
     "output_type": "execute_result"
    }
   ],
   "source": [
    "df[df['review'].isna()]['suitable'].value_counts()"
   ]
  },
  {
   "cell_type": "markdown",
   "metadata": {
    "id": "BTy4vHEvntLQ"
   },
   "source": [
    "Drop rows without reviews."
   ]
  },
  {
   "cell_type": "code",
   "execution_count": 12,
   "metadata": {
    "colab": {
     "base_uri": "https://localhost:8080/"
    },
    "id": "ftYg2PJRnqmR",
    "outputId": "4425faf1-e5f6-48a2-8b8c-afe20aa7a28c"
   },
   "outputs": [
    {
     "data": {
      "text/plain": [
       "(1565, 5)"
      ]
     },
     "execution_count": 12,
     "metadata": {},
     "output_type": "execute_result"
    }
   ],
   "source": [
    "df_orig = df.copy()\n",
    "df = df[df['review'].notna()]\n",
    "df.shape"
   ]
  },
  {
   "cell_type": "code",
   "execution_count": 13,
   "metadata": {
    "colab": {
     "base_uri": "https://localhost:8080/"
    },
    "id": "bG4bNVAGontt",
    "outputId": "5c8cb95c-8ef6-45a5-de8e-0987c79099fc"
   },
   "outputs": [
    {
     "data": {
      "text/plain": [
       "suitable        806\n",
       "not suitable    759\n",
       "Name: suitable, dtype: int64"
      ]
     },
     "execution_count": 13,
     "metadata": {},
     "output_type": "execute_result"
    }
   ],
   "source": [
    "¶df['suitable'].value_counts()"
   ]
  },
  {
   "cell_type": "markdown",
   "metadata": {},
   "source": [
    "This is a well balanced dataset of reviews."
   ]
  },
  {
   "cell_type": "code",
   "execution_count": 14,
   "metadata": {
    "colab": {
     "base_uri": "https://localhost:8080/",
     "height": 206
    },
    "id": "nVPQ9BHEYxZC",
    "outputId": "73423dd9-ae19-4943-a1a6-2ec0efbf8925"
   },
   "outputs": [
    {
     "data": {
      "text/html": [
       "<div>\n",
       "<style scoped>\n",
       "    .dataframe tbody tr th:only-of-type {\n",
       "        vertical-align: middle;\n",
       "    }\n",
       "\n",
       "    .dataframe tbody tr th {\n",
       "        vertical-align: top;\n",
       "    }\n",
       "\n",
       "    .dataframe thead th {\n",
       "        text-align: right;\n",
       "    }\n",
       "</style>\n",
       "<table border=\"1\" class=\"dataframe\">\n",
       "  <thead>\n",
       "    <tr style=\"text-align: right;\">\n",
       "      <th></th>\n",
       "      <th>recommended age</th>\n",
       "      <th>review</th>\n",
       "      <th>author</th>\n",
       "      <th>age</th>\n",
       "      <th>suitable</th>\n",
       "    </tr>\n",
       "  </thead>\n",
       "  <tbody>\n",
       "    <tr>\n",
       "      <th>0</th>\n",
       "      <td>age 7+</td>\n",
       "      <td>there are pros and cons to this site. first of...</td>\n",
       "      <td>Adult</td>\n",
       "      <td>7</td>\n",
       "      <td>suitable</td>\n",
       "    </tr>\n",
       "    <tr>\n",
       "      <th>1</th>\n",
       "      <td>age 7+</td>\n",
       "      <td>i know what your thinking... why 7!!!!! i tell...</td>\n",
       "      <td>Parent of a 9-year-old</td>\n",
       "      <td>7</td>\n",
       "      <td>suitable</td>\n",
       "    </tr>\n",
       "    <tr>\n",
       "      <th>2</th>\n",
       "      <td>age 6+</td>\n",
       "      <td>my daughter plays roblox all the time. i decid...</td>\n",
       "      <td>Parent of a 9-year-old</td>\n",
       "      <td>6</td>\n",
       "      <td>suitable</td>\n",
       "    </tr>\n",
       "    <tr>\n",
       "      <th>3</th>\n",
       "      <td>age 6+</td>\n",
       "      <td>i love roblox i have obc and it is fine and go...</td>\n",
       "      <td>Adult</td>\n",
       "      <td>6</td>\n",
       "      <td>suitable</td>\n",
       "    </tr>\n",
       "    <tr>\n",
       "      <th>4</th>\n",
       "      <td>age 12+</td>\n",
       "      <td>roblox is a very educational game and inspires...</td>\n",
       "      <td>Adult</td>\n",
       "      <td>12</td>\n",
       "      <td>not suitable</td>\n",
       "    </tr>\n",
       "  </tbody>\n",
       "</table>\n",
       "</div>"
      ],
      "text/plain": [
       "  recommended age                                             review  \\\n",
       "0          age 7+  there are pros and cons to this site. first of...   \n",
       "1          age 7+  i know what your thinking... why 7!!!!! i tell...   \n",
       "2          age 6+  my daughter plays roblox all the time. i decid...   \n",
       "3          age 6+  i love roblox i have obc and it is fine and go...   \n",
       "4         age 12+  roblox is a very educational game and inspires...   \n",
       "\n",
       "                   author  age      suitable  \n",
       "0                   Adult    7      suitable  \n",
       "1  Parent of a 9-year-old    7      suitable  \n",
       "2  Parent of a 9-year-old    6      suitable  \n",
       "3                   Adult    6      suitable  \n",
       "4                   Adult   12  not suitable  "
      ]
     },
     "execution_count": 14,
     "metadata": {},
     "output_type": "execute_result"
    }
   ],
   "source": [
    "df.head()"
   ]
  },
  {
   "cell_type": "markdown",
   "metadata": {
    "id": "rg4IKzBccHe-"
   },
   "source": [
    "<a name=\"3\"></a>\n",
    "### **NLP Data-Preprocessing (NLTK, Gensim)**\n",
    "- Tokenize\n",
    "- Stop Word Removal\n",
    "- Stemming and Lemmatization\n"
   ]
  },
  {
   "cell_type": "code",
   "execution_count": 15,
   "metadata": {
    "id": "YelLI1Ume0X8"
   },
   "outputs": [],
   "source": [
    "stemmer = SnowballStemmer('english')\n",
    "\n",
    "def lemmatize_all(phrase):\n",
    "    wnl = WordNetLemmatizer()\n",
    "    for word, tag in pos_tag(word_tokenize(phrase)):\n",
    "        if tag.startswith(\"NN\"):\n",
    "            yield wnl.lemmatize(word, pos='n')\n",
    "        elif tag.startswith('VB'):\n",
    "            yield wnl.lemmatize(word, pos='v')\n",
    "        elif tag.startswith('JJ'):\n",
    "            yield wnl.lemmatize(word, pos='a')\n",
    "        else:\n",
    "            yield word\n",
    "\n",
    "def lemmatize_stemming(text):\n",
    "  return stemmer.stem(WordNetLemmatizer().lemmatize(text, pos='v'))\n",
    "\n",
    "def preprocess(text):\n",
    "    result = []\n",
    "    for token in gensim.utils.simple_preprocess(text):\n",
    "        if token not in gensim.parsing.preprocessing.STOPWORDS:\n",
    "            result.append(lemmatize_stemming(token))\n",
    "    return str(result)"
   ]
  },
  {
   "cell_type": "code",
   "execution_count": 16,
   "metadata": {
    "colab": {
     "base_uri": "https://localhost:8080/",
     "height": 241
    },
    "id": "q0786rcwe0lZ",
    "outputId": "e5a77326-3ccc-4cef-d1d6-11a7ed1ed57b"
   },
   "outputs": [
    {
     "data": {
      "text/html": [
       "<div>\n",
       "<style scoped>\n",
       "    .dataframe tbody tr th:only-of-type {\n",
       "        vertical-align: middle;\n",
       "    }\n",
       "\n",
       "    .dataframe tbody tr th {\n",
       "        vertical-align: top;\n",
       "    }\n",
       "\n",
       "    .dataframe thead th {\n",
       "        text-align: right;\n",
       "    }\n",
       "</style>\n",
       "<table border=\"1\" class=\"dataframe\">\n",
       "  <thead>\n",
       "    <tr style=\"text-align: right;\">\n",
       "      <th></th>\n",
       "      <th>recommended age</th>\n",
       "      <th>review</th>\n",
       "      <th>author</th>\n",
       "      <th>age</th>\n",
       "      <th>suitable</th>\n",
       "      <th>tokens</th>\n",
       "    </tr>\n",
       "  </thead>\n",
       "  <tbody>\n",
       "    <tr>\n",
       "      <th>0</th>\n",
       "      <td>age 7+</td>\n",
       "      <td>there are pros and cons to this site. first of...</td>\n",
       "      <td>Adult</td>\n",
       "      <td>7</td>\n",
       "      <td>suitable</td>\n",
       "      <td>['pros', 'con', 'site', 'think', 'download', '...</td>\n",
       "    </tr>\n",
       "    <tr>\n",
       "      <th>1</th>\n",
       "      <td>age 7+</td>\n",
       "      <td>i know what your thinking... why 7!!!!! i tell...</td>\n",
       "      <td>Parent of a 9-year-old</td>\n",
       "      <td>7</td>\n",
       "      <td>suitable</td>\n",
       "      <td>['know', 'think', 'tell', 'ok', 'yes', 'kill',...</td>\n",
       "    </tr>\n",
       "    <tr>\n",
       "      <th>2</th>\n",
       "      <td>age 6+</td>\n",
       "      <td>my daughter plays roblox all the time. i decid...</td>\n",
       "      <td>Parent of a 9-year-old</td>\n",
       "      <td>6</td>\n",
       "      <td>suitable</td>\n",
       "      <td>['daughter', 'play', 'roblox', 'time', 'decid'...</td>\n",
       "    </tr>\n",
       "    <tr>\n",
       "      <th>3</th>\n",
       "      <td>age 6+</td>\n",
       "      <td>i love roblox i have obc and it is fine and go...</td>\n",
       "      <td>Adult</td>\n",
       "      <td>6</td>\n",
       "      <td>suitable</td>\n",
       "      <td>['love', 'roblox', 'obc', 'fine', 'good', 'play']</td>\n",
       "    </tr>\n",
       "    <tr>\n",
       "      <th>4</th>\n",
       "      <td>age 12+</td>\n",
       "      <td>roblox is a very educational game and inspires...</td>\n",
       "      <td>Adult</td>\n",
       "      <td>12</td>\n",
       "      <td>not suitable</td>\n",
       "      <td>['roblox', 'educ', 'game', 'inspir', 'kid', 'l...</td>\n",
       "    </tr>\n",
       "  </tbody>\n",
       "</table>\n",
       "</div>"
      ],
      "text/plain": [
       "  recommended age                                             review  \\\n",
       "0          age 7+  there are pros and cons to this site. first of...   \n",
       "1          age 7+  i know what your thinking... why 7!!!!! i tell...   \n",
       "2          age 6+  my daughter plays roblox all the time. i decid...   \n",
       "3          age 6+  i love roblox i have obc and it is fine and go...   \n",
       "4         age 12+  roblox is a very educational game and inspires...   \n",
       "\n",
       "                   author  age      suitable  \\\n",
       "0                   Adult    7      suitable   \n",
       "1  Parent of a 9-year-old    7      suitable   \n",
       "2  Parent of a 9-year-old    6      suitable   \n",
       "3                   Adult    6      suitable   \n",
       "4                   Adult   12  not suitable   \n",
       "\n",
       "                                              tokens  \n",
       "0  ['pros', 'con', 'site', 'think', 'download', '...  \n",
       "1  ['know', 'think', 'tell', 'ok', 'yes', 'kill',...  \n",
       "2  ['daughter', 'play', 'roblox', 'time', 'decid'...  \n",
       "3  ['love', 'roblox', 'obc', 'fine', 'good', 'play']  \n",
       "4  ['roblox', 'educ', 'game', 'inspir', 'kid', 'l...  "
      ]
     },
     "execution_count": 16,
     "metadata": {},
     "output_type": "execute_result"
    }
   ],
   "source": [
    "df['tokens'] = df['review'].map(preprocess)\n",
    "df.head()"
   ]
  },
  {
   "cell_type": "markdown",
   "metadata": {
    "id": "DejzE6NjcpHO"
   },
   "source": [
    "<a name=\"4\"></a>\n",
    "### **ML Preparation - Support Functions with SciKit Learn**\n",
    "- Cross-Validation\n",
    "- Evaluation\n",
    "- Hyperparameter Tuning\n",
    "\n"
   ]
  },
  {
   "cell_type": "code",
   "execution_count": 17,
   "metadata": {
    "id": "TXoX_N3OqYsK"
   },
   "outputs": [],
   "source": [
    "def crossvalidate_classifier(model, X, y, cm=False):\n",
    "    skf = StratifiedKFold(n_splits=5)\n",
    "    \n",
    "    scores_acc = cross_val_score(model, X, y, scoring='accuracy', cv=skf)\n",
    "    scores_f1 = cross_val_score(model, X, y, scoring='f1_macro', cv=skf)\n",
    "    print(\"%0.2f Cross-validated Accuracy score with a standard deviation of %0.2f\" % (scores_acc.mean(), scores_acc.std()))\n",
    "    print(\"%0.2f Cross-validated F-1 score with a standard deviation of %0.2f\" % (scores_f1.mean(), scores_f1.std()))\n",
    "    y_pred = cross_val_predict(model, X, y, cv=skf)\n",
    "\n",
    "    if(cm):\n",
    "        conf_mat = confusion_matrix(y, y_pred, labels=['suitable', 'not suitable'])\n",
    "        print('\\nConfusion Matrix:')\n",
    "        print(conf_mat)\n",
    "    \n",
    "\n",
    "def best_hyperparam(X_train_data, X_test_data, y_train_data, y_test_data, \n",
    "                       model, model_params, n_iter=10, cv=5, scoring_fit='f1_macro',\n",
    "                       do_probabilities = False):\n",
    "  \n",
    "    gs = RandomizedSearchCV(\n",
    "        estimator=model,\n",
    "        param_distributions=model_params,\n",
    "        n_iter=n_iter,\n",
    "        scoring=scoring_fit,\n",
    "        n_jobs=-1, \n",
    "        refit=True,\n",
    "        cv=cv,\n",
    "        verbose=2,\n",
    "        random_state=33\n",
    "    )\n",
    "    fitted_model = gs.fit(X_train_data, y_train_data)\n",
    "    \n",
    "    if do_probabilities:\n",
    "      pred = fitted_model.predict_proba(X_test_data)\n",
    "    else:\n",
    "      pred = fitted_model.predict(X_test_data)\n",
    "  \n",
    "    pprint(fitted_model.best_estimator_.get_params())\n",
    "\n",
    "    print(f'Best Score: {fitted_model.best_score_}')\n",
    "    print(f'Best Hyperparameters: {fitted_model.best_params_}')\n",
    "    \n",
    "    return fitted_model, pred\n",
    "\n",
    "    \n",
    "def evaluate_classifier(model, X_train, X_test, y_train, y_test, cm=True, train=False):\n",
    "      \n",
    "    # fit model\n",
    "    if train:\n",
    "        model.fit(X_train, y_train)\n",
    "\n",
    "    # Run predict on your tfidf test data to get your predictions\n",
    "    pred = model.predict(X_test)\n",
    "\n",
    "    # Calculate your accuracy using the metrics module\n",
    "    acc_score = metrics.accuracy_score(pred, y_test)\n",
    "    print(\"Test Set Accuracy Score:   %0.3f\" % acc_score)\n",
    "    \n",
    "    f1score = metrics.f1_score(pred, y_test, average='macro')\n",
    "    print(\"Test Set F-1 Score:   %0.3f\" % f1score)\n",
    "\n",
    "    if cm:\n",
    "      conf_mat = confusion_matrix(y_test, pred, labels=['suitable', 'not suitable'])\n",
    "      print('\\nConfusion Matrix:')\n",
    "      print(conf_mat)\n",
    "    \n",
    "    return model\n"
   ]
  },
  {
   "cell_type": "markdown",
   "metadata": {
    "id": "fI_VWYkccpaU"
   },
   "source": [
    "<a name=\"5\"></a>\n",
    "### **ML Pre-Processing**\n",
    "- Train_Test Split\n",
    "- Vectorization\n",
    "\n"
   ]
  },
  {
   "cell_type": "code",
   "execution_count": 18,
   "metadata": {
    "id": "sv_NjKE6zCZ6"
   },
   "outputs": [],
   "source": [
    "X = df['tokens']\n",
    "y = df['suitable']"
   ]
  },
  {
   "cell_type": "code",
   "execution_count": 19,
   "metadata": {
    "id": "a-Sv38dfyUjl"
   },
   "outputs": [],
   "source": [
    "from sklearn.model_selection import train_test_split\n",
    "X_train, X_test, y_train, y_test = train_test_split(X, y, random_state=33, test_size=0.25, shuffle=True, stratify=y )"
   ]
  },
  {
   "cell_type": "code",
   "execution_count": 20,
   "metadata": {
    "id": "DpPmeOHpzm6Y"
   },
   "outputs": [],
   "source": [
    "from sklearn.feature_extraction.text import CountVectorizer, TfidfVectorizer\n",
    "max_df = 0.95\n",
    "min_df = 0.05\n",
    "\n",
    "# Initialize count vectorizer\n",
    "count_vectorizer = CountVectorizer(stop_words='english', max_df=max_df, min_df=min_df)\n",
    "\n",
    "# Create count train and test variables\n",
    "count_train = count_vectorizer.fit_transform(X_train)\n",
    "count_test = count_vectorizer.transform(X_test)\n",
    "\n",
    "# Initialize tfidf vectorizer\n",
    "tfidf_vectorizer = TfidfVectorizer(stop_words='english', max_df=max_df, min_df=min_df)\n",
    "\n",
    "# Create tfidf train and test variables\n",
    "tfidf_train = tfidf_vectorizer.fit_transform(X_train)\n",
    "tfidf_test = tfidf_vectorizer.transform(X_test)"
   ]
  },
  {
   "cell_type": "code",
   "execution_count": 21,
   "metadata": {
    "colab": {
     "base_uri": "https://localhost:8080/"
    },
    "id": "ux2f4QTZzyIY",
    "outputId": "01343d7f-a9a6-489e-e84d-70379a0625a8"
   },
   "outputs": [
    {
     "name": "stdout",
     "output_type": "stream",
     "text": [
      "(1173, 115) (1173, 115)\n"
     ]
    }
   ],
   "source": [
    "print(count_train.shape, tfidf_train.shape)"
   ]
  },
  {
   "cell_type": "code",
   "execution_count": 22,
   "metadata": {
    "colab": {
     "base_uri": "https://localhost:8080/"
    },
    "id": "uSp_G6rXzx9h",
    "outputId": "4d070ecf-b507-4d40-c926-a6b1c0f0c535"
   },
   "outputs": [
    {
     "name": "stdout",
     "output_type": "stream",
     "text": [
      "{'swear': 93, 'roblox': 77, 'game': 35, 'kid': 44, 'spend': 89, 'play': 69, 'start': 90, 'content': 22, 'inappropri': 43, 'thing': 97, 'son': 88, 'year': 113, 'fun': 34, 'buy': 14, 'robux': 78, 'chat': 17, 'turn': 101, 'moder': 57, 'make': 54, 'report': 75, 'work': 112, 'parent': 65, 'help': 41, 'ban': 8, 'problem': 71, 'good': 36, 'age': 3, 'daughter': 26, 'scam': 82, 'onlin': 63, 'say': 81, 'peopl': 66, 'mean': 55, 'tell': 96, 'real': 73, 'app': 5, 'monitor': 59, 'children': 19, 'recommend': 74, 'bad': 7, 'know': 45, 'think': 98, 'saw': 80, 'child': 18, 'watch': 108, 'person': 67, 'review': 76, 'like': 49, 'safe': 79, 'block': 10, 'number': 61, 'violenc': 105, 'hack': 38, 'way': 109, 'word': 111, 'let': 47, 'blood': 11, 'happen': 40, 'free': 32, 'currenc': 24, 'overal': 64, 'time': 99, 'sex': 85, 'want': 107, 'filter': 31, 'read': 72, 'need': 60, 'charact': 16, 'allow': 4, 'look': 51, 'build': 12, 'old': 62, 'sexual': 86, 'creat': 23, 'sure': 92, 'set': 84, 'dont': 29, 'communiti': 21, 'bulli': 13, 'care': 15, 'adopt': 1, 'stuff': 91, 'friend': 33, 'best': 9, 'educ': 30, 'great': 37, 'user': 103, 'player': 70, 'messag': 56, 'ask': 6, 'talk': 94, 'come': 20, 'delet': 28, 'account': 0, 've': 104, 'tri': 100, 'websit': 110, 'love': 53, 'platform': 68, 'money': 58, 'adult': 2, 'use': 102, 'learn': 46, 'lot': 52, 'littl': 50, 'teach': 95, 'school': 83, 'yes': 114, 'date': 25, 'day': 27, 'site': 87, 'violent': 106, 'life': 48, 'hacker': 39, 'high': 42}\n"
     ]
    }
   ],
   "source": [
    "print(count_vectorizer.vocabulary_)"
   ]
  },
  {
   "cell_type": "markdown",
   "metadata": {
    "id": "AXZk-irwcpq8"
   },
   "source": [
    "<a name=\"6\"></a>\n",
    "### Model Training & Evaluation \n",
    "- Classification\n",
    "- Metrics\n",
    "- Selection\n",
    "- Visualization\n",
    "- Final Results"
   ]
  },
  {
   "cell_type": "markdown",
   "metadata": {},
   "source": [
    "Try Random Forest, Ada Boost, Bagging, and Gradient Boosting Classifiers."
   ]
  },
  {
   "cell_type": "code",
   "execution_count": 23,
   "metadata": {
    "id": "Ocj9gZm1YyXq"
   },
   "outputs": [],
   "source": [
    "from sklearn.ensemble import RandomForestClassifier, AdaBoostClassifier, BaggingClassifier, GradientBoostingClassifier"
   ]
  },
  {
   "cell_type": "markdown",
   "metadata": {
    "id": "v5y8iq-yMBzb"
   },
   "source": [
    "### **TF-IDF Vectorized Performance**\n"
   ]
  },
  {
   "cell_type": "code",
   "execution_count": 24,
   "metadata": {
    "colab": {
     "base_uri": "https://localhost:8080/"
    },
    "id": "hKEiVeSeGysc",
    "outputId": "4fa558cb-d887-4d22-d1ad-733f3aa0b815"
   },
   "outputs": [
    {
     "name": "stdout",
     "output_type": "stream",
     "text": [
      "0.63 Cross-validated Accuracy score with a standard deviation of 0.02\n",
      "0.63 Cross-validated F-1 score with a standard deviation of 0.02\n",
      "\n",
      "Confusion Matrix:\n",
      "[[392 212]\n",
      " [237 332]]\n"
     ]
    }
   ],
   "source": [
    "crossvalidate_classifier(RandomForestClassifier(), tfidf_train, y_train, cm=True)"
   ]
  },
  {
   "cell_type": "code",
   "execution_count": 25,
   "metadata": {},
   "outputs": [
    {
     "name": "stdout",
     "output_type": "stream",
     "text": [
      "0.60 Cross-validated Accuracy score with a standard deviation of 0.02\n",
      "0.60 Cross-validated F-1 score with a standard deviation of 0.02\n",
      "\n",
      "Confusion Matrix:\n",
      "[[399 205]\n",
      " [260 309]]\n"
     ]
    }
   ],
   "source": [
    "crossvalidate_classifier(AdaBoostClassifier(), tfidf_train, y_train, cm=True)"
   ]
  },
  {
   "cell_type": "code",
   "execution_count": 26,
   "metadata": {},
   "outputs": [
    {
     "name": "stdout",
     "output_type": "stream",
     "text": [
      "0.58 Cross-validated Accuracy score with a standard deviation of 0.03\n",
      "0.60 Cross-validated F-1 score with a standard deviation of 0.02\n",
      "\n",
      "Confusion Matrix:\n",
      "[[323 281]\n",
      " [212 357]]\n"
     ]
    }
   ],
   "source": [
    "crossvalidate_classifier(BaggingClassifier(), tfidf_train, y_train, cm=True)"
   ]
  },
  {
   "cell_type": "code",
   "execution_count": 27,
   "metadata": {},
   "outputs": [
    {
     "name": "stdout",
     "output_type": "stream",
     "text": [
      "0.62 Cross-validated Accuracy score with a standard deviation of 0.04\n",
      "0.62 Cross-validated F-1 score with a standard deviation of 0.04\n",
      "\n",
      "Confusion Matrix:\n",
      "[[409 195]\n",
      " [255 314]]\n"
     ]
    }
   ],
   "source": [
    "crossvalidate_classifier(GradientBoostingClassifier(), tfidf_train, y_train, cm=True)"
   ]
  },
  {
   "cell_type": "markdown",
   "metadata": {},
   "source": [
    "#### Hyperparameter Tuning for Best Model - Random Forest Classifier (TF-IDF)\n",
    "\n",
    "Choosing Random Forest Model based on highest F-1 score in cross-validation."
   ]
  },
  {
   "cell_type": "code",
   "execution_count": 28,
   "metadata": {
    "colab": {
     "base_uri": "https://localhost:8080/"
    },
    "id": "e4PeeFL9RQW4",
    "outputId": "f6f73a74-d909-4ef8-d20e-d87653fa83fb"
   },
   "outputs": [
    {
     "name": "stdout",
     "output_type": "stream",
     "text": [
      "Fitting 5 folds for each of 10 candidates, totalling 50 fits\n",
      "{'bootstrap': True,\n",
      " 'ccp_alpha': 0.0,\n",
      " 'class_weight': None,\n",
      " 'criterion': 'gini',\n",
      " 'max_depth': None,\n",
      " 'max_features': 0.9214259437976595,\n",
      " 'max_leaf_nodes': None,\n",
      " 'max_samples': None,\n",
      " 'min_impurity_decrease': 0.0,\n",
      " 'min_samples_leaf': 1,\n",
      " 'min_samples_split': 0.11799410105219091,\n",
      " 'min_weight_fraction_leaf': 0.0,\n",
      " 'n_estimators': 150,\n",
      " 'n_jobs': None,\n",
      " 'oob_score': False,\n",
      " 'random_state': None,\n",
      " 'verbose': 0,\n",
      " 'warm_start': False}\n",
      "Best Score: 0.6327055468812857\n",
      "Best Hyperparameters: {'max_features': 0.9214259437976595, 'min_samples_split': 0.11799410105219091, 'n_estimators': 150}\n"
     ]
    }
   ],
   "source": [
    "from scipy.stats import uniform, truncnorm, randint\n",
    "model = RandomForestClassifier()\n",
    "param_grid = {\n",
    "    'n_estimators': [50,100,200,300],\n",
    "    'max_depth': [5, 10, 20, 30],        \n",
    "}\n",
    "model_params = {\n",
    "    # randomly sample numbers from 4 to 200 estimators\n",
    "    'n_estimators': randint(4,200),\n",
    "    # normally distributed max_features, with mean loc, stddev scale, bounded between 0 and 1\n",
    "    'max_features': truncnorm(a=0, b=1, loc=0.90, scale=0.1),\n",
    "    # uniform distribution from 0.01 to 0.25 (0.01 + 0.24)\n",
    "    'min_samples_split': uniform(0.01, 0.24),\n",
    "}\n",
    "\n",
    "best_model_tfidf, bm_pred = best_hyperparam(tfidf_train, tfidf_test, y_train, y_test, \n",
    "                       model, model_params, cv=5, scoring_fit='f1_macro',\n",
    "                       do_probabilities = False)"
   ]
  },
  {
   "cell_type": "code",
   "execution_count": 29,
   "metadata": {
    "colab": {
     "base_uri": "https://localhost:8080/"
    },
    "id": "3BzoT4ot4Vwl",
    "outputId": "06045c5e-1d84-4967-88fd-8f87a28a9e09"
   },
   "outputs": [
    {
     "name": "stdout",
     "output_type": "stream",
     "text": [
      "Test Set Accuracy Score:   0.645\n",
      "Test Set F-1 Score:   0.645\n",
      "\n",
      "Confusion Matrix:\n",
      "[[133  69]\n",
      " [ 70 120]]\n"
     ]
    },
    {
     "data": {
      "text/plain": [
       "RandomizedSearchCV(cv=5, estimator=RandomForestClassifier(), n_jobs=-1,\n",
       "                   param_distributions={'max_features': <scipy.stats._distn_infrastructure.rv_frozen object at 0x7f5c68285e20>,\n",
       "                                        'min_samples_split': <scipy.stats._distn_infrastructure.rv_frozen object at 0x7f5c2b0cfbe0>,\n",
       "                                        'n_estimators': <scipy.stats._distn_infrastructure.rv_frozen object at 0x7f5c2626b4f0>},\n",
       "                   random_state=33, scoring='f1_macro', verbose=2)"
      ]
     },
     "execution_count": 29,
     "metadata": {},
     "output_type": "execute_result"
    }
   ],
   "source": [
    "evaluate_classifier(best_model_tfidf, tfidf_train, tfidf_test, y_train, y_test)"
   ]
  },
  {
   "cell_type": "markdown",
   "metadata": {},
   "source": [
    "#### Tuned Best Model - Random Forest - TF-IDF Vectorization"
   ]
  },
  {
   "cell_type": "code",
   "execution_count": 30,
   "metadata": {},
   "outputs": [
    {
     "data": {
      "image/png": "[encoded data removed]",
      "text/plain": [
       "<Figure size 432x288 with 1 Axes>"
      ]
     },
     "metadata": {
      "needs_background": "light"
     },
     "output_type": "display_data"
    }
   ],
   "source": [
    "from sklearn.metrics import RocCurveDisplay\n",
    "best_model_disp_tfidf = RocCurveDisplay.from_estimator(best_model_tfidf, tfidf_test, y_test)"
   ]
  },
  {
   "cell_type": "markdown",
   "metadata": {
    "id": "yk9wsB75MJpA"
   },
   "source": [
    "### **Count Vectorized Performance**"
   ]
  },
  {
   "cell_type": "code",
   "execution_count": 31,
   "metadata": {
    "colab": {
     "base_uri": "https://localhost:8080/"
    },
    "id": "418xZ4cm4vHS",
    "outputId": "3f19d11e-4881-40da-d0a6-95220ec36021"
   },
   "outputs": [
    {
     "name": "stdout",
     "output_type": "stream",
     "text": [
      "0.61 Cross-validated Accuracy score with a standard deviation of 0.03\n",
      "0.59 Cross-validated F-1 score with a standard deviation of 0.02\n",
      "\n",
      "Confusion Matrix:\n",
      "[[351 253]\n",
      " [214 355]]\n"
     ]
    }
   ],
   "source": [
    "crossvalidate_classifier(RandomForestClassifier(), count_train, y_train, cm=True)"
   ]
  },
  {
   "cell_type": "code",
   "execution_count": 32,
   "metadata": {},
   "outputs": [
    {
     "name": "stdout",
     "output_type": "stream",
     "text": [
      "0.61 Cross-validated Accuracy score with a standard deviation of 0.03\n",
      "0.61 Cross-validated F-1 score with a standard deviation of 0.03\n",
      "\n",
      "Confusion Matrix:\n",
      "[[411 193]\n",
      " [263 306]]\n"
     ]
    }
   ],
   "source": [
    "crossvalidate_classifier(AdaBoostClassifier(), count_train, y_train, cm=True)"
   ]
  },
  {
   "cell_type": "code",
   "execution_count": 33,
   "metadata": {},
   "outputs": [
    {
     "name": "stdout",
     "output_type": "stream",
     "text": [
      "0.56 Cross-validated Accuracy score with a standard deviation of 0.01\n",
      "0.56 Cross-validated F-1 score with a standard deviation of 0.02\n",
      "\n",
      "Confusion Matrix:\n",
      "[[311 293]\n",
      " [228 341]]\n"
     ]
    }
   ],
   "source": [
    "crossvalidate_classifier(BaggingClassifier(), count_train, y_train, cm=True)"
   ]
  },
  {
   "cell_type": "code",
   "execution_count": 34,
   "metadata": {},
   "outputs": [
    {
     "name": "stdout",
     "output_type": "stream",
     "text": [
      "0.62 Cross-validated Accuracy score with a standard deviation of 0.04\n",
      "0.61 Cross-validated F-1 score with a standard deviation of 0.03\n",
      "\n",
      "Confusion Matrix:\n",
      "[[427 177]\n",
      " [278 291]]\n"
     ]
    }
   ],
   "source": [
    "crossvalidate_classifier(GradientBoostingClassifier(), count_train, y_train, cm=True)"
   ]
  },
  {
   "cell_type": "markdown",
   "metadata": {},
   "source": [
    "#### Hyperparameter Tuning Random Forest - To Compare with TF-IDF"
   ]
  },
  {
   "cell_type": "code",
   "execution_count": 35,
   "metadata": {
    "colab": {
     "base_uri": "https://localhost:8080/"
    },
    "id": "JTjPPIPNvGnK",
    "outputId": "65b0d57d-af33-4c38-df62-a6fa28f68890"
   },
   "outputs": [
    {
     "name": "stdout",
     "output_type": "stream",
     "text": [
      "Fitting 5 folds for each of 10 candidates, totalling 50 fits\n",
      "{'bootstrap': True,\n",
      " 'ccp_alpha': 0.0,\n",
      " 'class_weight': None,\n",
      " 'criterion': 'gini',\n",
      " 'max_depth': None,\n",
      " 'max_features': 0.9719873299947277,\n",
      " 'max_leaf_nodes': None,\n",
      " 'max_samples': None,\n",
      " 'min_impurity_decrease': 0.0,\n",
      " 'min_samples_leaf': 1,\n",
      " 'min_samples_split': 0.05981259576579324,\n",
      " 'min_weight_fraction_leaf': 0.0,\n",
      " 'n_estimators': 135,\n",
      " 'n_jobs': None,\n",
      " 'oob_score': False,\n",
      " 'random_state': None,\n",
      " 'verbose': 0,\n",
      " 'warm_start': False}\n",
      "Best Score: 0.6273633955373381\n",
      "Best Hyperparameters: {'max_features': 0.9719873299947277, 'min_samples_split': 0.05981259576579324, 'n_estimators': 135}\n"
     ]
    }
   ],
   "source": [
    "best_model_count, bm_pred = best_hyperparam(count_train, count_test, y_train, y_test, \n",
    "                       model, model_params, cv=5, scoring_fit='f1_macro',\n",
    "                       do_probabilities = False)"
   ]
  },
  {
   "cell_type": "code",
   "execution_count": 36,
   "metadata": {
    "colab": {
     "base_uri": "https://localhost:8080/"
    },
    "id": "vPCxM6Mp7S-E",
    "outputId": "84de283b-5cb0-4746-c8ee-fb3ecfe49fa9"
   },
   "outputs": [
    {
     "name": "stdout",
     "output_type": "stream",
     "text": [
      "Test Set Accuracy Score:   0.666\n",
      "Test Set F-1 Score:   0.665\n",
      "\n",
      "Confusion Matrix:\n",
      "[[140  62]\n",
      " [ 69 121]]\n"
     ]
    },
    {
     "data": {
      "text/plain": [
       "RandomizedSearchCV(cv=5, estimator=RandomForestClassifier(), n_jobs=-1,\n",
       "                   param_distributions={'max_features': <scipy.stats._distn_infrastructure.rv_frozen object at 0x7f5c68285e20>,\n",
       "                                        'min_samples_split': <scipy.stats._distn_infrastructure.rv_frozen object at 0x7f5c2b0cfbe0>,\n",
       "                                        'n_estimators': <scipy.stats._distn_infrastructure.rv_frozen object at 0x7f5c2626b4f0>},\n",
       "                   random_state=33, scoring='f1_macro', verbose=2)"
      ]
     },
     "execution_count": 36,
     "metadata": {},
     "output_type": "execute_result"
    }
   ],
   "source": [
    "evaluate_classifier(best_model_count, count_train, count_test, y_train, y_test)"
   ]
  },
  {
   "cell_type": "markdown",
   "metadata": {},
   "source": [
    "#### Tuned Random Forest - Count Vectorization"
   ]
  },
  {
   "cell_type": "code",
   "execution_count": 43,
   "metadata": {},
   "outputs": [
    {
     "data": {
      "image/png": "[encoded data removed]",
      "text/plain": [
       "<Figure size 432x288 with 1 Axes>"
      ]
     },
     "metadata": {
      "needs_background": "light"
     },
     "output_type": "display_data"
    }
   ],
   "source": [
    "best_model_disp_count = RocCurveDisplay.from_estimator(best_model_count, count_test, y_test);"
   ]
  },
  {
   "cell_type": "markdown",
   "metadata": {},
   "source": [
    "#### Hyperparameter Tuning for Best Model - Gradient Boosting "
   ]
  },
  {
   "cell_type": "code",
   "execution_count": 38,
   "metadata": {},
   "outputs": [
    {
     "name": "stdout",
     "output_type": "stream",
     "text": [
      "Fitting 5 folds for each of 10 candidates, totalling 50 fits\n",
      "{'ccp_alpha': 0.0,\n",
      " 'criterion': 'friedman_mse',\n",
      " 'init': None,\n",
      " 'learning_rate': 0.1,\n",
      " 'loss': 'deviance',\n",
      " 'max_depth': 3,\n",
      " 'max_features': 0.9214259437976595,\n",
      " 'max_leaf_nodes': None,\n",
      " 'min_impurity_decrease': 0.0,\n",
      " 'min_samples_leaf': 1,\n",
      " 'min_samples_split': 0.11799410105219091,\n",
      " 'min_weight_fraction_leaf': 0.0,\n",
      " 'n_estimators': 150,\n",
      " 'n_iter_no_change': None,\n",
      " 'random_state': None,\n",
      " 'subsample': 1.0,\n",
      " 'tol': 0.0001,\n",
      " 'validation_fraction': 0.1,\n",
      " 'verbose': 0,\n",
      " 'warm_start': False}\n",
      "Best Score: 0.6254901025683403\n",
      "Best Hyperparameters: {'max_features': 0.9214259437976595, 'min_samples_split': 0.11799410105219091, 'n_estimators': 150}\n"
     ]
    }
   ],
   "source": [
    "model = GradientBoostingClassifier()\n",
    "best_model_count_gbc, bm_pred = best_hyperparam(count_train, count_test, y_train, y_test, \n",
    "                       model, model_params, cv=5, scoring_fit='f1_macro',\n",
    "                       do_probabilities = False)"
   ]
  },
  {
   "cell_type": "code",
   "execution_count": 39,
   "metadata": {},
   "outputs": [
    {
     "name": "stdout",
     "output_type": "stream",
     "text": [
      "Test Set Accuracy Score:   0.676\n",
      "Test Set F-1 Score:   0.672\n",
      "\n",
      "Confusion Matrix:\n",
      "[[153  49]\n",
      " [ 78 112]]\n"
     ]
    },
    {
     "data": {
      "text/plain": [
       "RandomizedSearchCV(cv=5, estimator=GradientBoostingClassifier(), n_jobs=-1,\n",
       "                   param_distributions={'max_features': <scipy.stats._distn_infrastructure.rv_frozen object at 0x7f5c68285e20>,\n",
       "                                        'min_samples_split': <scipy.stats._distn_infrastructure.rv_frozen object at 0x7f5c2b0cfbe0>,\n",
       "                                        'n_estimators': <scipy.stats._distn_infrastructure.rv_frozen object at 0x7f5c2626b4f0>},\n",
       "                   random_state=33, scoring='f1_macro', verbose=2)"
      ]
     },
     "execution_count": 39,
     "metadata": {},
     "output_type": "execute_result"
    }
   ],
   "source": [
    "evaluate_classifier(best_model_count_gbc, count_train, count_test, y_train, y_test)"
   ]
  },
  {
   "cell_type": "code",
   "execution_count": 41,
   "metadata": {},
   "outputs": [
    {
     "data": {
      "image/png": "[encoded data removed]",
      "text/plain": [
       "<Figure size 432x288 with 1 Axes>"
      ]
     },
     "metadata": {
      "needs_background": "light"
     },
     "output_type": "display_data"
    }
   ],
   "source": [
    "best_model_disp_count_gbc = RocCurveDisplay.from_estimator(best_model_count_gbc, count_test, y_test);"
   ]
  },
  {
   "cell_type": "markdown",
   "metadata": {},
   "source": [
    "### Conclusion\n",
    "\n",
    "Our best model is the count vectorized dataset with tuned hyperparameters for the Gradient Boosting classifier.  We have a relatively large dataset, given reviews per game, which is quite well balanced such that F-1 score is very close to accuracy."
   ]
  },
  {
   "cell_type": "code",
   "execution_count": null,
   "metadata": {},
   "outputs": [],
   "source": []
  }
 ],
 "metadata": {
  "colab": {
   "collapsed_sections": [],
   "name": "01_nlp_game-reviews.ipynb",
   "provenance": []
  },
  "kernelspec": {
   "display_name": "Python 3 (ipykernel)",
   "language": "python",
   "name": "python3"
  },
  "language_info": {
   "codemirror_mode": {
    "name": "ipython",
    "version": 3
   },
   "file_extension": ".py",
   "mimetype": "text/x-python",
   "name": "python",
   "nbconvert_exporter": "python",
   "pygments_lexer": "ipython3",
   "version": "3.8.5"
  }
 },
 "nbformat": 4,
 "nbformat_minor": 1
}
