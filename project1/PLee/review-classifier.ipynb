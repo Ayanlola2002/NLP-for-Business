{
 "cells": [
  {
   "cell_type": "markdown",
   "id": "709a0ea8",
   "metadata": {},
   "source": [
    "## Classifying Game Reviews\n",
    "\n",
    "## 0. Introduction\n",
    "\n",
    "In this project, we examine the performance of two Bag-of-Words models of text representation: Count vectorization and TF-IDF vectorization, when used in a machine learning model for classifying game reviews.  The classifier model we select is the Logistic Regression Classifier.  The model classifies reviews of digital games as \"adult\" or \"safe\", where the decision is based on whether the reviewer deems the game as safe for a child aged 10 or below to play without supervision. "
   ]
  },
  {
   "cell_type": "code",
   "execution_count": 59,
   "id": "aa293b53",
   "metadata": {},
   "outputs": [],
   "source": [
    "import warnings\n",
    "\n",
    "# libraries for general data processing\n",
    "import numpy as np\n",
    "import pandas as pd\n",
    "\n",
    "# libraries for plotting and visualization\n",
    "import matplotlib.pyplot as plt\n",
    "\n",
    "# packages for nlp - regex, stopwords and tokenization\n",
    "import nltk\n",
    "import re\n",
    "from nltk.corpus import stopwords\n",
    "from nltk.tokenize import word_tokenize\n",
    "\n",
    "# packages for nlp - lemmatization\n",
    "#nltk.download('omw-1.4')\n",
    "from nltk.stem import WordNetLemmatizer \n",
    "wordnet_lemmatizer = WordNetLemmatizer()\n",
    "\n",
    "#warnings.filterwarnings(\"ignore\", category=DeprecationWarning) "
   ]
  },
  {
   "cell_type": "markdown",
   "id": "fd5ae3b5",
   "metadata": {},
   "source": [
    "## 1. Retrieving the Reviews Data\n",
    "\n",
    "The raw reviews data from Commonmedia website which was scraped using ParseHub tool, was manually labelled either \"s\" (for \"safe\") or \"a\" (for \"adult\").  The criterion was whether the game was suitable for children under age 10 to play without supervision.  Each review included the title and text body, both of which were provided by the reviewers.  The titles which were scraped separately from the review bodies, were merged with the bodies of the reviews, and the processed data was stored in the file \"labelled_reviews.csv\" in the data folder.\n",
    "\n",
    "698 reviews were scraped and around 620 were labelled. Some reviews were removed on account of lacking coherent content.  This left us with 606 labelled reviews for the classification project."
   ]
  },
  {
   "cell_type": "code",
   "execution_count": 60,
   "id": "7ddcc573",
   "metadata": {},
   "outputs": [
    {
     "data": {
      "text/html": [
       "<div>\n",
       "<style scoped>\n",
       "    .dataframe tbody tr th:only-of-type {\n",
       "        vertical-align: middle;\n",
       "    }\n",
       "\n",
       "    .dataframe tbody tr th {\n",
       "        vertical-align: top;\n",
       "    }\n",
       "\n",
       "    .dataframe thead th {\n",
       "        text-align: right;\n",
       "    }\n",
       "</style>\n",
       "<table border=\"1\" class=\"dataframe\">\n",
       "  <thead>\n",
       "    <tr style=\"text-align: right;\">\n",
       "      <th></th>\n",
       "      <th>label</th>\n",
       "      <th>title_review</th>\n",
       "    </tr>\n",
       "  </thead>\n",
       "  <tbody>\n",
       "    <tr>\n",
       "      <th>0</th>\n",
       "      <td>a</td>\n",
       "      <td>It’s too scary It's funny but the Car never ha...</td>\n",
       "    </tr>\n",
       "    <tr>\n",
       "      <th>1</th>\n",
       "      <td>s</td>\n",
       "      <td>A GOOD RACING GAME!!! Although the movie is no...</td>\n",
       "    </tr>\n",
       "    <tr>\n",
       "      <th>2</th>\n",
       "      <td>s</td>\n",
       "      <td>Great game! I think this game is great! My hus...</td>\n",
       "    </tr>\n",
       "    <tr>\n",
       "      <th>3</th>\n",
       "      <td>a</td>\n",
       "      <td>Son loves it, but too violent I am disappointe...</td>\n",
       "    </tr>\n",
       "    <tr>\n",
       "      <th>4</th>\n",
       "      <td>s</td>\n",
       "      <td>Nostalgia. has quite a few explosions (not tha...</td>\n",
       "    </tr>\n",
       "    <tr>\n",
       "      <th>...</th>\n",
       "      <td>...</td>\n",
       "      <td>...</td>\n",
       "    </tr>\n",
       "    <tr>\n",
       "      <th>601</th>\n",
       "      <td>a</td>\n",
       "      <td>Listen This game is one I am sure a lot of par...</td>\n",
       "    </tr>\n",
       "    <tr>\n",
       "      <th>602</th>\n",
       "      <td>s</td>\n",
       "      <td>An epic game that can be for anyone just needs...</td>\n",
       "    </tr>\n",
       "    <tr>\n",
       "      <th>603</th>\n",
       "      <td>s</td>\n",
       "      <td>Amazing game My son wanted the game, At first ...</td>\n",
       "    </tr>\n",
       "    <tr>\n",
       "      <th>604</th>\n",
       "      <td>s</td>\n",
       "      <td>Probably the worst in the franchise but fine f...</td>\n",
       "    </tr>\n",
       "    <tr>\n",
       "      <th>605</th>\n",
       "      <td>s</td>\n",
       "      <td>Same game every year I am a professional PEGI ...</td>\n",
       "    </tr>\n",
       "  </tbody>\n",
       "</table>\n",
       "<p>606 rows × 2 columns</p>\n",
       "</div>"
      ],
      "text/plain": [
       "    label                                       title_review\n",
       "0       a  It’s too scary It's funny but the Car never ha...\n",
       "1       s  A GOOD RACING GAME!!! Although the movie is no...\n",
       "2       s  Great game! I think this game is great! My hus...\n",
       "3       a  Son loves it, but too violent I am disappointe...\n",
       "4       s  Nostalgia. has quite a few explosions (not tha...\n",
       "..    ...                                                ...\n",
       "601     a  Listen This game is one I am sure a lot of par...\n",
       "602     s  An epic game that can be for anyone just needs...\n",
       "603     s  Amazing game My son wanted the game, At first ...\n",
       "604     s  Probably the worst in the franchise but fine f...\n",
       "605     s  Same game every year I am a professional PEGI ...\n",
       "\n",
       "[606 rows x 2 columns]"
      ]
     },
     "execution_count": 60,
     "metadata": {},
     "output_type": "execute_result"
    }
   ],
   "source": [
    "# read in the game reviews data\n",
    "df_rev = pd.read_csv(\"data/labelled_reviews.csv\")\n",
    "df_rev"
   ]
  },
  {
   "cell_type": "markdown",
   "id": "9a7aaf73",
   "metadata": {},
   "source": [
    "## 2. Exploratory Data Analysis\n",
    "\n",
    "The EDA shows that the median length of reviews labelled 'a' is 94.5 while that of 's' reviews is 56.  This suggests that on average, an 's' review is about 38 words shorter than an 'a' review.\n",
    "\n",
    "The EDA also shows that of the 606 reviews, the 'a' reviews accounted for about 30%.  This shows there is an imbalance in the response variable."
   ]
  },
  {
   "cell_type": "code",
   "execution_count": 61,
   "id": "a8c9df1f",
   "metadata": {},
   "outputs": [
    {
     "data": {
      "image/png": "[encoded data removed]",
      "text/plain": [
       "<Figure size 756x252 with 2 Axes>"
      ]
     },
     "metadata": {
      "needs_background": "light"
     },
     "output_type": "display_data"
    },
    {
     "data": {
      "text/html": [
       "<div>\n",
       "<style scoped>\n",
       "    .dataframe tbody tr th:only-of-type {\n",
       "        vertical-align: middle;\n",
       "    }\n",
       "\n",
       "    .dataframe tbody tr th {\n",
       "        vertical-align: top;\n",
       "    }\n",
       "\n",
       "    .dataframe thead th {\n",
       "        text-align: right;\n",
       "    }\n",
       "</style>\n",
       "<table border=\"1\" class=\"dataframe\">\n",
       "  <thead>\n",
       "    <tr style=\"text-align: right;\">\n",
       "      <th></th>\n",
       "      <th>Length (Adult)</th>\n",
       "      <th>Length (Safe)</th>\n",
       "    </tr>\n",
       "  </thead>\n",
       "  <tbody>\n",
       "    <tr>\n",
       "      <th>count</th>\n",
       "      <td>186.000000</td>\n",
       "      <td>420.000000</td>\n",
       "    </tr>\n",
       "    <tr>\n",
       "      <th>mean</th>\n",
       "      <td>144.586022</td>\n",
       "      <td>86.435714</td>\n",
       "    </tr>\n",
       "    <tr>\n",
       "      <th>std</th>\n",
       "      <td>152.522273</td>\n",
       "      <td>107.236754</td>\n",
       "    </tr>\n",
       "    <tr>\n",
       "      <th>min</th>\n",
       "      <td>4.000000</td>\n",
       "      <td>2.000000</td>\n",
       "    </tr>\n",
       "    <tr>\n",
       "      <th>25%</th>\n",
       "      <td>50.000000</td>\n",
       "      <td>27.000000</td>\n",
       "    </tr>\n",
       "    <tr>\n",
       "      <th>50%</th>\n",
       "      <td>94.500000</td>\n",
       "      <td>56.000000</td>\n",
       "    </tr>\n",
       "    <tr>\n",
       "      <th>75%</th>\n",
       "      <td>187.500000</td>\n",
       "      <td>108.250000</td>\n",
       "    </tr>\n",
       "    <tr>\n",
       "      <th>max</th>\n",
       "      <td>788.000000</td>\n",
       "      <td>1303.000000</td>\n",
       "    </tr>\n",
       "  </tbody>\n",
       "</table>\n",
       "</div>"
      ],
      "text/plain": [
       "       Length (Adult)  Length (Safe)\n",
       "count      186.000000     420.000000\n",
       "mean       144.586022      86.435714\n",
       "std        152.522273     107.236754\n",
       "min          4.000000       2.000000\n",
       "25%         50.000000      27.000000\n",
       "50%         94.500000      56.000000\n",
       "75%        187.500000     108.250000\n",
       "max        788.000000    1303.000000"
      ]
     },
     "execution_count": 61,
     "metadata": {},
     "output_type": "execute_result"
    }
   ],
   "source": [
    "# exploratory analysis on the reviews data - examine lengths of reviews and proportion of reviews labelled \"adult\" \n",
    "\n",
    "# make a copy of the reviews dataframe for exploratory analysis\n",
    "df_explore = df_rev.copy()\n",
    "\n",
    "# create a column for tokens of the reviews\n",
    "df_explore['tokens'] = df_explore['title_review'].map(lambda x: x.split(\" \"))\n",
    "# create a column for the length of the review i.e. the number of tokens\n",
    "df_explore['len'] = df_explore['tokens'].map(len)\n",
    "\n",
    "# partition the rows according to label being 's' (safe) or 'a' (adult)\n",
    "df_s = df_explore[ df_explore['label']=='s']\n",
    "df_a = df_explore[ df_explore['label']=='a']\n",
    "\n",
    "\n",
    "plt.rcParams[\"figure.figsize\"] = [10.50, 3.50]\n",
    "fig, axes = plt.subplots(1, 2)\n",
    "axes[0].set_title( \"Length of Reviews (Adult)\" )\n",
    "\n",
    "df_a['len'].plot.hist(ax=axes[0])\n",
    "axes[1].set_title( \"Length of Reviews (Safe)\" )\n",
    "df_s['len'].plot.hist(ax=axes[1])\n",
    "\n",
    "plt.show()\n",
    "\n",
    "# show the descriptive statistics of the two groups of reviews\n",
    "stats_df = pd.concat( [pd.DataFrame( df_a['len'].describe() ), pd.DataFrame( df_s['len'].describe() )], axis=1 )\n",
    "stats_df.columns = [ 'Length (Adult)', 'Length (Safe)']\n",
    "stats_df"
   ]
  },
  {
   "cell_type": "code",
   "execution_count": 62,
   "id": "43985245",
   "metadata": {},
   "outputs": [
    {
     "name": "stdout",
     "output_type": "stream",
     "text": [
      "s    420\n",
      "a    186\n",
      "Name: label, dtype: int64\n",
      "s    0.693069\n",
      "a    0.306931\n",
      "Name: label, dtype: float64\n"
     ]
    }
   ],
   "source": [
    "# investigate data imbalance in the response variable\n",
    "print( df_rev['label'].value_counts() )\n",
    "print( df_rev['label'].value_counts(normalize=True) )"
   ]
  },
  {
   "cell_type": "markdown",
   "id": "767b3ee7",
   "metadata": {},
   "source": [
    "## 3. Preparing Feature Sets\n",
    "\n",
    "In this section, we carry out the preparation of the features and reponse data for input to the machine learning models.  This involves text processing and preparing word vectors.\n",
    "\n",
    "### 3.1 Text Processing\n",
    "\n",
    "We prepare the reviews text for creating the feature vectors.  This involves: tokenization, removal of stopwords, normalization (lower-casing and lemmatization).  The function which does the text processing is preprocess(review)."
   ]
  },
  {
   "cell_type": "code",
   "execution_count": 63,
   "id": "5f6f094d",
   "metadata": {},
   "outputs": [
    {
     "name": "stdout",
     "output_type": "stream",
     "text": [
      "['further', 'themselves', 'she', 'yourself', 'aren', 'but', \"weren't\", \"you'll\", 'his', 'been', 'some', 'herself', 'off', 'these', 'mightn', 'my', 'and', 'will', 'an', 'own', \"you've\", 'm', 'ourselves', 'most', 'that', \"hadn't\", 'or', 'above', 'myself', 'll', 'itself', 'up', 'shan', 'other', 'isn', 'o', 've', 'it', 'by', \"that'll\", 'ours', 'in', 's', 'its', 'below', 'to', 'between', 'why', 'did', \"you'd\", 'than', 'having', \"you're\", 'out', 'only', 'so', 'had', 'wouldn', 're', 'ain', 'does', \"she's\", 'me', \"wouldn't\", 'yours', \"doesn't\", 'if', 'is', 'under', 'then', 'all', 'as', 'yourselves', 'from', 'don', \"don't\", 'just', 'shouldn', \"shouldn't\", 'into', 'should', 'which', 'you', 'each', 'of', \"couldn't\", 'are', 'now', 'after', 'was', 'again', 'ma', 'not', 'those', 'mustn', 'before', 'about', \"hasn't\", 'what', 'nor', 'doing', \"didn't\", 'during', 'hasn', 'they', \"isn't\", 'can', 'have', 'weren', 'wasn', \"needn't\", 'few', \"mustn't\", \"aren't\", 'there', 'who', 'once', 'where', 'against', 'through', 'i', 'here', 'no', 'both', 'he', 'y', \"mightn't\", 'being', 'how', 'needn', 'such', \"haven't\", 'couldn', 'at', 'down', 'whom', 'were', 'a', 'haven', 'him', 'over', 'them', 'won', 'our', 'doesn', 'has', 'this', 'her', 'while', 'do', 't', \"it's\", 'until', 'your', 'himself', 'the', \"shan't\", 'hers', 'on', 'with', 'theirs', 'be', 'any', 'more', 'hadn', 'same', \"wasn't\", 'didn', 'd', 'too', 'we', 'their', \"should've\", 'for', \"won't\", 'am', 'very', 'when', 'because']\n"
     ]
    }
   ],
   "source": [
    "# preparing the nlp resources: English stopwords\n",
    "stopwords = set( stopwords.words('english') )\n",
    "print(list(stopwords))"
   ]
  },
  {
   "cell_type": "code",
   "execution_count": 64,
   "id": "3f273408",
   "metadata": {},
   "outputs": [],
   "source": [
    "# instantiate the lemmatizer\n",
    "wn_lemmatizer = WordNetLemmatizer()"
   ]
  },
  {
   "cell_type": "code",
   "execution_count": 65,
   "id": "2c145e40",
   "metadata": {},
   "outputs": [
    {
     "data": {
      "text/plain": [
       "\"Amazing: Blood can be a bit harsh, but can be fixed with texture mods that also improve graphics in the process. I feel that the Elder Scrolls V: Skyrim is a must play game for all kids ages 10 or eleven and up. It is especially cool for players that are interested in medieval lore or dragons. I've been playing the game for two years now, and haven't come across any sexual encounters at all and the violence isn't that bad, but can be toned down if you're a parent and are worried about your child being influenced towards violent actions. Over all, there are no drugs except for potions such as potions of healing that have no side effects. Alcohol is used and can be bought from a general goods store or tavern, but has the proper negative side effects that will turn people away from making significantly bad life decisions. Great Game!\""
      ]
     },
     "execution_count": 65,
     "metadata": {},
     "output_type": "execute_result"
    }
   ],
   "source": [
    "# try data prep on one review\n",
    "rev = df_rev.iloc[140].title_review\n",
    "rev"
   ]
  },
  {
   "cell_type": "code",
   "execution_count": 66,
   "id": "bfa2d762",
   "metadata": {},
   "outputs": [
    {
     "name": "stdout",
     "output_type": "stream",
     "text": [
      "['amazing', ':', 'blood', 'can', 'be', 'a', 'bit', 'harsh', ',', 'but', 'can', 'be', 'fixed', 'with', 'texture', 'mods', 'that', 'also', 'improve', 'graphics', 'in', 'the', 'process', '.', 'i', 'feel', 'that', 'the', 'elder', 'scrolls', 'v', ':', 'skyrim', 'is', 'a', 'must', 'play', 'game', 'for', 'all', 'kids', 'ages', '10', 'or', 'eleven', 'and', 'up', '.', 'it', 'is', 'especially', 'cool', 'for', 'players', 'that', 'are', 'interested', 'in', 'medieval', 'lore', 'or', 'dragons', '.', 'i', \"'ve\", 'been', 'playing', 'the', 'game', 'for', 'two', 'years', 'now', ',', 'and', 'have', \"n't\", 'come', 'across', 'any', 'sexual', 'encounters', 'at', 'all', 'and', 'the', 'violence', 'is', \"n't\", 'that', 'bad', ',', 'but', 'can', 'be', 'toned', 'down', 'if', 'you', \"'re\", 'a', 'parent', 'and', 'are', 'worried', 'about', 'your', 'child', 'being', 'influenced', 'towards', 'violent', 'actions', '.', 'over', 'all', ',', 'there', 'are', 'no', 'drugs', 'except', 'for', 'potions', 'such', 'as', 'potions', 'of', 'healing', 'that', 'have', 'no', 'side', 'effects', '.', 'alcohol', 'is', 'used', 'and', 'can', 'be', 'bought', 'from', 'a', 'general', 'goods', 'store', 'or', 'tavern', ',', 'but', 'has', 'the', 'proper', 'negative', 'side', 'effects', 'that', 'will', 'turn', 'people', 'away', 'from', 'making', 'significantly', 'bad', 'life', 'decisions', '.', 'great', 'game', '!']\n"
     ]
    }
   ],
   "source": [
    "rev_tokens = word_tokenize(rev.lower())\n",
    "print(rev_tokens)"
   ]
  },
  {
   "cell_type": "code",
   "execution_count": 67,
   "id": "b3584155",
   "metadata": {},
   "outputs": [
    {
     "name": "stdout",
     "output_type": "stream",
     "text": [
      "[('Amazing', 'NN'), (':', ':'), ('Blood', 'NN'), ('can', 'MD'), ('be', 'VB'), ('a', 'DT'), ('bit', 'NN'), ('harsh', 'JJ'), (',', ','), ('but', 'CC'), ('can', 'MD'), ('be', 'VB'), ('fixed', 'VBN'), ('with', 'IN'), ('texture', 'NN'), ('mods', 'NNS'), ('that', 'WDT'), ('also', 'RB'), ('improve', 'VBP'), ('graphics', 'NNS'), ('in', 'IN'), ('the', 'DT'), ('process', 'NN'), ('.', '.'), ('I', 'PRP'), ('feel', 'VBP'), ('that', 'IN'), ('the', 'DT'), ('Elder', 'NNP'), ('Scrolls', 'NNP'), ('V', 'NNP'), (':', ':'), ('Skyrim', 'NNP'), ('is', 'VBZ'), ('a', 'DT'), ('must', 'MD'), ('play', 'VB'), ('game', 'NN'), ('for', 'IN'), ('all', 'DT'), ('kids', 'NNS'), ('ages', 'VBZ'), ('10', 'CD'), ('or', 'CC'), ('eleven', 'RB'), ('and', 'CC'), ('up', 'RB'), ('.', '.'), ('It', 'PRP'), ('is', 'VBZ'), ('especially', 'RB'), ('cool', 'JJ'), ('for', 'IN'), ('players', 'NNS'), ('that', 'WDT'), ('are', 'VBP'), ('interested', 'JJ'), ('in', 'IN'), ('medieval', 'JJ'), ('lore', 'NN'), ('or', 'CC'), ('dragons', 'NNS'), ('.', '.'), ('I', 'PRP'), (\"'ve\", 'VBP'), ('been', 'VBN'), ('playing', 'VBG'), ('the', 'DT'), ('game', 'NN'), ('for', 'IN'), ('two', 'CD'), ('years', 'NNS'), ('now', 'RB'), (',', ','), ('and', 'CC'), ('have', 'VBP'), (\"n't\", 'RB'), ('come', 'VBN'), ('across', 'IN'), ('any', 'DT'), ('sexual', 'JJ'), ('encounters', 'NNS'), ('at', 'IN'), ('all', 'DT'), ('and', 'CC'), ('the', 'DT'), ('violence', 'NN'), ('is', 'VBZ'), (\"n't\", 'RB'), ('that', 'IN'), ('bad', 'JJ'), (',', ','), ('but', 'CC'), ('can', 'MD'), ('be', 'VB'), ('toned', 'VBN'), ('down', 'RP'), ('if', 'IN'), ('you', 'PRP'), (\"'re\", 'VBP'), ('a', 'DT'), ('parent', 'NN'), ('and', 'CC'), ('are', 'VBP'), ('worried', 'VBN'), ('about', 'IN'), ('your', 'PRP$'), ('child', 'NN'), ('being', 'VBG'), ('influenced', 'VBN'), ('towards', 'NNS'), ('violent', 'JJ'), ('actions', 'NNS'), ('.', '.'), ('Over', 'IN'), ('all', 'DT'), (',', ','), ('there', 'EX'), ('are', 'VBP'), ('no', 'DT'), ('drugs', 'NNS'), ('except', 'IN'), ('for', 'IN'), ('potions', 'NNS'), ('such', 'JJ'), ('as', 'IN'), ('potions', 'NNS'), ('of', 'IN'), ('healing', 'VBG'), ('that', 'WDT'), ('have', 'VBP'), ('no', 'DT'), ('side', 'NN'), ('effects', 'NNS'), ('.', '.'), ('Alcohol', 'NNP'), ('is', 'VBZ'), ('used', 'VBN'), ('and', 'CC'), ('can', 'MD'), ('be', 'VB'), ('bought', 'VBN'), ('from', 'IN'), ('a', 'DT'), ('general', 'JJ'), ('goods', 'NNS'), ('store', 'NN'), ('or', 'CC'), ('tavern', 'JJ'), (',', ','), ('but', 'CC'), ('has', 'VBZ'), ('the', 'DT'), ('proper', 'JJ'), ('negative', 'JJ'), ('side', 'NN'), ('effects', 'NNS'), ('that', 'WDT'), ('will', 'MD'), ('turn', 'VB'), ('people', 'NNS'), ('away', 'RB'), ('from', 'IN'), ('making', 'VBG'), ('significantly', 'RB'), ('bad', 'JJ'), ('life', 'NN'), ('decisions', 'NNS'), ('.', '.'), ('Great', 'JJ'), ('Game', 'NN'), ('!', '.')]\n"
     ]
    }
   ],
   "source": [
    "print(nltk.pos_tag(word_tokenize(rev)))"
   ]
  },
  {
   "cell_type": "code",
   "execution_count": 68,
   "id": "269e14a2",
   "metadata": {},
   "outputs": [
    {
     "name": "stdout",
     "output_type": "stream",
     "text": [
      "influence violent violent sexual\n"
     ]
    }
   ],
   "source": [
    "print( wn_lemmatizer.lemmatize(\"influenced\", pos='v'),\n",
    "       wn_lemmatizer.lemmatize(\"violent\", pos='a'),\n",
    "       wn_lemmatizer.lemmatize(\"violent\", pos='n'),\n",
    "       wn_lemmatizer.lemmatize(\"sexual\", pos='n')\n",
    "     )"
   ]
  },
  {
   "cell_type": "code",
   "execution_count": 69,
   "id": "22787dec",
   "metadata": {},
   "outputs": [],
   "source": [
    "# Function to convert the NLTK POS tags to tags for the lemmatizer\n",
    "# We will lemmatize according to three classes: verbs, adjectives, and nouns.\n",
    "# The default word class is nouns.\n",
    "def get_lemma_pos( pos ):\n",
    "    pos_map = { 'v': 'v', 'j': 'a', 'n': 'n'}\n",
    "    return pos_map.get( pos.lower()[0], 'n')"
   ]
  },
  {
   "cell_type": "code",
   "execution_count": 70,
   "id": "7d796327",
   "metadata": {},
   "outputs": [
    {
     "data": {
      "text/plain": [
       "'a'"
      ]
     },
     "execution_count": 70,
     "metadata": {},
     "output_type": "execute_result"
    }
   ],
   "source": [
    "get_lemma_pos(\"JJ\")"
   ]
  },
  {
   "cell_type": "code",
   "execution_count": 71,
   "id": "33592cca",
   "metadata": {},
   "outputs": [],
   "source": [
    "# Preprocessing each review: tokenize, lower-case, remove stopwords and non-alphabetic tokens, lemmatize\n",
    "def preprocess(review):\n",
    "    # tokenize\n",
    "    tokens = word_tokenize(review)\n",
    "    \n",
    "    # add the POS - need the tags to properly do the lemmatization by wordnet\n",
    "    pairs = nltk.pos_tag(tokens)\n",
    "    \n",
    "    # lower case the contents of the token-pos pairs\n",
    "    pairs_lower = [ (pair[0].lower(), pair[1].lower()) for pair in pairs ]\n",
    "    \n",
    "    # remove stopwords\n",
    "    pairs_no_stopwords = [ pair for pair in pairs_lower if pair[0] not in stopwords ]\n",
    "    # remove tokens that are not fully alphabetic characters - punctuations and numeric \n",
    "    alpha_pairs = [ pair for pair in pairs_no_stopwords if pair[0].isalpha() ]\n",
    "    \n",
    "    # lemmatize the tokens\n",
    "    lemmas0 = [ wn_lemmatizer.lemmatize(pair[0], pos=get_lemma_pos( pair[1] ) ) for pair in alpha_pairs ]\n",
    "    \n",
    "    # lower case the lemmas\n",
    "    lemmas = [ str(lemma.lower()) for lemma in lemmas0 ]\n",
    "    \n",
    "    # special treatment for word variations of \"sex\" and \"violence\" -\n",
    "    # to standardize \n",
    "    for ind, lem in enumerate(lemmas):\n",
    "        if lem in [\"sexual\", \"sexualize\", \"sexy\", \"sexualise\"]:\n",
    "            lemmas[ind] = \"sex\"\n",
    "        elif lem==\"violent\":\n",
    "            lemmas[ind] = \"violence\"\n",
    "            \n",
    "    return str(lemmas)   # note: the str() format is required by Count- and Tfidf- Vectorizers"
   ]
  },
  {
   "cell_type": "code",
   "execution_count": 72,
   "id": "b97c9256",
   "metadata": {},
   "outputs": [
    {
     "name": "stdout",
     "output_type": "stream",
     "text": [
      "Amazing: Blood can be a bit harsh, but can be fixed with texture mods that also improve graphics in the process. I feel that the Elder Scrolls V: Skyrim is a must play game for all kids ages 10 or eleven and up. It is especially cool for players that are interested in medieval lore or dragons. I've been playing the game for two years now, and haven't come across any sexual encounters at all and the violence isn't that bad, but can be toned down if you're a parent and are worried about your child being influenced towards violent actions. Over all, there are no drugs except for potions such as potions of healing that have no side effects. Alcohol is used and can be bought from a general goods store or tavern, but has the proper negative side effects that will turn people away from making significantly bad life decisions. Great Game!\n",
      "['amazing', 'blood', 'bit', 'harsh', 'fix', 'texture', 'mod', 'also', 'improve', 'graphic', 'process', 'feel', 'elder', 'scroll', 'v', 'skyrim', 'must', 'play', 'game', 'kid', 'age', 'eleven', 'especially', 'cool', 'player', 'interested', 'medieval', 'lore', 'dragon', 'play', 'game', 'two', 'year', 'come', 'across', 'sex', 'encounter', 'violence', 'bad', 'tone', 'parent', 'worry', 'child', 'influence', 'towards', 'violence', 'action', 'drug', 'except', 'potion', 'potion', 'heal', 'side', 'effect', 'alcohol', 'use', 'buy', 'general', 'good', 'store', 'tavern', 'proper', 'negative', 'side', 'effect', 'turn', 'people', 'away', 'make', 'significantly', 'bad', 'life', 'decision', 'great', 'game']\n"
     ]
    }
   ],
   "source": [
    "print(rev)\n",
    "print( preprocess(rev) )"
   ]
  },
  {
   "cell_type": "code",
   "execution_count": 73,
   "id": "f57d32ac",
   "metadata": {},
   "outputs": [],
   "source": [
    "# pre-process the reviews - tokenization and lemmatization\n",
    "# create a new column for the result of pre-processing\n",
    "df_rev['lemmas'] = df_rev['title_review'].map(preprocess)"
   ]
  },
  {
   "cell_type": "code",
   "execution_count": 75,
   "id": "09f7e280",
   "metadata": {},
   "outputs": [],
   "source": [
    "# check that there are no null rows in the 'lemmas' column\n",
    "#df_rev[ ~df_rev['lemmas'].isna() ]"
   ]
  },
  {
   "cell_type": "code",
   "execution_count": 76,
   "id": "3834dd2f",
   "metadata": {},
   "outputs": [],
   "source": [
    "# import libraries for feature and data preparation\n",
    "from sklearn.feature_extraction.text import CountVectorizer, TfidfVectorizer\n",
    "from sklearn.model_selection import train_test_split\n",
    "\n",
    "# import libraries for models\n",
    "from sklearn.linear_model import LogisticRegression\n",
    "from sklearn.naive_bayes import MultinomialNB, ComplementNB\n",
    "from sklearn.ensemble import RandomForestClassifier\n",
    "\n",
    "# import library for metrics\n",
    "from sklearn import metrics"
   ]
  },
  {
   "cell_type": "code",
   "execution_count": 77,
   "id": "650d907f",
   "metadata": {},
   "outputs": [],
   "source": [
    "# partition the dataframe into response and feature (predictor) sets\n",
    "X = df_rev['lemmas']\n",
    "y = df_rev['label']"
   ]
  },
  {
   "cell_type": "code",
   "execution_count": 78,
   "id": "f46fc5b4",
   "metadata": {},
   "outputs": [],
   "source": [
    "# split the data into train and test sets\n",
    "test_size = 0.25\n",
    "ran_state = 53\n",
    "X_train, X_test, y_train, y_test = \\\n",
    "     train_test_split(X, y, random_state=ran_state, test_size=test_size, shuffle=True, stratify=y )"
   ]
  },
  {
   "cell_type": "code",
   "execution_count": 79,
   "id": "b8924f16",
   "metadata": {},
   "outputs": [
    {
     "data": {
      "text/plain": [
       "242    ['best', 'forza', 'far', 'favorite', 'forza', ...\n",
       "38     ['fantastic', 'rpg', 'deliver', 'hard', 'moral...\n",
       "486    ['word', 'game', 'challenging', 'boss', 'arrow...\n",
       "152    ['game', 'rat', 'kid', 'maybe', 'something', '...\n",
       "594    ['think', 'cod', 'great', 'game', 'lot', 'pare...\n",
       "                             ...                        \n",
       "413    ['one', 'best', 'video', 'game', 'time', 'get'...\n",
       "305    ['second', 'favourite', 'game', 'time', 'revie...\n",
       "40     ['game', 'amazing', 'game', 'review', 'first',...\n",
       "454    ['perfect', 'kid', 'violence', 'pixel', 'much'...\n",
       "451    ['violence', 'blood', 'red', 'particle', 'grap...\n",
       "Name: lemmas, Length: 454, dtype: object"
      ]
     },
     "execution_count": 79,
     "metadata": {},
     "output_type": "execute_result"
    }
   ],
   "source": [
    "X_train"
   ]
  },
  {
   "cell_type": "code",
   "execution_count": 80,
   "id": "392a8785",
   "metadata": {},
   "outputs": [
    {
     "name": "stdout",
     "output_type": "stream",
     "text": [
      "s    315\n",
      "a    139\n",
      "Name: label, dtype: int64\n",
      "s    0.693833\n",
      "a    0.306167\n",
      "Name: label, dtype: float64\n",
      "s    105\n",
      "a     47\n",
      "Name: label, dtype: int64\n",
      "s    0.690789\n",
      "a    0.309211\n",
      "Name: label, dtype: float64\n"
     ]
    }
   ],
   "source": [
    "print( y_train.value_counts() )\n",
    "print( y_train.value_counts(normalize=True) )\n",
    "print( y_test.value_counts() )\n",
    "print( y_test.value_counts(normalize=True) )"
   ]
  },
  {
   "cell_type": "markdown",
   "id": "1e8efa2a",
   "metadata": {},
   "source": [
    "### 3.2 Feature Vectorizers: CountVectorizer, Normalized CountVectorizer, TfidfVectorizer \n",
    "\n",
    "In this section, we transform the preprocessed reviews to vectors using CountVectorizer and TfidfVectorizer.  Since the EDA has shown that length of reviews is correlated with the response variable, we will examine the effect of normalizing the vectors formed by CountVectorizer against the number of tokens in the review vector (using L2 norm)."
   ]
  },
  {
   "cell_type": "code",
   "execution_count": 81,
   "id": "d8cf2bf7",
   "metadata": {},
   "outputs": [],
   "source": [
    "# Initialize count vectorizer\n",
    "count_vectorizer = CountVectorizer(stop_words='english', max_df=0.9, min_df=0.05)\n",
    "\n",
    "# Create count train and test variables\n",
    "count_train = count_vectorizer.fit_transform(X_train)\n",
    "count_test = count_vectorizer.transform(X_test)\n",
    "\n",
    "# Initialize tfidf vectorizer\n",
    "tfidf_vectorizer = TfidfVectorizer(stop_words='english', max_df=0.9, min_df=0.05)\n",
    "\n",
    "# Create tfidf train and test variables\n",
    "tfidf_train = tfidf_vectorizer.fit_transform(X_train)\n",
    "tfidf_test = tfidf_vectorizer.transform(X_test)"
   ]
  },
  {
   "cell_type": "code",
   "execution_count": 82,
   "id": "279e5688",
   "metadata": {},
   "outputs": [],
   "source": [
    "# Initialize count vectorizer, with counts normalized against review length (L2 norm)\n",
    "count_norm_vectorizer = TfidfVectorizer(stop_words='english', max_df=0.9, min_df=0.05, use_idf=False, norm='l2')\n",
    "\n",
    "# Create count train and test variables\n",
    "count_norm_train = count_norm_vectorizer.fit_transform(X_train)\n",
    "count_norm_test = count_norm_vectorizer.transform(X_test)\n",
    "\n",
    "# Initialize tfidf vectorizer, with tf's normalized by length of text (L2 norm)\n",
    "# tfidf_norm_vectorizer = TfidfVectorizer(stop_words='english', max_df=0.9, min_df=0.05, use_idf=True, norm='l2')\n",
    "\n",
    "# NOTE: Tfidf vectorizer is by default normalized to L2 norm.  So we do not need to create normalized tfidf vectors.\n",
    "# Create tfidf train and test variables\n",
    "# tfidf_norm_train = tfidf_norm_vectorizer.fit_transform(X_train)\n",
    "# tfidf_norm_test = tfidf_norm_vectorizer.transform(X_test)\n",
    "\n",
    "# Create an IDF dataframe for examining the idf values for the tokens\n",
    "# df_idf = pd.DataFrame(tfidf_norm_vectorizer.idf_, \n",
    "#                      index=tfidf_norm_vectorizer.get_feature_names_out(),columns=[\"idf_weights\"]) \n",
    "# display the idfs in ascending order\n",
    "##print( df_idf.sort_values(by=['idf_weights']).to_string() )"
   ]
  },
  {
   "cell_type": "code",
   "execution_count": 83,
   "id": "a33c712d",
   "metadata": {},
   "outputs": [
    {
     "name": "stdout",
     "output_type": "stream",
     "text": [
      "104 ['actually' 'age' 'amazing' 'awesome' 'bad' 'best' 'bit' 'blood' 'buy'\n",
      " 'car' 'character' 'child' 'come' 'content' 'control' 'definitely'\n",
      " 'different' 'drug' 'easy' 'enemy' 'enjoy' 'fact' 'fight' 'fine' 'forza'\n",
      " 'fun' 'game' 'gameplay' 'good' 'gore' 'graphic' 'great' 'halo' 'handle'\n",
      " 'hard' 'hear' 'help' 'hour' 'include' 'kid' 'kill' 'know' 'language'\n",
      " 'let' 'life' 'like' 'little' 'long' 'look' 'lot' 'love' 'main' 'make'\n",
      " 'mature' 'mild' 'mode' 'multiplayer' 'need' 'new' 'old' 'online'\n",
      " 'overall' 'parent' 'people' 'play' 'player' 'point' 'pretty' 'probably'\n",
      " 'problem' 'quite' 'rat' 'rating' 'real' 'really' 'reason' 'recommend'\n",
      " 'review' 'role' 'say' 'series' 'sex' 'shoot' 'start' 'story' 'swearing'\n",
      " 'teen' 'theme' 'thing' 'think' 'time' 'try' 'turn' 'use' 'video'\n",
      " 'violence' 'want' 'war' 'watch' 'way' 'word' 'world' 'year' 'young']\n"
     ]
    }
   ],
   "source": [
    "print(len(count_vectorizer.vocabulary_), count_vectorizer.get_feature_names_out())"
   ]
  },
  {
   "cell_type": "markdown",
   "id": "0965a595",
   "metadata": {},
   "source": [
    "## 4. Machine Learning Models\n",
    "\n",
    "We compare the performance of four models which are well-used for text classification: Logistic Regression, Naive Bayes, Complement Naive Bayes (adapted for imbalanced data), Random Forest.  We carry out a 5-fold cross validation on each model on each set of training vectors (count, normalized count, tfidf)."
   ]
  },
  {
   "cell_type": "code",
   "execution_count": 88,
   "id": "595ad27f",
   "metadata": {},
   "outputs": [],
   "source": [
    "# define custom functions for machine learning\n",
    "\n",
    "import matplotlib.pyplot as plt\n",
    "from sklearn.model_selection import cross_val_score\n",
    "from sklearn.model_selection import cross_val_predict\n",
    "from sklearn.metrics import confusion_matrix\n",
    "from sklearn.metrics import ConfusionMatrixDisplay\n",
    "from sklearn.model_selection import KFold\n",
    "from sklearn.model_selection import GridSearchCV, RandomizedSearchCV\n",
    "\n",
    "# Function to carry out cross validation evaluation on training a model (meant for training/validation dataset)\n",
    "# Metrics are: f1_mean, f1_std, accuracy\n",
    "def crossvalidate_classifier(model, X, y, cv=5, cm=False):\n",
    "    \n",
    "    # carry out training the model and evaluate by cross validation\n",
    "    f1_scores = cross_val_score(model, X, y, scoring='f1_macro', cv=cv)\n",
    "    \n",
    "    # get the metric scores: f1_mean, f1_std, accuracy\n",
    "    print(\"{}-fold cross validation results:\".format(str(cv)))\n",
    "    print(\"%0.2f f-1 score with a standard deviation of %0.2f\" % (f1_scores.mean(), f1_scores.std()))\n",
    "    y_pred = cross_val_predict(model, X, y, cv=cv)\n",
    "    acc_score = round( metrics.accuracy_score(y_pred, y), 3)\n",
    "    print(\"accuracy score {}\".format(acc_score))\n",
    "    \n",
    "    # display the confusion matrix\n",
    "    if(cm):\n",
    "        conf_mat = confusion_matrix(y, y_pred, labels=['a', 's'])\n",
    "        disp = ConfusionMatrixDisplay(conf_mat, display_labels=['a', 's'])\n",
    "        disp.plot()\n",
    "        plt.show()\n",
    "    \n",
    "    # return the three scores\n",
    "    return round(f1_scores.mean(), 3), round(f1_scores.std(), 3), acc_score\n",
    "\n",
    "# Fit a model on the training data, and evaluate on the test set\n",
    "# Metrics are: f1_macro, accuracy, confusion matrix\n",
    "# Returns the fitted model\n",
    "def evaluate_classifier(model, X_train, X_test, y_train, y_test):\n",
    "      \n",
    "    # ... fit the model here\n",
    "    model.fit(X_train,y_train)\n",
    "\n",
    "    # Run predict on your test data to get the predictions\n",
    "    pred = model.predict(X_test)\n",
    "\n",
    "    # Compute the f1_macro scores\n",
    "    f1score = round( metrics.f1_score(pred, y_test, average='macro'), 3)\n",
    "    print(\"F-1 Score: {}\".format(f1score))\n",
    "    \n",
    "    # Calculate accuracy score\n",
    "    acc_score = round( metrics.accuracy_score(pred, y_test), 3)\n",
    "    print(\"Accuracy Score: {}\".format(acc_score))\n",
    "    \n",
    "    # Calculate the confusion matrice\n",
    "    cm = confusion_matrix(y_test, pred, labels=['a','s'])\n",
    "\n",
    "    # Plot the confusion matrix using the plot_confusion_matrix function\n",
    "    display = ConfusionMatrixDisplay(cm, display_labels=['a', 's'])\n",
    "    display.plot()\n",
    "    plt.show()\n",
    "    \n",
    "    return model\n",
    "\n",
    "# Grid search for the optimal hyperparameters\n",
    "# Returns the fitted models\n",
    "def best_hyperparam(X_train_data, X_test_data, y_train_data, y_test_data, \n",
    "                       model, param_grid, cv=5, scoring_fit='f1_macro',\n",
    "                       do_probabilities = False):\n",
    "    gs = GridSearchCV(\n",
    "        estimator=model,\n",
    "        param_grid=param_grid, \n",
    "        cv=cv, \n",
    "        n_jobs=-1, \n",
    "        scoring=scoring_fit,\n",
    "        verbose=2,\n",
    "        return_train_score=True\n",
    "    )\n",
    "    \n",
    "    gs.fit(X_train_data, y_train_data)\n",
    "    \n",
    "    return gs\n"
   ]
  },
  {
   "cell_type": "code",
   "execution_count": 89,
   "id": "01799cbd",
   "metadata": {},
   "outputs": [],
   "source": [
    "# Function to invoke the cross validation of training models,\n",
    "#   iterating over a models list and over a feature-sets list.\n",
    "# Returns a data frame containing the scores (f1_mean, f1_std, accuracy)\n",
    "#   for models and feature-sets\n",
    "\n",
    "def cvtrain_models_ds( models_dict, dataset_dict, y_train ):\n",
    "    \n",
    "    f1_mean = [0]*len(models_dict)\n",
    "    f1_std = [0]*len(models_dict)\n",
    "    acc_score = [0]*len(models_dict)\n",
    "\n",
    "    scores_list = []\n",
    "    model_names = list( models_dict.keys() )\n",
    "    ds_names = list(dataset_dict.keys())\n",
    "    score_names = [\"f1_mean\", \"f1_std\", \"accuracy\"]\n",
    "    \n",
    "    for j, dataset_name in enumerate(ds_names):\n",
    "        for i, model_name in enumerate(model_names):\n",
    "            print(\"\\nCross-validating \" + dataset_name + \" \" + model_name)\n",
    "            f1_mean[i], f1_std[i], acc_score[i] = \\\n",
    "                 crossvalidate_classifier(models_dict[model_name], dataset_dict[dataset_name], y_train)\n",
    "\n",
    "\n",
    "        scores_data = { \"f1_mean\" : f1_mean, \"f1_std\" : f1_std, \"accuracy\": acc_score }\n",
    "        scores_df = pd.DataFrame(scores_data, index=model_names)\n",
    "        scores_list.append(scores_df)\n",
    "        print(\"------------------------------------\")\n",
    "    \n",
    "    # create a hierarchical index for the column names\n",
    "    hier_cols_index = pd.MultiIndex.from_product([ds_names, score_names], names=[\"TrainDs\", \"Score\"])\n",
    "    # concatenate the scores dfs for the feature-sets\n",
    "    concat_scores_df = pd.concat(scores_list, axis=1)\n",
    "    # rename the columns of the concatenated dataframe\n",
    "    concat_scores_df.columns = hier_cols_index\n",
    "    \n",
    "    return concat_scores_df\n"
   ]
  },
  {
   "cell_type": "code",
   "execution_count": 90,
   "id": "6d9e567d",
   "metadata": {},
   "outputs": [
    {
     "name": "stdout",
     "output_type": "stream",
     "text": [
      "\n",
      "Cross-validating Tfidf_Train LogisticRegression\n",
      "5-fold cross validation results:\n",
      "0.68 f-1 score with a standard deviation of 0.03\n",
      "accuracy score 0.707\n",
      "\n",
      "Cross-validating Tfidf_Train NaiveBayes\n",
      "5-fold cross validation results:\n",
      "0.56 f-1 score with a standard deviation of 0.03\n",
      "accuracy score 0.731\n",
      "\n",
      "Cross-validating Tfidf_Train CompNaiveBayes\n",
      "5-fold cross validation results:\n",
      "0.67 f-1 score with a standard deviation of 0.03\n",
      "accuracy score 0.689\n",
      "\n",
      "Cross-validating Tfidf_Train RandomForest\n",
      "5-fold cross validation results:\n",
      "0.60 f-1 score with a standard deviation of 0.05\n",
      "accuracy score 0.709\n",
      "------------------------------------\n",
      "\n",
      "Cross-validating Count_Train LogisticRegression\n",
      "5-fold cross validation results:\n",
      "0.64 f-1 score with a standard deviation of 0.05\n",
      "accuracy score 0.687\n",
      "\n",
      "Cross-validating Count_Train NaiveBayes\n",
      "5-fold cross validation results:\n",
      "0.70 f-1 score with a standard deviation of 0.03\n",
      "accuracy score 0.749\n",
      "\n",
      "Cross-validating Count_Train CompNaiveBayes\n",
      "5-fold cross validation results:\n",
      "0.68 f-1 score with a standard deviation of 0.02\n",
      "accuracy score 0.709\n",
      "\n",
      "Cross-validating Count_Train RandomForest\n",
      "5-fold cross validation results:\n",
      "0.60 f-1 score with a standard deviation of 0.03\n",
      "accuracy score 0.714\n",
      "------------------------------------\n",
      "\n",
      "Cross-validating Count_Norm_Train LogisticRegression\n",
      "5-fold cross validation results:\n",
      "0.69 f-1 score with a standard deviation of 0.04\n",
      "accuracy score 0.716\n",
      "\n",
      "Cross-validating Count_Norm_Train NaiveBayes\n",
      "5-fold cross validation results:\n",
      "0.51 f-1 score with a standard deviation of 0.04\n",
      "accuracy score 0.722\n",
      "\n",
      "Cross-validating Count_Norm_Train CompNaiveBayes\n",
      "5-fold cross validation results:\n",
      "0.66 f-1 score with a standard deviation of 0.04\n",
      "accuracy score 0.692\n",
      "\n",
      "Cross-validating Count_Norm_Train RandomForest\n",
      "5-fold cross validation results:\n",
      "0.61 f-1 score with a standard deviation of 0.04\n",
      "accuracy score 0.725\n",
      "------------------------------------\n"
     ]
    },
    {
     "data": {
      "text/html": [
       "<div>\n",
       "<style scoped>\n",
       "    .dataframe tbody tr th:only-of-type {\n",
       "        vertical-align: middle;\n",
       "    }\n",
       "\n",
       "    .dataframe tbody tr th {\n",
       "        vertical-align: top;\n",
       "    }\n",
       "\n",
       "    .dataframe thead tr th {\n",
       "        text-align: left;\n",
       "    }\n",
       "</style>\n",
       "<table border=\"1\" class=\"dataframe\">\n",
       "  <thead>\n",
       "    <tr>\n",
       "      <th>TrainDs</th>\n",
       "      <th colspan=\"3\" halign=\"left\">Tfidf_Train</th>\n",
       "      <th colspan=\"3\" halign=\"left\">Count_Train</th>\n",
       "      <th colspan=\"3\" halign=\"left\">Count_Norm_Train</th>\n",
       "    </tr>\n",
       "    <tr>\n",
       "      <th>Score</th>\n",
       "      <th>f1_mean</th>\n",
       "      <th>f1_std</th>\n",
       "      <th>accuracy</th>\n",
       "      <th>f1_mean</th>\n",
       "      <th>f1_std</th>\n",
       "      <th>accuracy</th>\n",
       "      <th>f1_mean</th>\n",
       "      <th>f1_std</th>\n",
       "      <th>accuracy</th>\n",
       "    </tr>\n",
       "  </thead>\n",
       "  <tbody>\n",
       "    <tr>\n",
       "      <th>LogisticRegression</th>\n",
       "      <td>0.677</td>\n",
       "      <td>0.035</td>\n",
       "      <td>0.707</td>\n",
       "      <td>0.640</td>\n",
       "      <td>0.052</td>\n",
       "      <td>0.687</td>\n",
       "      <td>0.687</td>\n",
       "      <td>0.041</td>\n",
       "      <td>0.716</td>\n",
       "    </tr>\n",
       "    <tr>\n",
       "      <th>NaiveBayes</th>\n",
       "      <td>0.561</td>\n",
       "      <td>0.027</td>\n",
       "      <td>0.731</td>\n",
       "      <td>0.698</td>\n",
       "      <td>0.028</td>\n",
       "      <td>0.749</td>\n",
       "      <td>0.506</td>\n",
       "      <td>0.044</td>\n",
       "      <td>0.722</td>\n",
       "    </tr>\n",
       "    <tr>\n",
       "      <th>CompNaiveBayes</th>\n",
       "      <td>0.669</td>\n",
       "      <td>0.028</td>\n",
       "      <td>0.689</td>\n",
       "      <td>0.682</td>\n",
       "      <td>0.024</td>\n",
       "      <td>0.709</td>\n",
       "      <td>0.663</td>\n",
       "      <td>0.036</td>\n",
       "      <td>0.692</td>\n",
       "    </tr>\n",
       "    <tr>\n",
       "      <th>RandomForest</th>\n",
       "      <td>0.601</td>\n",
       "      <td>0.053</td>\n",
       "      <td>0.709</td>\n",
       "      <td>0.600</td>\n",
       "      <td>0.026</td>\n",
       "      <td>0.714</td>\n",
       "      <td>0.613</td>\n",
       "      <td>0.038</td>\n",
       "      <td>0.725</td>\n",
       "    </tr>\n",
       "  </tbody>\n",
       "</table>\n",
       "</div>"
      ],
      "text/plain": [
       "TrainDs            Tfidf_Train                 Count_Train                  \\\n",
       "Score                  f1_mean f1_std accuracy     f1_mean f1_std accuracy   \n",
       "LogisticRegression       0.677  0.035    0.707       0.640  0.052    0.687   \n",
       "NaiveBayes               0.561  0.027    0.731       0.698  0.028    0.749   \n",
       "CompNaiveBayes           0.669  0.028    0.689       0.682  0.024    0.709   \n",
       "RandomForest             0.601  0.053    0.709       0.600  0.026    0.714   \n",
       "\n",
       "TrainDs            Count_Norm_Train                  \n",
       "Score                       f1_mean f1_std accuracy  \n",
       "LogisticRegression            0.687  0.041    0.716  \n",
       "NaiveBayes                    0.506  0.044    0.722  \n",
       "CompNaiveBayes                0.663  0.036    0.692  \n",
       "RandomForest                  0.613  0.038    0.725  "
      ]
     },
     "execution_count": 90,
     "metadata": {},
     "output_type": "execute_result"
    }
   ],
   "source": [
    "# selected models\n",
    "lr_clf = LogisticRegression(class_weight=\"balanced\", random_state=54)\n",
    "nb_clf = MultinomialNB()\n",
    "cnb_clf = ComplementNB()\n",
    "rfr_clf = RandomForestClassifier(class_weight = {'a': 3, 's': 1}, random_state=54)\n",
    "\n",
    "models_data = { \"LogisticRegression\": lr_clf,\n",
    "                \"NaiveBayes\" : nb_clf,\n",
    "                \"CompNaiveBayes\" : cnb_clf,\n",
    "                \"RandomForest\": rfr_clf }\n",
    "X_train_sets = { \"Tfidf_Train\" : tfidf_train,\n",
    "                 \"Count_Train\" : count_train,\n",
    "                 #\"Tfidf_Norm_Train\" : tfidf_norm_train,\n",
    "                 \"Count_Norm_Train\" : count_norm_train }\n",
    "\n",
    "all_scores_df = cvtrain_models_ds(models_data, X_train_sets, y_train )\n",
    "all_scores_df\n"
   ]
  },
  {
   "cell_type": "markdown",
   "id": "fcd65ff5",
   "metadata": {},
   "source": [
    "### 4.1 Model Selection and Evaluation\n",
    "\n",
    "Comparing the mean F1 scores of the models in the above table, we see that Naive Bayes trained on count vectors has the highest F1-score of 0.698.  But on the other hand, the same model has the lowest score of 0.506 when trained on the normalized Count vectors.  The low score is close to the F1-score of 0.561 for the NB model trained on TF-IDF vectors.  This suggests that the good performance of Naive Bayes might have been due to the effect of length.  If this is true, then the NB model will not generalize well to data which have short reviews.\n",
    "\n",
    "Since the Logistic Regression (LR) has consistently good performance across the training sets, and since there exist feature weights which are available for gaining some degree of explainability, we choose the LR model as the classifier.\n",
    "\n",
    "Next, we evaluate the LR model using the test sets of the feature types.  The metrics are F1-score and Accuracy.  The confusion matrix is displayed as well."
   ]
  },
  {
   "cell_type": "code",
   "execution_count": 91,
   "id": "7ebb2abd",
   "metadata": {},
   "outputs": [
    {
     "name": "stdout",
     "output_type": "stream",
     "text": [
      "F-1 Score: 0.667\n",
      "Accuracy Score: 0.697\n"
     ]
    },
    {
     "data": {
      "image/png": "[encoded data removed]",
      "text/plain": [
       "<Figure size 756x252 with 2 Axes>"
      ]
     },
     "metadata": {
      "needs_background": "light"
     },
     "output_type": "display_data"
    }
   ],
   "source": [
    "# Here, we train the LR model on the Count (or BOW) vectors\n",
    "lr_count_model = LogisticRegression(class_weight=\"balanced\", random_state=54)\n",
    "lr_count_model = evaluate_classifier(lr_count_model, count_train, count_test, y_train, y_test)"
   ]
  },
  {
   "cell_type": "code",
   "execution_count": 92,
   "id": "255955a3",
   "metadata": {},
   "outputs": [
    {
     "name": "stdout",
     "output_type": "stream",
     "text": [
      "F-1 Score: 0.733\n",
      "Accuracy Score: 0.757\n"
     ]
    },
    {
     "data": {
      "image/png": "[encoded data removed]",
      "text/plain": [
       "<Figure size 756x252 with 2 Axes>"
      ]
     },
     "metadata": {
      "needs_background": "light"
     },
     "output_type": "display_data"
    }
   ],
   "source": [
    "# LR model is trained on the normalized Count vectors\n",
    "lr_model = LogisticRegression(class_weight=\"balanced\", random_state=54)\n",
    "lr_count_norm_model = evaluate_classifier(lr_model, count_norm_train, count_norm_test, y_train, y_test)"
   ]
  },
  {
   "cell_type": "code",
   "execution_count": 93,
   "id": "d53b5fb8",
   "metadata": {},
   "outputs": [
    {
     "name": "stdout",
     "output_type": "stream",
     "text": [
      "F-1 Score: 0.721\n",
      "Accuracy Score: 0.743\n"
     ]
    },
    {
     "data": {
      "image/png": "[encoded data removed]",
      "text/plain": [
       "<Figure size 756x252 with 2 Axes>"
      ]
     },
     "metadata": {
      "needs_background": "light"
     },
     "output_type": "display_data"
    }
   ],
   "source": [
    "# LR model trained on the tfidf vectors\n",
    "lr_tfidf_model = LogisticRegression(class_weight=\"balanced\", random_state=54)\n",
    "lr_tfidf_model = evaluate_classifier(lr_tfidf_model, tfidf_train, tfidf_test, y_train, y_test)"
   ]
  },
  {
   "cell_type": "markdown",
   "id": "e83cd7bd",
   "metadata": {},
   "source": [
    "### 4.2 Summary of Evaluation Results:\n",
    "\n",
    "The LR model trained on the normalized Count-vectors have the best F1 score of 0.733, which is followed very closely by the score of 0.721 from the model trained on TF-IDF vectors.  The confusion matrices of both models are very similar and show that the TF-IDF is erring on the side of caution for having 2 more false positives (where positive='a') than the count-normalized model.  The accuracy scores of the two models are also very close: 0.757 and 0.721.  All of this suggest that the TF-IDF vectors are very similar to the normalized Count vectors in this dataset.  This also suggest that the IDF (inverse document frequency) does not make much a difference for this collection of reviews.  Indeed, the quick look (section 4.2.1) at the distribution of the IDF values show a limited range of \\[1.61, 3.942\\], with more than 50% idfs being greater than 3.\n",
    "\n",
    "The F1-score and accuracy for the LR model trained on the (unnormalized) Count-vectors are 0.667 and 0.697 respectively.  Clearly the performance falls below that of the previous two models.  "
   ]
  },
  {
   "cell_type": "markdown",
   "id": "d74b21ba",
   "metadata": {},
   "source": [
    "#### 4.2.1 A Quick Look at the IDF Values"
   ]
  },
  {
   "cell_type": "code",
   "execution_count": 94,
   "id": "f8feab3b",
   "metadata": {},
   "outputs": [
    {
     "data": {
      "text/html": [
       "<div>\n",
       "<style scoped>\n",
       "    .dataframe tbody tr th:only-of-type {\n",
       "        vertical-align: middle;\n",
       "    }\n",
       "\n",
       "    .dataframe tbody tr th {\n",
       "        vertical-align: top;\n",
       "    }\n",
       "\n",
       "    .dataframe thead th {\n",
       "        text-align: right;\n",
       "    }\n",
       "</style>\n",
       "<table border=\"1\" class=\"dataframe\">\n",
       "  <thead>\n",
       "    <tr style=\"text-align: right;\">\n",
       "      <th></th>\n",
       "      <th>count</th>\n",
       "      <th>mean</th>\n",
       "      <th>std</th>\n",
       "      <th>min</th>\n",
       "      <th>25%</th>\n",
       "      <th>50%</th>\n",
       "      <th>75%</th>\n",
       "      <th>max</th>\n",
       "    </tr>\n",
       "  </thead>\n",
       "  <tbody>\n",
       "    <tr>\n",
       "      <th>idf_weights</th>\n",
       "      <td>104.0</td>\n",
       "      <td>3.309975</td>\n",
       "      <td>0.566312</td>\n",
       "      <td>1.161873</td>\n",
       "      <td>3.035244</td>\n",
       "      <td>3.444077</td>\n",
       "      <td>3.788093</td>\n",
       "      <td>3.942244</td>\n",
       "    </tr>\n",
       "  </tbody>\n",
       "</table>\n",
       "</div>"
      ],
      "text/plain": [
       "             count      mean       std       min       25%       50%  \\\n",
       "idf_weights  104.0  3.309975  0.566312  1.161873  3.035244  3.444077   \n",
       "\n",
       "                  75%       max  \n",
       "idf_weights  3.788093  3.942244  "
      ]
     },
     "execution_count": 94,
     "metadata": {},
     "output_type": "execute_result"
    },
    {
     "data": {
      "image/png": "[encoded data removed]",
      "text/plain": [
       "<Figure size 756x252 with 1 Axes>"
      ]
     },
     "metadata": {
      "needs_background": "light"
     },
     "output_type": "display_data"
    }
   ],
   "source": [
    "# Create an IDF dataframe for examining the idf values for the tokens\n",
    "df_idf = pd.DataFrame(tfidf_vectorizer.idf_, \n",
    "                      index=tfidf_vectorizer.get_feature_names_out(),columns=[\"idf_weights\"])\n",
    "df_idf['idf_weights'].plot.hist()\n",
    "df_idf.describe().T"
   ]
  },
  {
   "cell_type": "markdown",
   "id": "290ad8e2",
   "metadata": {},
   "source": [
    "### 4.3 A Deeper Look at the Models: Feature Weights\n",
    "\n",
    "The top 15 features for reviews labelled \"adult\" and top 15 features for reviews labelled \"safe\" are retrieved from the three fitted LR models.\n",
    "\n",
    "For the Count-vector model, the top words for \"adult\" reviews include meaningful words such as \"teen\", \"gore\", \"language\", \"mature\".  However, other words such as \"try\", \"turn\", \"use\" are harder to explain.\n",
    "\n",
    "For the normalized Count-vector and TF-IDF models, the top 15 words for \"a\" reviews are the same, although differing in order of size of the weights.\n",
    "\n",
    "Comparing the top 15 words for 'a' reviews between the Count model and the normalized models, we see that the three words from the Count model: \"come\", \"try\", \"main\", are replaced by these words in the normalized models: \"violence\", \"child\", \"player\".  It seems to me that the last three words are more semantically attuned to the domain and their meanings readily account for the \"a\" label."
   ]
  },
  {
   "cell_type": "code",
   "execution_count": 95,
   "id": "51076342",
   "metadata": {},
   "outputs": [
    {
     "name": "stdout",
     "output_type": "stream",
     "text": [
      "\n",
      "Top 15 words for reviews labelled adult\n",
      "[('teen', -1.4039939235717436), ('shoot', -0.9754331766464568), ('gore', -0.8843202664368648), ('turn', -0.8835241248169712), ('make', -0.868457849461591), ('language', -0.7895603875094064), ('come', -0.773067012620972), ('mature', -0.7659229427850953), ('story', -0.6936049950292896), ('use', -0.6829394407735039), ('enemy', -0.6718492301748236), ('try', -0.6651576130068109), ('lot', -0.6038862096956533), ('content', -0.5755299241986711), ('main', -0.5143088163725179)]\n",
      "\n",
      "Top 15 words for reviews labelled safe\n",
      "[('help', 1.4449896169859036), ('thing', 1.20492422280601), ('easy', 1.1331910224595656), ('fight', 0.9219800238201943), ('mild', 0.8716134237860206), ('new', 0.8244250556798354), ('point', 0.8093636612184412), ('forza', 0.7790459376316256), ('start', 0.7759995779998722), ('review', 0.7688440343085989), ('rat', 0.7012373532426067), ('old', 0.6914215317829202), ('video', 0.6468736607655752), ('life', 0.6441037217360815), ('online', 0.5725111161257507)]\n"
     ]
    }
   ],
   "source": [
    "# Investigate the feature weights for the LR model trained on the Count vectors\n",
    "coefs_dict = dict(zip(count_vectorizer.get_feature_names_out(), lr_count_model.coef_[0]))\n",
    "sorted_coefs = sorted(coefs_dict.items(), key=lambda x: x[1], reverse=True) \n",
    "\n",
    "print(\"\\nTop 15 words for reviews labelled adult\")\n",
    "print(sorted_coefs[-15:][::-1])\n",
    "\n",
    "print(\"\\nTop 15 words for reviews labelled safe\")\n",
    "print(sorted_coefs[:15])"
   ]
  },
  {
   "cell_type": "code",
   "execution_count": 96,
   "id": "e0a15539",
   "metadata": {},
   "outputs": [
    {
     "name": "stdout",
     "output_type": "stream",
     "text": [
      "\n",
      "Top 15 words for reviews labelled adult\n",
      "[('gore', -1.7565054244653489), ('turn', -1.7243127045677695), ('mature', -1.6816021833154209), ('make', -1.6561702420721083), ('language', -1.6517010055422803), ('child', -1.5667033518831364), ('teen', -1.3961561940107268), ('player', -1.3471259203018722), ('enemy', -1.3379052268194156), ('violence', -1.3163198327381491), ('story', -1.252176537001595), ('lot', -1.2134306835621176), ('shoot', -1.0876463801837617), ('use', -1.004293143450446), ('content', -0.999659007565982)]\n",
      "\n",
      "Top 15 words for reviews labelled safe\n",
      "[('fun', 1.0997745544843203), ('forza', 1.0191659560242061), ('easy', 0.9544251400779301), ('amazing', 0.8835142675813705), ('new', 0.8821386999722853), ('thing', 0.8453807713868864), ('mild', 0.7803914552116076), ('rat', 0.684618190380124), ('bad', 0.5874639269050685), ('old', 0.5857265546630639), ('review', 0.5510806650797918), ('fight', 0.5212206971594896), ('world', 0.5206682176810844), ('real', 0.4911608538779104), ('start', 0.47942707799780915)]\n"
     ]
    }
   ],
   "source": [
    "# Investigate the feature weights for the LR model trained on the L2-normalized Count vectors\n",
    "coefs_dict = dict(zip(count_norm_vectorizer.get_feature_names_out(), lr_count_norm_model.coef_[0]))\n",
    "sorted_coefs = sorted(coefs_dict.items(), key=lambda x: x[1], reverse=True) \n",
    "\n",
    "print(\"\\nTop 15 words for reviews labelled adult\")\n",
    "print(sorted_coefs[-15:][::-1])\n",
    "\n",
    "print(\"\\nTop 15 words for reviews labelled safe\")\n",
    "print(sorted_coefs[:15])"
   ]
  },
  {
   "cell_type": "code",
   "execution_count": 97,
   "id": "6f12866b",
   "metadata": {},
   "outputs": [
    {
     "name": "stdout",
     "output_type": "stream",
     "text": [
      "\n",
      "Top 15 words for reviews labelled adult\n",
      "[('turn', -1.7137922201233693), ('mature', -1.66923038350814), ('teen', -1.6543198726652864), ('gore', -1.5993047274266112), ('make', -1.5922081430976482), ('language', -1.5587273086126578), ('violence', -1.4029698043811987), ('child', -1.3828675828488388), ('enemy', -1.309547462059202), ('player', -1.2888188230891562), ('shoot', -1.2733721642260034), ('story', -1.2439123575057285), ('lot', -1.173846458040536), ('use', -1.067393484923065), ('content', -0.9702637170902642)]\n",
      "\n",
      "Top 15 words for reviews labelled safe\n",
      "[('fun', 1.2433815184068355), ('easy', 1.0677845635069934), ('forza', 1.0387625858990346), ('new', 1.0353656692946884), ('thing', 0.9857505762648137), ('amazing', 0.8569488163819692), ('game', 0.8366311156762215), ('rat', 0.7969404611012841), ('mild', 0.7591945524054364), ('start', 0.6719715723919066), ('fight', 0.6455577088722014), ('bad', 0.637423516004415), ('review', 0.6309382047556553), ('old', 0.5853231178319025), ('help', 0.5450525960253839)]\n"
     ]
    }
   ],
   "source": [
    "# Investigate the feature weights for the LR model trained on the Tf-idf vectors\n",
    "coefs_dict = dict(zip(tfidf_vectorizer.get_feature_names_out(), lr_tfidf_model.coef_[0]))\n",
    "sorted_coefs = sorted(coefs_dict.items(), key=lambda x: x[1], reverse=True) \n",
    "\n",
    "print(\"\\nTop 15 words for reviews labelled adult\")\n",
    "print(sorted_coefs[-15:][::-1])\n",
    "\n",
    "print(\"\\nTop 15 words for reviews labelled safe\")\n",
    "print(sorted_coefs[:15])"
   ]
  },
  {
   "cell_type": "markdown",
   "id": "3b28d7d1",
   "metadata": {},
   "source": [
    "## 5. Conclusion\n",
    "\n",
    "In this project, we compare the performance of two Bag-of-Words (BOW) models for text representation in a classification task: Count vs TF-IDF.  The task is to classify a review as expressing whether the game under review is safe or otherwise.  The reviews dataset contains 605 reviews, which we split into train/test sets in the ratio 0.75:0.25.  Logistic Regression (LR) is selected as the classifier model.\n",
    "\n",
    "The results of classification are summarized in the following table:\n",
    "\n",
    "| Metric | Count | TF-IDF | Count (normalized) |\n",
    "| --- | --- | --- | --- |\n",
    "| F1-Score | .667  | .733 | .721 |\n",
    "| Accuracy | .697 | .757 | .743 |\n",
    "\n",
    "The metrics show that the TF-IDF outperforms the Count model on both F1-score and Accuracy.  On the other hand, the performance of TF-IDF is very close to the L2-normalized Count vectors.  On examining the distribution of the IDF values of the TF-IDF model, we see that the IDFs have a limited range of \\[1.61, 3.942\\], with more than 50% of the values being larger than 3.0.  This suggests that IDF does not have much impact in this set of reviews.  Hence, the disparity in performance between Count and TF-IDF might be explained by feature normalization or lack thereof.  In other words, the boost in performance of the LR model is accounted for by feature scaling.  \n",
    "\n",
    "We have shown that the TF-IDF model is better suited for this application.  It is conceivable that where feature scaling is not important e.g. in Random Forest models, the Count model could outperform the TF-IDF model.  So, the decision of which model is better really depends on the use case.\n",
    "\n",
    "Overall, the performance of the BOW models in this classification task is not impressive.  A major reason is certainly the small size of the dataset.  Other reasons are well known to be the limitations of BOW models such as violation of feature independence assumptions, and lack of representation for word context and word order."
   ]
  }
 ],
 "metadata": {
  "kernelspec": {
   "display_name": "Python 3 (ipykernel)",
   "language": "python",
   "name": "python3"
  },
  "language_info": {
   "codemirror_mode": {
    "name": "ipython",
    "version": 3
   },
   "file_extension": ".py",
   "mimetype": "text/x-python",
   "name": "python",
   "nbconvert_exporter": "python",
   "pygments_lexer": "ipython3",
   "version": "3.8.9"
  }
 },
 "nbformat": 4,
 "nbformat_minor": 5
}
