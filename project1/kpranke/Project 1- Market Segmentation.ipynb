{
 "cells": [
  {
   "cell_type": "markdown",
   "id": "9e2b6ac3",
   "metadata": {},
   "source": [
    "# Project One: Market Segmentation"
   ]
  },
  {
   "cell_type": "markdown",
   "id": "679d78e3",
   "metadata": {},
   "source": [
    "Market segmentation of computer games based on reviews scraped from https://www.commonsensemedia.org/ website. "
   ]
  },
  {
   "cell_type": "code",
   "execution_count": 1,
   "id": "c96497ab",
   "metadata": {},
   "outputs": [
    {
     "name": "stderr",
     "output_type": "stream",
     "text": [
      "[nltk_data] Downloading package stopwords to\n",
      "[nltk_data]     C:\\Users\\kasia\\AppData\\Roaming\\nltk_data...\n",
      "[nltk_data]   Package stopwords is already up-to-date!\n",
      "[nltk_data] Downloading package punkt to\n",
      "[nltk_data]     C:\\Users\\kasia\\AppData\\Roaming\\nltk_data...\n",
      "[nltk_data]   Package punkt is already up-to-date!\n"
     ]
    }
   ],
   "source": [
    "import pandas as pd\n",
    "import numpy as np\n",
    "import matplotlib.pyplot as plt\n",
    "import seaborn as sns\n",
    "import nltk\n",
    "nltk.download('stopwords')\n",
    "nltk.download('punkt')\n",
    "from nltk.corpus import stopwords\n",
    "from nltk.tokenize import word_tokenize \n",
    "from nltk.stem import WordNetLemmatizer\n",
    "\n",
    "from sklearn.model_selection import cross_val_score\n",
    "from sklearn.model_selection import cross_val_predict\n",
    "from sklearn.metrics import confusion_matrix\n",
    "from sklearn.model_selection import KFold\n",
    "from sklearn.model_selection import GridSearchCV, RandomizedSearchCV\n",
    "from sklearn.feature_extraction.text import CountVectorizer, TfidfVectorizer\n",
    "from sklearn.model_selection import train_test_split\n",
    "from sklearn.naive_bayes import MultinomialNB\n",
    "from sklearn.svm import LinearSVC, SVC\n",
    "from sklearn import metrics\n",
    "from sklearn.ensemble import RandomForestClassifier, AdaBoostClassifier, BaggingClassifier, GradientBoostingClassifier\n",
    " \n",
    "lemmatizer = WordNetLemmatizer()\n",
    "# set of stop words\n",
    "stop_words = set(stopwords.words('english')) "
   ]
  },
  {
   "cell_type": "code",
   "execution_count": 2,
   "id": "103cbb4a",
   "metadata": {},
   "outputs": [],
   "source": [
    "# Load scraped data into a dataframe\n",
    "df = pd.read_csv('csmedia_reviews.csv')"
   ]
  },
  {
   "cell_type": "code",
   "execution_count": 3,
   "id": "ef3851b3",
   "metadata": {},
   "outputs": [],
   "source": [
    "# Drop unnecessary columns and rename the others\n",
    "del df['game_url']\n",
    "df = df.rename({'game_review': 'review', 'game_age': 'recommended_age', }, axis=1) "
   ]
  },
  {
   "cell_type": "code",
   "execution_count": 4,
   "id": "46e6f43b",
   "metadata": {},
   "outputs": [
    {
     "data": {
      "text/html": [
       "<div>\n",
       "<style scoped>\n",
       "    .dataframe tbody tr th:only-of-type {\n",
       "        vertical-align: middle;\n",
       "    }\n",
       "\n",
       "    .dataframe tbody tr th {\n",
       "        vertical-align: top;\n",
       "    }\n",
       "\n",
       "    .dataframe thead th {\n",
       "        text-align: right;\n",
       "    }\n",
       "</style>\n",
       "<table border=\"1\" class=\"dataframe\">\n",
       "  <thead>\n",
       "    <tr style=\"text-align: right;\">\n",
       "      <th></th>\n",
       "      <th>game_name</th>\n",
       "      <th>review</th>\n",
       "      <th>recommended_age</th>\n",
       "    </tr>\n",
       "  </thead>\n",
       "  <tbody>\n",
       "    <tr>\n",
       "      <th>0</th>\n",
       "      <td>Cars 2: The Video Game</td>\n",
       "      <td>Great combat racing, but loads of gunfire and ...</td>\n",
       "      <td>age 10+</td>\n",
       "    </tr>\n",
       "    <tr>\n",
       "      <th>1</th>\n",
       "      <td>Deus Ex: Human Revolution</td>\n",
       "      <td>Mature themes, violence accompany mech-enhance...</td>\n",
       "      <td>age 18+</td>\n",
       "    </tr>\n",
       "    <tr>\n",
       "      <th>2</th>\n",
       "      <td>Gears of War 3</td>\n",
       "      <td>Explosive, violent, and gory finale to the sci...</td>\n",
       "      <td>age 18+</td>\n",
       "    </tr>\n",
       "    <tr>\n",
       "      <th>3</th>\n",
       "      <td>FIFA Soccer 12</td>\n",
       "      <td>One of the best (and best-looking) sports simu...</td>\n",
       "      <td>age 8+</td>\n",
       "    </tr>\n",
       "    <tr>\n",
       "      <th>4</th>\n",
       "      <td>Forza Motorsport 4</td>\n",
       "      <td>Excellent racing sim that's easy to play but h...</td>\n",
       "      <td>age 10+</td>\n",
       "    </tr>\n",
       "  </tbody>\n",
       "</table>\n",
       "</div>"
      ],
      "text/plain": [
       "                   game_name  \\\n",
       "0     Cars 2: The Video Game   \n",
       "1  Deus Ex: Human Revolution   \n",
       "2             Gears of War 3   \n",
       "3             FIFA Soccer 12   \n",
       "4         Forza Motorsport 4   \n",
       "\n",
       "                                              review recommended_age  \n",
       "0  Great combat racing, but loads of gunfire and ...         age 10+  \n",
       "1  Mature themes, violence accompany mech-enhance...         age 18+  \n",
       "2  Explosive, violent, and gory finale to the sci...         age 18+  \n",
       "3  One of the best (and best-looking) sports simu...          age 8+  \n",
       "4  Excellent racing sim that's easy to play but h...         age 10+  "
      ]
     },
     "execution_count": 4,
     "metadata": {},
     "output_type": "execute_result"
    }
   ],
   "source": [
    "df.head()"
   ]
  },
  {
   "cell_type": "code",
   "execution_count": 5,
   "id": "83ee30d6",
   "metadata": {},
   "outputs": [],
   "source": [
    "# Clean the recommended age column and change to integer\n",
    "df['recommended_age'] = df['recommended_age'].apply(lambda x: int(x.replace(\"age \", \"\").replace(\"+\", \"\")))"
   ]
  },
  {
   "cell_type": "code",
   "execution_count": 6,
   "id": "0c268bd3",
   "metadata": {},
   "outputs": [],
   "source": [
    "# Create a new column 'child safe' based on the recommended age column: if recommended age < 10: 1, else: 0\n",
    "\n",
    "# Create a list of conditions\n",
    "conditions = [\n",
    "    (df['recommended_age'] < 10),\n",
    "    (df['recommended_age'] > 10) \n",
    "    ]\n",
    "\n",
    "# Create a list of the values we want to assign for each condition\n",
    "values = [1, 0]\n",
    "\n",
    "# Create a new column and use np.select to assign values to it using the above lists as arguments\n",
    "df['child_safe'] = np.select(conditions, values)"
   ]
  },
  {
   "cell_type": "code",
   "execution_count": 7,
   "id": "7e5eeae9",
   "metadata": {},
   "outputs": [
    {
     "data": {
      "text/plain": [
       "0    496\n",
       "1    124\n",
       "Name: child_safe, dtype: int64"
      ]
     },
     "execution_count": 7,
     "metadata": {},
     "output_type": "execute_result"
    }
   ],
   "source": [
    "df['child_safe'].value_counts()"
   ]
  },
  {
   "cell_type": "code",
   "execution_count": 8,
   "id": "453d1ca4",
   "metadata": {},
   "outputs": [
    {
     "data": {
      "image/png": "[encoded data removed]",
      "text/plain": [
       "<Figure size 432x288 with 1 Axes>"
      ]
     },
     "metadata": {
      "needs_background": "light"
     },
     "output_type": "display_data"
    }
   ],
   "source": [
    "# Plot value_counts of the 'child safe' column\n",
    "df['child_safe'].value_counts().plot(kind='bar')\n",
    "plt.xlabel(\"Child-safe\", labelpad=14)\n",
    "plt.ylabel(\"Count of reviews\", labelpad=14)\n",
    "plt.title(\"Count of reviews by safety for children\", y=1.02);"
   ]
  },
  {
   "cell_type": "code",
   "execution_count": 9,
   "id": "158738e4",
   "metadata": {},
   "outputs": [
    {
     "data": {
      "text/html": [
       "<div>\n",
       "<style scoped>\n",
       "    .dataframe tbody tr th:only-of-type {\n",
       "        vertical-align: middle;\n",
       "    }\n",
       "\n",
       "    .dataframe tbody tr th {\n",
       "        vertical-align: top;\n",
       "    }\n",
       "\n",
       "    .dataframe thead th {\n",
       "        text-align: right;\n",
       "    }\n",
       "</style>\n",
       "<table border=\"1\" class=\"dataframe\">\n",
       "  <thead>\n",
       "    <tr style=\"text-align: right;\">\n",
       "      <th></th>\n",
       "      <th>game_name</th>\n",
       "      <th>review</th>\n",
       "      <th>recommended_age</th>\n",
       "      <th>child_safe</th>\n",
       "    </tr>\n",
       "  </thead>\n",
       "  <tbody>\n",
       "    <tr>\n",
       "      <th>0</th>\n",
       "      <td>Cars 2: The Video Game</td>\n",
       "      <td>Great combat racing, but loads of gunfire and ...</td>\n",
       "      <td>10</td>\n",
       "      <td>0</td>\n",
       "    </tr>\n",
       "    <tr>\n",
       "      <th>1</th>\n",
       "      <td>Deus Ex: Human Revolution</td>\n",
       "      <td>Mature themes, violence accompany mech-enhance...</td>\n",
       "      <td>18</td>\n",
       "      <td>0</td>\n",
       "    </tr>\n",
       "    <tr>\n",
       "      <th>2</th>\n",
       "      <td>Gears of War 3</td>\n",
       "      <td>Explosive, violent, and gory finale to the sci...</td>\n",
       "      <td>18</td>\n",
       "      <td>0</td>\n",
       "    </tr>\n",
       "    <tr>\n",
       "      <th>3</th>\n",
       "      <td>FIFA Soccer 12</td>\n",
       "      <td>One of the best (and best-looking) sports simu...</td>\n",
       "      <td>8</td>\n",
       "      <td>1</td>\n",
       "    </tr>\n",
       "    <tr>\n",
       "      <th>4</th>\n",
       "      <td>Forza Motorsport 4</td>\n",
       "      <td>Excellent racing sim that's easy to play but h...</td>\n",
       "      <td>10</td>\n",
       "      <td>0</td>\n",
       "    </tr>\n",
       "  </tbody>\n",
       "</table>\n",
       "</div>"
      ],
      "text/plain": [
       "                   game_name  \\\n",
       "0     Cars 2: The Video Game   \n",
       "1  Deus Ex: Human Revolution   \n",
       "2             Gears of War 3   \n",
       "3             FIFA Soccer 12   \n",
       "4         Forza Motorsport 4   \n",
       "\n",
       "                                              review  recommended_age  \\\n",
       "0  Great combat racing, but loads of gunfire and ...               10   \n",
       "1  Mature themes, violence accompany mech-enhance...               18   \n",
       "2  Explosive, violent, and gory finale to the sci...               18   \n",
       "3  One of the best (and best-looking) sports simu...                8   \n",
       "4  Excellent racing sim that's easy to play but h...               10   \n",
       "\n",
       "   child_safe  \n",
       "0           0  \n",
       "1           0  \n",
       "2           0  \n",
       "3           1  \n",
       "4           0  "
      ]
     },
     "execution_count": 9,
     "metadata": {},
     "output_type": "execute_result"
    }
   ],
   "source": [
    "df.head()"
   ]
  },
  {
   "cell_type": "code",
   "execution_count": 10,
   "id": "9e209061",
   "metadata": {},
   "outputs": [
    {
     "data": {
      "text/plain": [
       "0      ['great', 'combat', 'racing', 'load', 'gunfire...\n",
       "1      ['mature', 'theme', 'violence', 'accompany', '...\n",
       "2      ['explosive', 'violent', 'gory', 'finale', 'se...\n",
       "3                 ['one', 'best', 'sport', 'simulation']\n",
       "4      ['excellent', 'racing', 'sim', 'easy', 'play',...\n",
       "                             ...                        \n",
       "615    ['epic', 'violent', 'wwii', 'shooter', 'target...\n",
       "616    ['polished', 'online', 'shooter', 'glamorizes'...\n",
       "617           ['epic', 'adventure', 'force', 'reckoned']\n",
       "618      ['excellent', 'math', 'game', 'fun', 'premise']\n",
       "619           ['great', 'game', 'mixed', 'group', 'kid']\n",
       "Name: review_preprocessed, Length: 620, dtype: object"
      ]
     },
     "execution_count": 10,
     "metadata": {},
     "output_type": "execute_result"
    }
   ],
   "source": [
    "def preprocess_review(review):\n",
    "    #remove punctuation\n",
    "    tokenized = word_tokenize(str(review)) # tokenize\n",
    "    tokenized_alnum = [word for word in tokenized if word.isalnum()] #alphanum only\n",
    "    tokens_lowercase = [token.lower() for token in tokenized_alnum] #change all to lowercase\n",
    "    lemmatized = [lemmatizer.lemmatize(token) for token in tokens_lowercase] # lemmatize\n",
    "    #add POS\n",
    "    filtered_words = [word for word in lemmatized if word not in stopwords.words('english')] #remove stopwords\n",
    "    return str(filtered_words)\n",
    "    \n",
    "df['review_preprocessed'] = df['review'].apply(lambda review: preprocess_review(review))\n",
    "df['review_preprocessed']"
   ]
  },
  {
   "cell_type": "code",
   "execution_count": 11,
   "id": "baa27138",
   "metadata": {},
   "outputs": [
    {
     "data": {
      "text/plain": [
       "0      Great combat racing, but loads of gunfire and ...\n",
       "1      Mature themes, violence accompany mech-enhance...\n",
       "2      Explosive, violent, and gory finale to the sci...\n",
       "3      One of the best (and best-looking) sports simu...\n",
       "4      Excellent racing sim that's easy to play but h...\n",
       "                             ...                        \n",
       "615    Epic, violent WWII shooter targets soldiers' e...\n",
       "616    Polished online shooter glamorizes intense gra...\n",
       "617     Epic adventure is a \"Force\" to be reckoned with.\n",
       "618                Excellent math game with fun premise.\n",
       "619        Great game to have for a mixed group of kids.\n",
       "Name: review, Length: 620, dtype: object"
      ]
     },
     "execution_count": 11,
     "metadata": {},
     "output_type": "execute_result"
    }
   ],
   "source": [
    "df['review']"
   ]
  },
  {
   "cell_type": "code",
   "execution_count": 12,
   "id": "88bd8248",
   "metadata": {},
   "outputs": [],
   "source": [
    "# define custom functions for machine learning\n",
    "def crossvalidate_classifier(model, X, y, cm=False):\n",
    "    \n",
    "    scores = cross_val_score(model, X, y, scoring='f1_macro', cv=5)\n",
    "    #scores = cross_val_score(model, X, y, scoring='accuracy', cv=5)\n",
    "    print(\"%0.2f f-1 score with a standard deviation of %0.2f\" % (scores.mean(), scores.std()))\n",
    "    y_pred = cross_val_predict(model, X, y, cv=5)\n",
    "\n",
    "    if(cm):\n",
    "        conf_mat = confusion_matrix(y, y_pred, labels=['fulfillment','other'])\n",
    "        plot_confusion_matrix(conf_mat, classes = ['fulfillment','other'])\n",
    "    \n",
    "def evaluate_classifier(model, X_train, X_test, y_train, y_test):\n",
    "      \n",
    "    # ... fit your model here ...\n",
    "    model.fit(X_train,y_train)\n",
    "\n",
    "    # Run predict on your tfidf test data to get your predictions\n",
    "    pred = model.predict(X_test)\n",
    "\n",
    "    # Calculate your accuracy using the metrics module\n",
    "    acc_score = metrics.accuracy_score(pred, y_test)\n",
    "    print(\"Accuracy Score:   %0.3f\" % acc_score)\n",
    "    \n",
    "    f1score = metrics.f1_score(pred, y_test, average='macro')\n",
    "    print(\"F-1 Score:   %0.3f\" % f1score)\n",
    "\n",
    "    # Calculate the confusion matrices for the tfidf_svc model\n",
    "    #svc_cm = metrics.confusion_matrix(y_test, pred, labels=['fulfillment','other'])\n",
    "\n",
    "    # Plot the confusion matrix using the plot_confusion_matrix function\n",
    "    #plot_confusion_matrix(svc_cm, classes = ['fulfillment','other'], title=\"Confusion Matrix\")\n",
    "    \n",
    "    return model\n",
    "\n",
    "def best_hyperparam(X_train_data, X_test_data, y_train_data, y_test_data, \n",
    "                       model, param_grid, cv=5, scoring_fit='f1_score',\n",
    "                       do_probabilities = False):\n",
    "    gs = RandomizedSearchCV(\n",
    "        estimator=model,\n",
    "        param_grid=param_grid, \n",
    "        cv=cv, \n",
    "        n_jobs=-1, \n",
    "        scoring=scoring_fit,\n",
    "        verbose=2\n",
    "    )\n",
    "    fitted_model = gs.fit(X_train_data, y_train_data, epochs=100)\n",
    "    \n",
    "    if do_probabilities:\n",
    "      pred = fitted_model.predict_proba(X_test_data)\n",
    "    else:\n",
    "      pred = fitted_model.predict(X_test_data)\n",
    "    \n",
    "    return fitted_model, pred"
   ]
  },
  {
   "cell_type": "code",
   "execution_count": 13,
   "id": "da755662",
   "metadata": {},
   "outputs": [],
   "source": [
    "\n",
    "X = df['review_preprocessed']\n",
    "y = df['child_safe']\n",
    "# Split your data into train and test sets.\n",
    "X_train, X_test, y_train, y_test = train_test_split(X, y, random_state=42, test_size=0.25, shuffle=True, stratify=y )"
   ]
  },
  {
   "cell_type": "code",
   "execution_count": 14,
   "id": "b9557c88",
   "metadata": {},
   "outputs": [],
   "source": [
    "# Initialize count vectorizer\n",
    "count_vectorizer = CountVectorizer(max_df=0.9, min_df=0.05)\n",
    "\n",
    "# Create count train and test variables\n",
    "count_train = count_vectorizer.fit_transform(X_train)\n",
    "count_test = count_vectorizer.transform(X_test)\n",
    "\n",
    "# Initialize tfidf vectorizer\n",
    "tfidf_vectorizer = TfidfVectorizer(max_df=0.9, min_df=0.05)\n",
    "\n",
    "# Create tfidf train and test variables\n",
    "tfidf_train = tfidf_vectorizer.fit_transform(X_train)\n",
    "tfidf_test = tfidf_vectorizer.transform(X_test)"
   ]
  },
  {
   "cell_type": "code",
   "execution_count": 15,
   "id": "f8c7bfe9",
   "metadata": {},
   "outputs": [
    {
     "name": "stdout",
     "output_type": "stream",
     "text": [
      "(465, 50) (465, 50)\n",
      "{'great': 23, 'combat': 6, 'racing': 34, 'load': 28, 'gunfire': 25, 'explosion': 12, 'violent': 48, 'greatest': 24, 'hit': 27, 'bundle': 3, 'loaded': 29, 'feature': 15, 'shooter': 38, 'violence': 47, 'one': 31, 'best': 1, 'sport': 42, 'simulation': 40, 'fun': 20, 'game': 21, 'bloody': 2, 'fantastic': 14, 'frantic': 19, 'open': 32, 'chat': 4, 'vast': 46, 'adventure': 0, 'epic': 9, 'wwii': 49, 'target': 44, 'soldier': 41, 'emotional': 8, 'toll': 45, 'explosive': 13, 'gory': 22, 'finale': 16, 'series': 37, 'excellent': 10, 'sim': 39, 'easy': 7, 'play': 33, 'ha': 26, 'mature': 30, 'rpg': 36, 'force': 18, 'reckoned': 35, 'exceptional': 11, 'take': 43, 'checkered': 5, 'flag': 17}\n"
     ]
    }
   ],
   "source": [
    "print(count_train.shape, tfidf_train.shape)\n",
    "print(count_vectorizer.vocabulary_)"
   ]
  },
  {
   "cell_type": "code",
   "execution_count": 16,
   "id": "9171d8bb",
   "metadata": {},
   "outputs": [
    {
     "name": "stdout",
     "output_type": "stream",
     "text": [
      "1.00 f-1 score with a standard deviation of 0.00\n"
     ]
    }
   ],
   "source": [
    "# Random Forest with Bag of Words\n",
    "crossvalidate_classifier(RandomForestClassifier(), count_train, y_train)"
   ]
  },
  {
   "cell_type": "code",
   "execution_count": 17,
   "id": "49a09916",
   "metadata": {},
   "outputs": [
    {
     "name": "stdout",
     "output_type": "stream",
     "text": [
      "1.00 f-1 score with a standard deviation of 0.00\n"
     ]
    }
   ],
   "source": [
    "# Random Forest with tf-idf \n",
    "crossvalidate_classifier(RandomForestClassifier(), tfidf_train, y_train)"
   ]
  },
  {
   "cell_type": "code",
   "execution_count": 18,
   "id": "47ad105f",
   "metadata": {},
   "outputs": [
    {
     "name": "stdout",
     "output_type": "stream",
     "text": [
      "1.00 f-1 score with a standard deviation of 0.00\n"
     ]
    }
   ],
   "source": [
    "# Gradient Boosting with Bag of Words\n",
    "crossvalidate_classifier(GradientBoostingClassifier(), count_train, y_train)"
   ]
  },
  {
   "cell_type": "code",
   "execution_count": 19,
   "id": "64a12565",
   "metadata": {},
   "outputs": [
    {
     "name": "stdout",
     "output_type": "stream",
     "text": [
      "1.00 f-1 score with a standard deviation of 0.00\n"
     ]
    }
   ],
   "source": [
    "# Gradient Boosting with tfidf\n",
    "crossvalidate_classifier(GradientBoostingClassifier(), tfidf_train, y_train)"
   ]
  },
  {
   "cell_type": "code",
   "execution_count": null,
   "id": "0fff7091",
   "metadata": {},
   "outputs": [],
   "source": []
  },
  {
   "cell_type": "code",
   "execution_count": null,
   "id": "18dd5a24",
   "metadata": {},
   "outputs": [],
   "source": []
  },
  {
   "cell_type": "code",
   "execution_count": null,
   "id": "7336566e",
   "metadata": {},
   "outputs": [],
   "source": []
  }
 ],
 "metadata": {
  "kernelspec": {
   "display_name": "Python 3 (ipykernel)",
   "language": "python",
   "name": "python3"
  },
  "language_info": {
   "codemirror_mode": {
    "name": "ipython",
    "version": 3
   },
   "file_extension": ".py",
   "mimetype": "text/x-python",
   "name": "python",
   "nbconvert_exporter": "python",
   "pygments_lexer": "ipython3",
   "version": "3.9.4"
  }
 },
 "nbformat": 4,
 "nbformat_minor": 5
}
